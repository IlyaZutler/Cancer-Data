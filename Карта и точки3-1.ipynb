{
  "nbformat": 4,
  "nbformat_minor": 0,
  "metadata": {
    "colab": {
      "provenance": [],
      "authorship_tag": "ABX9TyOJYaJQcgh3ImVkkP9TrNxr",
      "include_colab_link": true
    },
    "kernelspec": {
      "name": "python3",
      "display_name": "Python 3"
    },
    "language_info": {
      "name": "python"
    }
  },
  "cells": [
    {
      "cell_type": "markdown",
      "metadata": {
        "id": "view-in-github",
        "colab_type": "text"
      },
      "source": [
        "<a href=\"https://colab.research.google.com/github/IlyaZutler/Project-3-Berlin-Airbnb-Ratings/blob/main/%D0%9A%D0%B0%D1%80%D1%82%D0%B0%20%D0%B8%20%D1%82%D0%BE%D1%87%D0%BA%D0%B83-1.ipynb\" target=\"_parent\"><img src=\"https://colab.research.google.com/assets/colab-badge.svg\" alt=\"Open In Colab\"/></a>"
      ]
    },
    {
      "cell_type": "markdown",
      "source": [
        "**This dataset contains information on Airbnb listings in Berlin, including reviewer ratings and comments**\n",
        "\n",
        "review_date: The date of the review. (Date)\n",
        "\n",
        "\n",
        "Reviewer Name: The name of the reviewer. (String)\n",
        "\n",
        "\n",
        "Comments: The reviewer's comments. (String)\n",
        "\n",
        "\n",
        "Listing URL: The URL of the listing. (String)\n",
        "\n",
        "\n",
        "Listing Name: The name of the listing. (String)\n",
        "\n",
        "\n",
        "Host URL: The URL of the host. (String)\n",
        "\n",
        "\n",
        "Host Name: The name of the host. (String)\n",
        "\n",
        "\n",
        "Host Since: The date the host joined Airbnb. (Date)\n",
        "\n",
        "\n",
        "Host Response Time: The host's response time. (String)\n",
        "\n",
        "\n",
        "Host Response Rate: The host's response rate. (String)\n",
        "\n",
        "\n",
        "Is Superhost: Whether or not the host is a Superhost. (Boolean)\n",
        "\n",
        "\n",
        "neighbourhood: The neighbourhood of the listing. (String)\n",
        "\n",
        "\n",
        "Neighborhood Group: The neighbourhood group of the listing. (String)\n",
        "\n",
        "\n",
        "City: The city of the listing. (String)\n",
        "\n",
        "\n",
        "Postal Code: The postal code of the listing. (String)\n",
        "\n",
        "\n",
        "Country Code: The country code of the listing. (String)\n",
        "\n",
        "\n",
        "Country Code: The country code of the listing. (String)\n",
        "\n",
        "\n",
        "Latitude: The latitude of the listing. (Float)\n",
        "\n",
        "\n",
        "Longitude: The longitude of the listing. (Float)\n",
        "\n",
        "\n",
        "Is Exact Location: Whether or not the location is exact. (Boolean)\n",
        "\n",
        "\n",
        "Property Type: The type of property. (String)\n",
        "\n",
        "\n",
        "Room Type: The type of room. (String)\n",
        "\n",
        "\n",
        "Accomodates: The number of people the property can accommodate. (Integer)\n",
        "\n",
        "\n",
        "Bathrooms: The number of bathrooms. (Float)\n",
        "\n",
        "\n",
        "Bedrooms: The number of bedrooms. (Integer)\n",
        "\n",
        "\n",
        "Beds: The number of beds. (Integer)\n",
        "\n",
        "\n",
        "Square Feet: The square footage of the property. (Float)\n",
        "\n",
        "\n",
        "Price: The price of the listing. (Float)\n",
        "\n",
        "\n",
        "Guests Included: The number of guests included in the price. (Integer)\n",
        "\n",
        "\n",
        "Min Nights: The minimum number of nights required to stay. (Integer)\n",
        "\n",
        "\n",
        "Reviews: The number of reviews the listing has. (Integer)\n",
        "\n",
        "\n",
        "First Review: The date of the first review. (Date)\n",
        "\n",
        "\n",
        "Last Review: The date of the last review. (Date)\n",
        "\n",
        "\n",
        "Overall Rating: The listing's overall rating. (Float)\n",
        "\n",
        "\n",
        "Accuracy Rating: The listing's accuracy rating. (Float)\n",
        "\n",
        "\n",
        "Cleanliness Rating: The listing's cleanliness rating. (Float)\n",
        "\n",
        "\n",
        "Checkin Rating: The listing's checkin rating. (Float)\n",
        "\n",
        "\n",
        "Communication Rating: The listing's communication rating. (Float)\n",
        "\n",
        "\n",
        "Location Rating: The listing's location rating. (Float)\n",
        "\n",
        "\n",
        "Value Rating: The listing's value rating. (Float)"
      ],
      "metadata": {
        "id": "mgs-gtJUAy3j"
      }
    },
    {
      "cell_type": "code",
      "execution_count": 1,
      "metadata": {
        "id": "UnyeFZrF9QXk"
      },
      "outputs": [],
      "source": [
        "import pandas as pd\n",
        "import numpy as np\n",
        "import matplotlib.pyplot as plt\n",
        "import seaborn as sns\n",
        "%matplotlib inline\n",
        "\n",
        "!pip install openpyxl -q\n",
        "import openpyxl\n",
        "\n",
        "pd.set_option('display.max_columns', 200)\n",
        "pd.set_option('display.max_rows', 200)\n",
        "pd.set_option('display.max_colwidth', 1000)"
      ]
    },
    {
      "cell_type": "code",
      "source": [
        "apartments = pd.read_excel('/content/apartments.xlsx', engine='openpyxl')"
      ],
      "metadata": {
        "id": "4oVz2rzr9Xje"
      },
      "execution_count": 4,
      "outputs": []
    },
    {
      "cell_type": "code",
      "source": [
        "# # not usefull\n",
        "# !pip install autoviz -q\n",
        "# from autoviz.AutoViz_Class import AutoViz_Class\n",
        "# %matplotlib inline\n",
        "#\n",
        "# apartments_numeric = apartments_need[['Accomodates',\n",
        "#        'Bathrooms', 'Bedrooms', 'Beds', 'Square Feet', 'Price',\n",
        "#        'Guests Included', 'Min Nights', 'Reviews', 'First Review',\n",
        "#        'Last Review', 'Overall Rating', 'Accuracy Rating',\n",
        "#        'Cleanliness Rating', 'Checkin Rating', 'Communication Rating',\n",
        "#        'Location Rating', 'Value Rating']]\n",
        "# AV = AutoViz_Class()\n",
        "# AV.AutoViz('', dfte=apartments_numeric)\n"
      ],
      "metadata": {
        "id": "Wq_M4XsFAynL",
        "collapsed": true
      },
      "execution_count": null,
      "outputs": []
    },
    {
      "cell_type": "code",
      "source": [
        "apartments.info()"
      ],
      "metadata": {
        "colab": {
          "base_uri": "https://localhost:8080/"
        },
        "id": "QNZP38xA9qm3",
        "outputId": "e2fdacae-5912-4261-e4e8-8c2182613fb5",
        "collapsed": true
      },
      "execution_count": null,
      "outputs": [
        {
          "output_type": "stream",
          "name": "stdout",
          "text": [
            "<class 'pandas.core.frame.DataFrame'>\n",
            "RangeIndex: 23550 entries, 0 to 23549\n",
            "Data columns (total 41 columns):\n",
            " #   Column                 Non-Null Count  Dtype  \n",
            "---  ------                 --------------  -----  \n",
            " 0   Listing ID             23550 non-null  int64  \n",
            " 1   Listing URL            23550 non-null  object \n",
            " 2   Listing Name           23496 non-null  object \n",
            " 3   Host ID                23550 non-null  int64  \n",
            " 4   Host URL               23550 non-null  object \n",
            " 5   Host Name              23529 non-null  object \n",
            " 6   Host Since             23529 non-null  object \n",
            " 7   Host Response Time     13059 non-null  object \n",
            " 8   Host Response Rate     13059 non-null  float64\n",
            " 9   Is Superhost           23529 non-null  object \n",
            " 10  neighbourhood          23550 non-null  object \n",
            " 11  Neighborhood Group     23550 non-null  object \n",
            " 12  City                   23547 non-null  object \n",
            " 13  Postal Code            22964 non-null  object \n",
            " 14  Country Code           23550 non-null  object \n",
            " 15  Country                23550 non-null  object \n",
            " 16  Latitude               23550 non-null  float64\n",
            " 17  Longitude              23550 non-null  float64\n",
            " 18  Is Exact Location      23550 non-null  object \n",
            " 19  Property Type          23550 non-null  object \n",
            " 20  Room Type              23550 non-null  object \n",
            " 21  Accomodates            23550 non-null  int64  \n",
            " 22  Bathrooms              23521 non-null  float64\n",
            " 23  Bedrooms               23530 non-null  float64\n",
            " 24  Beds                   23515 non-null  float64\n",
            " 25  Square Feet            427 non-null    float64\n",
            " 26  Price                  23550 non-null  int64  \n",
            " 27  Guests Included        23550 non-null  int64  \n",
            " 28  Min Nights             23550 non-null  int64  \n",
            " 29  Reviews                23550 non-null  int64  \n",
            " 30  First Review           19394 non-null  object \n",
            " 31  Last Review            19394 non-null  object \n",
            " 32  Overall Rating         18928 non-null  float64\n",
            " 33  Accuracy Rating        18902 non-null  float64\n",
            " 34  Cleanliness Rating     18906 non-null  float64\n",
            " 35  Checkin Rating         18884 non-null  float64\n",
            " 36  Communication Rating   18900 non-null  float64\n",
            " 37  Location Rating        18885 non-null  float64\n",
            " 38  Value Rating           18882 non-null  float64\n",
            " 39  Instant Bookable       23550 non-null  object \n",
            " 40  Business Travel Ready  23550 non-null  object \n",
            "dtypes: float64(14), int64(7), object(20)\n",
            "memory usage: 7.4+ MB\n"
          ]
        }
      ]
    },
    {
      "cell_type": "code",
      "source": [
        "#apartments['Price'] = apartments['Price'].str.replace('$', '').str.replace(',', '').astype(float)\n",
        "apartments['Host Since'] = pd.to_datetime(apartments['Host Since'])\n",
        "apartments['First Review'] = pd.to_datetime(apartments['First Review'])\n",
        "apartments['Last Review'] = pd.to_datetime(apartments['Last Review'])"
      ],
      "metadata": {
        "id": "oMoELbLqqRkW",
        "outputId": "d9c3df50-8162-48f6-cba4-a89321cef263",
        "colab": {
          "base_uri": "https://localhost:8080/"
        }
      },
      "execution_count": 5,
      "outputs": [
        {
          "output_type": "stream",
          "name": "stderr",
          "text": [
            "<ipython-input-5-320653a0dbd8>:2: UserWarning: Could not infer format, so each element will be parsed individually, falling back to `dateutil`. To ensure parsing is consistent and as-expected, please specify a format.\n",
            "  apartments['Host Since'] = pd.to_datetime(apartments['Host Since'])\n",
            "<ipython-input-5-320653a0dbd8>:3: UserWarning: Could not infer format, so each element will be parsed individually, falling back to `dateutil`. To ensure parsing is consistent and as-expected, please specify a format.\n",
            "  apartments['First Review'] = pd.to_datetime(apartments['First Review'])\n",
            "<ipython-input-5-320653a0dbd8>:4: UserWarning: Could not infer format, so each element will be parsed individually, falling back to `dateutil`. To ensure parsing is consistent and as-expected, please specify a format.\n",
            "  apartments['Last Review'] = pd.to_datetime(apartments['Last Review'])\n"
          ]
        }
      ]
    },
    {
      "cell_type": "code",
      "source": [
        "apartments.isnull().sum()"
      ],
      "metadata": {
        "colab": {
          "base_uri": "https://localhost:8080/"
        },
        "id": "LxLbAIs09zrO",
        "outputId": "66ad2197-4004-4751-ec6e-fa4305118490",
        "collapsed": true
      },
      "execution_count": null,
      "outputs": [
        {
          "output_type": "execute_result",
          "data": {
            "text/plain": [
              "Listing ID                     0\n",
              "Listing URL                    0\n",
              "Listing Name                  54\n",
              "Host ID                        0\n",
              "Host URL                       0\n",
              "Host Name                     21\n",
              "Host Since                    21\n",
              "Host Response Time         10491\n",
              "Host Response Rate         10491\n",
              "Is Superhost                  21\n",
              "neighbourhood                  0\n",
              "Neighborhood Group             0\n",
              "City                           3\n",
              "Postal Code                  586\n",
              "Country Code                   0\n",
              "Country                        0\n",
              "Latitude                       0\n",
              "Longitude                      0\n",
              "Is Exact Location              0\n",
              "Property Type                  0\n",
              "Room Type                      0\n",
              "Accomodates                    0\n",
              "Bathrooms                     29\n",
              "Bedrooms                      20\n",
              "Beds                          35\n",
              "Square Feet                23123\n",
              "Price                          0\n",
              "Guests Included                0\n",
              "Min Nights                     0\n",
              "Reviews                        0\n",
              "First Review                4156\n",
              "Last Review                 4156\n",
              "Overall Rating              4622\n",
              "Accuracy Rating             4648\n",
              "Cleanliness Rating          4644\n",
              "Checkin Rating              4666\n",
              "Communication Rating        4650\n",
              "Location Rating             4665\n",
              "Value Rating                4668\n",
              "Instant Bookable               0\n",
              "Business Travel Ready          0\n",
              "Reviews Log                    0\n",
              "Location Rating Roughly     4665\n",
              "dtype: int64"
            ]
          },
          "metadata": {},
          "execution_count": 37
        }
      ]
    },
    {
      "cell_type": "code",
      "source": [
        "apartments.columns"
      ],
      "metadata": {
        "colab": {
          "base_uri": "https://localhost:8080/"
        },
        "id": "NVQ5BNwA93QN",
        "outputId": "42a96886-9081-46fc-d82d-f7f92faf6460"
      },
      "execution_count": null,
      "outputs": [
        {
          "output_type": "execute_result",
          "data": {
            "text/plain": [
              "Index(['Listing ID', 'Listing URL', 'Listing Name', 'Host ID', 'Host URL',\n",
              "       'Host Name', 'Host Since', 'Host Response Time', 'Host Response Rate',\n",
              "       'Is Superhost', 'neighbourhood', 'Neighborhood Group', 'City',\n",
              "       'Postal Code', 'Country Code', 'Country', 'Latitude', 'Longitude',\n",
              "       'Is Exact Location', 'Property Type', 'Room Type', 'Accomodates',\n",
              "       'Bathrooms', 'Bedrooms', 'Beds', 'Square Feet', 'Price',\n",
              "       'Guests Included', 'Min Nights', 'Reviews', 'First Review',\n",
              "       'Last Review', 'Overall Rating', 'Accuracy Rating',\n",
              "       'Cleanliness Rating', 'Checkin Rating', 'Communication Rating',\n",
              "       'Location Rating', 'Value Rating', 'Instant Bookable',\n",
              "       'Business Travel Ready'],\n",
              "      dtype='object')"
            ]
          },
          "metadata": {},
          "execution_count": 6
        }
      ]
    },
    {
      "cell_type": "code",
      "source": [
        "(apartments.groupby('Property Type')\n",
        "        .agg(Count=('Listing ID', 'count'), Mean_Price=('Price', 'mean'))\n",
        "        .sort_values('Count', ascending=False)\n",
        "        .style.format({'Mean_Price': '{:.2f}'}))"
      ],
      "metadata": {
        "collapsed": true,
        "colab": {
          "base_uri": "https://localhost:8080/",
          "height": 1000
        },
        "id": "9k0ZKwDb0IIe",
        "outputId": "30bf1ba5-7fb3-4bf4-c14f-d224ba07eba1"
      },
      "execution_count": null,
      "outputs": [
        {
          "output_type": "execute_result",
          "data": {
            "text/plain": [
              "<pandas.io.formats.style.Styler at 0x7c7fc4a5a440>"
            ],
            "text/html": [
              "<style type=\"text/css\">\n",
              "</style>\n",
              "<table id=\"T_1cf96\" class=\"dataframe\">\n",
              "  <thead>\n",
              "    <tr>\n",
              "      <th class=\"blank level0\" >&nbsp;</th>\n",
              "      <th id=\"T_1cf96_level0_col0\" class=\"col_heading level0 col0\" >Count</th>\n",
              "      <th id=\"T_1cf96_level0_col1\" class=\"col_heading level0 col1\" >Mean_Price</th>\n",
              "    </tr>\n",
              "    <tr>\n",
              "      <th class=\"index_name level0\" >Property Type</th>\n",
              "      <th class=\"blank col0\" >&nbsp;</th>\n",
              "      <th class=\"blank col1\" >&nbsp;</th>\n",
              "    </tr>\n",
              "  </thead>\n",
              "  <tbody>\n",
              "    <tr>\n",
              "      <th id=\"T_1cf96_level0_row0\" class=\"row_heading level0 row0\" >Apartment</th>\n",
              "      <td id=\"T_1cf96_row0_col0\" class=\"data row0 col0\" >20948</td>\n",
              "      <td id=\"T_1cf96_row0_col1\" class=\"data row0 col1\" >59.87</td>\n",
              "    </tr>\n",
              "    <tr>\n",
              "      <th id=\"T_1cf96_level0_row1\" class=\"row_heading level0 row1\" >Condominium</th>\n",
              "      <td id=\"T_1cf96_row1_col0\" class=\"data row1 col0\" >577</td>\n",
              "      <td id=\"T_1cf96_row1_col1\" class=\"data row1 col1\" >72.62</td>\n",
              "    </tr>\n",
              "    <tr>\n",
              "      <th id=\"T_1cf96_level0_row2\" class=\"row_heading level0 row2\" >Loft</th>\n",
              "      <td id=\"T_1cf96_row2_col0\" class=\"data row2 col0\" >458</td>\n",
              "      <td id=\"T_1cf96_row2_col1\" class=\"data row2 col1\" >121.28</td>\n",
              "    </tr>\n",
              "    <tr>\n",
              "      <th id=\"T_1cf96_level0_row3\" class=\"row_heading level0 row3\" >House</th>\n",
              "      <td id=\"T_1cf96_row3_col0\" class=\"data row3 col0\" >436</td>\n",
              "      <td id=\"T_1cf96_row3_col1\" class=\"data row3 col1\" >71.38</td>\n",
              "    </tr>\n",
              "    <tr>\n",
              "      <th id=\"T_1cf96_level0_row4\" class=\"row_heading level0 row4\" >Serviced apartment</th>\n",
              "      <td id=\"T_1cf96_row4_col0\" class=\"data row4 col0\" >316</td>\n",
              "      <td id=\"T_1cf96_row4_col1\" class=\"data row4 col1\" >195.57</td>\n",
              "    </tr>\n",
              "    <tr>\n",
              "      <th id=\"T_1cf96_level0_row5\" class=\"row_heading level0 row5\" >Hostel</th>\n",
              "      <td id=\"T_1cf96_row5_col0\" class=\"data row5 col0\" >183</td>\n",
              "      <td id=\"T_1cf96_row5_col1\" class=\"data row5 col1\" >133.90</td>\n",
              "    </tr>\n",
              "    <tr>\n",
              "      <th id=\"T_1cf96_level0_row6\" class=\"row_heading level0 row6\" >Townhouse</th>\n",
              "      <td id=\"T_1cf96_row6_col0\" class=\"data row6 col0\" >108</td>\n",
              "      <td id=\"T_1cf96_row6_col1\" class=\"data row6 col1\" >78.71</td>\n",
              "    </tr>\n",
              "    <tr>\n",
              "      <th id=\"T_1cf96_level0_row7\" class=\"row_heading level0 row7\" >Bed and breakfast</th>\n",
              "      <td id=\"T_1cf96_row7_col0\" class=\"data row7 col0\" >85</td>\n",
              "      <td id=\"T_1cf96_row7_col1\" class=\"data row7 col1\" >64.61</td>\n",
              "    </tr>\n",
              "    <tr>\n",
              "      <th id=\"T_1cf96_level0_row8\" class=\"row_heading level0 row8\" >Guest suite</th>\n",
              "      <td id=\"T_1cf96_row8_col0\" class=\"data row8 col0\" >73</td>\n",
              "      <td id=\"T_1cf96_row8_col1\" class=\"data row8 col1\" >56.89</td>\n",
              "    </tr>\n",
              "    <tr>\n",
              "      <th id=\"T_1cf96_level0_row9\" class=\"row_heading level0 row9\" >Hotel</th>\n",
              "      <td id=\"T_1cf96_row9_col0\" class=\"data row9 col0\" >72</td>\n",
              "      <td id=\"T_1cf96_row9_col1\" class=\"data row9 col1\" >1674.99</td>\n",
              "    </tr>\n",
              "    <tr>\n",
              "      <th id=\"T_1cf96_level0_row10\" class=\"row_heading level0 row10\" >Boutique hotel</th>\n",
              "      <td id=\"T_1cf96_row10_col0\" class=\"data row10 col0\" >66</td>\n",
              "      <td id=\"T_1cf96_row10_col1\" class=\"data row10 col1\" >147.50</td>\n",
              "    </tr>\n",
              "    <tr>\n",
              "      <th id=\"T_1cf96_level0_row11\" class=\"row_heading level0 row11\" >Guesthouse</th>\n",
              "      <td id=\"T_1cf96_row11_col0\" class=\"data row11 col0\" >57</td>\n",
              "      <td id=\"T_1cf96_row11_col1\" class=\"data row11 col1\" >74.33</td>\n",
              "    </tr>\n",
              "    <tr>\n",
              "      <th id=\"T_1cf96_level0_row12\" class=\"row_heading level0 row12\" >Other</th>\n",
              "      <td id=\"T_1cf96_row12_col0\" class=\"data row12 col0\" >41</td>\n",
              "      <td id=\"T_1cf96_row12_col1\" class=\"data row12 col1\" >74.05</td>\n",
              "    </tr>\n",
              "    <tr>\n",
              "      <th id=\"T_1cf96_level0_row13\" class=\"row_heading level0 row13\" >Bungalow</th>\n",
              "      <td id=\"T_1cf96_row13_col0\" class=\"data row13 col0\" >23</td>\n",
              "      <td id=\"T_1cf96_row13_col1\" class=\"data row13 col1\" >74.22</td>\n",
              "    </tr>\n",
              "    <tr>\n",
              "      <th id=\"T_1cf96_level0_row14\" class=\"row_heading level0 row14\" >Boat</th>\n",
              "      <td id=\"T_1cf96_row14_col0\" class=\"data row14 col0\" >20</td>\n",
              "      <td id=\"T_1cf96_row14_col1\" class=\"data row14 col1\" >163.80</td>\n",
              "    </tr>\n",
              "    <tr>\n",
              "      <th id=\"T_1cf96_level0_row15\" class=\"row_heading level0 row15\" >Houseboat</th>\n",
              "      <td id=\"T_1cf96_row15_col0\" class=\"data row15 col0\" >14</td>\n",
              "      <td id=\"T_1cf96_row15_col1\" class=\"data row15 col1\" >182.29</td>\n",
              "    </tr>\n",
              "    <tr>\n",
              "      <th id=\"T_1cf96_level0_row16\" class=\"row_heading level0 row16\" >Villa</th>\n",
              "      <td id=\"T_1cf96_row16_col0\" class=\"data row16 col0\" >13</td>\n",
              "      <td id=\"T_1cf96_row16_col1\" class=\"data row16 col1\" >247.00</td>\n",
              "    </tr>\n",
              "    <tr>\n",
              "      <th id=\"T_1cf96_level0_row17\" class=\"row_heading level0 row17\" >Tiny house</th>\n",
              "      <td id=\"T_1cf96_row17_col0\" class=\"data row17 col0\" >8</td>\n",
              "      <td id=\"T_1cf96_row17_col1\" class=\"data row17 col1\" >61.12</td>\n",
              "    </tr>\n",
              "    <tr>\n",
              "      <th id=\"T_1cf96_level0_row18\" class=\"row_heading level0 row18\" >Pension (South Korea)</th>\n",
              "      <td id=\"T_1cf96_row18_col0\" class=\"data row18 col0\" >8</td>\n",
              "      <td id=\"T_1cf96_row18_col1\" class=\"data row18 col1\" >79.38</td>\n",
              "    </tr>\n",
              "    <tr>\n",
              "      <th id=\"T_1cf96_level0_row19\" class=\"row_heading level0 row19\" >Cabin</th>\n",
              "      <td id=\"T_1cf96_row19_col0\" class=\"data row19 col0\" >7</td>\n",
              "      <td id=\"T_1cf96_row19_col1\" class=\"data row19 col1\" >76.00</td>\n",
              "    </tr>\n",
              "    <tr>\n",
              "      <th id=\"T_1cf96_level0_row20\" class=\"row_heading level0 row20\" >Cottage</th>\n",
              "      <td id=\"T_1cf96_row20_col0\" class=\"data row20 col0\" >7</td>\n",
              "      <td id=\"T_1cf96_row20_col1\" class=\"data row20 col1\" >75.29</td>\n",
              "    </tr>\n",
              "    <tr>\n",
              "      <th id=\"T_1cf96_level0_row21\" class=\"row_heading level0 row21\" >Camper/RV</th>\n",
              "      <td id=\"T_1cf96_row21_col0\" class=\"data row21 col0\" >6</td>\n",
              "      <td id=\"T_1cf96_row21_col1\" class=\"data row21 col1\" >44.17</td>\n",
              "    </tr>\n",
              "    <tr>\n",
              "      <th id=\"T_1cf96_level0_row22\" class=\"row_heading level0 row22\" >Aparthotel</th>\n",
              "      <td id=\"T_1cf96_row22_col0\" class=\"data row22 col0\" >4</td>\n",
              "      <td id=\"T_1cf96_row22_col1\" class=\"data row22 col1\" >104.00</td>\n",
              "    </tr>\n",
              "    <tr>\n",
              "      <th id=\"T_1cf96_level0_row23\" class=\"row_heading level0 row23\" >Resort</th>\n",
              "      <td id=\"T_1cf96_row23_col0\" class=\"data row23 col0\" >3</td>\n",
              "      <td id=\"T_1cf96_row23_col1\" class=\"data row23 col1\" >25.33</td>\n",
              "    </tr>\n",
              "    <tr>\n",
              "      <th id=\"T_1cf96_level0_row24\" class=\"row_heading level0 row24\" >Castle</th>\n",
              "      <td id=\"T_1cf96_row24_col0\" class=\"data row24 col0\" >3</td>\n",
              "      <td id=\"T_1cf96_row24_col1\" class=\"data row24 col1\" >80.00</td>\n",
              "    </tr>\n",
              "    <tr>\n",
              "      <th id=\"T_1cf96_level0_row25\" class=\"row_heading level0 row25\" >Casa particular (Cuba)</th>\n",
              "      <td id=\"T_1cf96_row25_col0\" class=\"data row25 col0\" >2</td>\n",
              "      <td id=\"T_1cf96_row25_col1\" class=\"data row25 col1\" >78.00</td>\n",
              "    </tr>\n",
              "    <tr>\n",
              "      <th id=\"T_1cf96_level0_row26\" class=\"row_heading level0 row26\" >Train</th>\n",
              "      <td id=\"T_1cf96_row26_col0\" class=\"data row26 col0\" >2</td>\n",
              "      <td id=\"T_1cf96_row26_col1\" class=\"data row26 col1\" >62.50</td>\n",
              "    </tr>\n",
              "    <tr>\n",
              "      <th id=\"T_1cf96_level0_row27\" class=\"row_heading level0 row27\" >Treehouse</th>\n",
              "      <td id=\"T_1cf96_row27_col0\" class=\"data row27 col0\" >2</td>\n",
              "      <td id=\"T_1cf96_row27_col1\" class=\"data row27 col1\" >19.50</td>\n",
              "    </tr>\n",
              "    <tr>\n",
              "      <th id=\"T_1cf96_level0_row28\" class=\"row_heading level0 row28\" >Earth house</th>\n",
              "      <td id=\"T_1cf96_row28_col0\" class=\"data row28 col0\" >2</td>\n",
              "      <td id=\"T_1cf96_row28_col1\" class=\"data row28 col1\" >23.00</td>\n",
              "    </tr>\n",
              "    <tr>\n",
              "      <th id=\"T_1cf96_level0_row29\" class=\"row_heading level0 row29\" >Hut</th>\n",
              "      <td id=\"T_1cf96_row29_col0\" class=\"data row29 col0\" >1</td>\n",
              "      <td id=\"T_1cf96_row29_col1\" class=\"data row29 col1\" >32.00</td>\n",
              "    </tr>\n",
              "    <tr>\n",
              "      <th id=\"T_1cf96_level0_row30\" class=\"row_heading level0 row30\" >Tent</th>\n",
              "      <td id=\"T_1cf96_row30_col0\" class=\"data row30 col0\" >1</td>\n",
              "      <td id=\"T_1cf96_row30_col1\" class=\"data row30 col1\" >49.00</td>\n",
              "    </tr>\n",
              "    <tr>\n",
              "      <th id=\"T_1cf96_level0_row31\" class=\"row_heading level0 row31\" >Cave</th>\n",
              "      <td id=\"T_1cf96_row31_col0\" class=\"data row31 col0\" >1</td>\n",
              "      <td id=\"T_1cf96_row31_col1\" class=\"data row31 col1\" >28.00</td>\n",
              "    </tr>\n",
              "    <tr>\n",
              "      <th id=\"T_1cf96_level0_row32\" class=\"row_heading level0 row32\" >Tipi</th>\n",
              "      <td id=\"T_1cf96_row32_col0\" class=\"data row32 col0\" >1</td>\n",
              "      <td id=\"T_1cf96_row32_col1\" class=\"data row32 col1\" >35.00</td>\n",
              "    </tr>\n",
              "    <tr>\n",
              "      <th id=\"T_1cf96_level0_row33\" class=\"row_heading level0 row33\" >Barn</th>\n",
              "      <td id=\"T_1cf96_row33_col0\" class=\"data row33 col0\" >1</td>\n",
              "      <td id=\"T_1cf96_row33_col1\" class=\"data row33 col1\" >89.00</td>\n",
              "    </tr>\n",
              "    <tr>\n",
              "      <th id=\"T_1cf96_level0_row34\" class=\"row_heading level0 row34\" >Vacation home</th>\n",
              "      <td id=\"T_1cf96_row34_col0\" class=\"data row34 col0\" >1</td>\n",
              "      <td id=\"T_1cf96_row34_col1\" class=\"data row34 col1\" >83.00</td>\n",
              "    </tr>\n",
              "  </tbody>\n",
              "</table>\n"
            ]
          },
          "metadata": {},
          "execution_count": 5
        }
      ]
    },
    {
      "cell_type": "code",
      "source": [
        "sns.histplot(apartments['Reviews'], bins=100)\n",
        "plt.show()"
      ],
      "metadata": {
        "colab": {
          "base_uri": "https://localhost:8080/",
          "height": 477
        },
        "id": "VtqtmYfD-i50",
        "outputId": "66d2031c-c39c-43ec-e67e-ac39c141299e"
      },
      "execution_count": null,
      "outputs": [
        {
          "output_type": "display_data",
          "data": {
            "text/plain": [
              "<Figure size 640x480 with 1 Axes>"
            ],
            "image/png": "[encoded data removed]"
          },
          "metadata": {}
        }
      ]
    },
    {
      "cell_type": "code",
      "source": [
        "apartments['Reviews Log'] = np.log1p(apartments['Reviews'])"
      ],
      "metadata": {
        "id": "nSw2EcHzVzeB"
      },
      "execution_count": 6,
      "outputs": []
    },
    {
      "cell_type": "code",
      "source": [
        "sns.histplot(apartments['Reviews Log'], discrete=(True))\n",
        "plt.show()"
      ],
      "metadata": {
        "colab": {
          "base_uri": "https://localhost:8080/",
          "height": 477
        },
        "id": "NL6pSFDEWDnP",
        "outputId": "a587523c-cff0-45c9-e7e7-36c3dedbcd9a"
      },
      "execution_count": null,
      "outputs": [
        {
          "output_type": "display_data",
          "data": {
            "text/plain": [
              "<Figure size 640x480 with 1 Axes>"
            ],
            "image/png": "[encoded data removed]"
          },
          "metadata": {}
        }
      ]
    },
    {
      "cell_type": "code",
      "source": [
        "apartments_need = apartments.drop(['Listing ID', 'Listing URL', 'Listing Name', 'Host ID', 'Host URL',\n",
        "       'Host Name', 'Host Response Time', 'Host Response Rate',\n",
        "       'neighbourhood', 'Neighborhood Group', 'City',\n",
        "       'Postal Code', 'Country Code', 'Country','Square Feet'], axis=1)\n",
        "\n",
        "apartments_need = apartments_need[apartments_need['Property Type'].isin(['Apartment', 'Condominium'])]\n",
        "apartments_need = apartments_need[(apartments_need['Price'] > 10) & (apartments_need['Price'] < 1000)]"
      ],
      "metadata": {
        "id": "NmeRPS2Coljm"
      },
      "execution_count": 7,
      "outputs": []
    },
    {
      "cell_type": "code",
      "source": [
        "apartments_need.shape"
      ],
      "metadata": {
        "id": "a2SCbTo4bd5x",
        "outputId": "88b540d2-e8c6-4591-da50-d26748895de3",
        "colab": {
          "base_uri": "https://localhost:8080/"
        }
      },
      "execution_count": 8,
      "outputs": [
        {
          "output_type": "execute_result",
          "data": {
            "text/plain": [
              "(21472, 27)"
            ]
          },
          "metadata": {},
          "execution_count": 8
        }
      ]
    },
    {
      "cell_type": "code",
      "source": [
        "apartments['Location Rating'].value_counts()"
      ],
      "metadata": {
        "collapsed": true,
        "colab": {
          "base_uri": "https://localhost:8080/"
        },
        "id": "RuMkyRwQ1kIs",
        "outputId": "6a451b42-bd26-40ce-9063-71f30c298674"
      },
      "execution_count": null,
      "outputs": [
        {
          "output_type": "execute_result",
          "data": {
            "text/plain": [
              "Location Rating\n",
              "10.0    12334\n",
              "9.0      5187\n",
              "8.0      1061\n",
              "6.0       144\n",
              "7.0       119\n",
              "4.0        22\n",
              "5.0         9\n",
              "2.0         9\n",
              "Name: count, dtype: int64"
            ]
          },
          "metadata": {},
          "execution_count": 59
        }
      ]
    },
    {
      "cell_type": "code",
      "source": [
        "apartments['Location Rating Roughly'] = apartments['Location Rating'].apply(lambda x: 8 if x < 9 else x)"
      ],
      "metadata": {
        "id": "gHG8JDh-RdoH"
      },
      "execution_count": 9,
      "outputs": []
    },
    {
      "cell_type": "code",
      "source": [
        "sns.histplot(apartments['Location Rating Roughly'], discrete=(True))\n",
        "plt.show()"
      ],
      "metadata": {
        "colab": {
          "base_uri": "https://localhost:8080/",
          "height": 477
        },
        "id": "1FzrXI6QRCHs",
        "outputId": "aa74778e-5b68-414e-d134-89f790345b9c"
      },
      "execution_count": null,
      "outputs": [
        {
          "output_type": "display_data",
          "data": {
            "text/plain": [
              "<Figure size 640x480 with 1 Axes>"
            ],
            "image/png": "[encoded data removed]"
          },
          "metadata": {}
        }
      ]
    },
    {
      "cell_type": "code",
      "source": [
        "sns.histplot(apartments['Overall Rating'], discrete=(True))\n",
        "plt.show()"
      ],
      "metadata": {
        "colab": {
          "base_uri": "https://localhost:8080/",
          "height": 449
        },
        "id": "GFU6AuxB_mMe",
        "outputId": "3f877381-5eea-4e4b-faa9-ab20eb794cc6"
      },
      "execution_count": null,
      "outputs": [
        {
          "output_type": "display_data",
          "data": {
            "text/plain": [
              "<Figure size 640x480 with 1 Axes>"
            ],
            "image/png": "[encoded data removed]"
          },
          "metadata": {}
        }
      ]
    },
    {
      "cell_type": "code",
      "source": [
        "!pip install -q folium matplotlib\n",
        "\n",
        "import folium\n",
        "import matplotlib.pyplot as plt\n",
        "from matplotlib.colors import LinearSegmentedColormap, Normalize, to_hex"
      ],
      "metadata": {
        "id": "jcaXzj9eGVMd"
      },
      "execution_count": 10,
      "outputs": []
    },
    {
      "cell_type": "code",
      "source": [
        "df = apartments[['Latitude', 'Longitude','Location Rating Roughly','Reviews Log']]\n",
        "df.dropna(inplace=True)\n",
        "\n",
        "# Цвета для Location Rating\n",
        "color_map = {\n",
        "    8: 'blue',\n",
        "    9: 'green',\n",
        "    10: 'red'\n",
        "}\n",
        "\n",
        "# Создание карты с использованием folium\n",
        "m = folium.Map(location=[df['Latitude'].mean(), df['Longitude'].mean()], zoom_start=5)\n",
        "\n",
        "# Добавление точек на карту\n",
        "for idx, row in df.iterrows():\n",
        "    color = color_map.get(row['Location Rating Roughly'], 'gray')  # Использование серого цвета по умолчанию\n",
        "    folium.CircleMarker(\n",
        "        location=(row['Latitude'], row['Longitude']),\n",
        "        radius=row['Reviews Log'] + 1,\n",
        "        color=color,\n",
        "        fill=True,\n",
        "        fill_color=color\n",
        "    ).add_to(m)\n",
        "\n",
        "# Создание пользовательской цветовой легенды\n",
        "legend_html = '''\n",
        "<div style=\"\n",
        "    position: fixed;\n",
        "    bottom: 50px; left: 50px; width: 150px; height: 120px;\n",
        "    background-color: white; z-index:9999; font-size:14px;\n",
        "    border:2px solid grey; border-radius:5px;\n",
        "    \">\n",
        "    <div style=\"padding: 10px;\">\n",
        "        <b>Location Rating</b><br>\n",
        "        <i style=\"background:blue; width:18px; height:18px; float:left; margin-right:5px; border-radius:50%;\"></i>8<br>\n",
        "        <i style=\"background:green; width:18px; height:18px; float:left; margin-right:5px; border-radius:50%;\"></i>9<br>\n",
        "        <i style=\"background:red; width:18px; height:18px; float:left; margin-right:5px; border-radius:50%;\"></i>10<br>\n",
        "    </div>\n",
        "</div>\n",
        "'''\n",
        "\n",
        "# Добавление легенды на карту\n",
        "m.get_root().html.add_child(folium.Element(legend_html))\n",
        "\n",
        "# Сохранение карты в файл\n",
        "m.save('map.html')\n",
        "\n",
        "# Отображение карты (если используется Jupyter Notebook или Colab)\n",
        "m"
      ],
      "metadata": {
        "id": "oyGKsNSxkiS4"
      },
      "execution_count": null,
      "outputs": []
    },
    {
      "cell_type": "code",
      "source": [
        "!pip install geopy -q\n",
        "from geopy.distance import geodesic"
      ],
      "metadata": {
        "id": "q8z9pSj04jou"
      },
      "execution_count": 11,
      "outputs": []
    },
    {
      "cell_type": "code",
      "source": [
        "# Координаты точек (Latitude и Longitude)\n",
        "coords_1 = (52.345800, 13.097180)  # Берлин\n",
        "coords_2 = (52.345800, 13.757640)   # Париж\n",
        "\n",
        "# Вычисление расстояния в километрах\n",
        "distance_meters = geodesic(coords_1, coords_2).kilometers * 1000\n",
        "\n",
        "# Форматирование числа с разделением разрядов пробелами\n",
        "distance_str = \"{:,.0f}\".format(distance_meters).replace(\",\", \" \")\n",
        "\n",
        "print(f\"Расстояние между точками: {distance_str} метров\")\n"
      ],
      "metadata": {
        "colab": {
          "base_uri": "https://localhost:8080/"
        },
        "id": "D5ZQINPR5W2N",
        "outputId": "ed25cc90-b633-4cf1-a004-440ab23fe055"
      },
      "execution_count": null,
      "outputs": [
        {
          "output_type": "stream",
          "name": "stdout",
          "text": [
            "Расстояние между точками: 45 009 метров\n"
          ]
        }
      ]
    },
    {
      "cell_type": "markdown",
      "source": [
        "по высоте 34 км, по ширине 45 км.\n",
        "разделить интервал по ширине от 13.097180 до 13.757640 на 45/2 кусков\n",
        "и разделить от 52.345800 до 52.651670 на 34/2 интервалов."
      ],
      "metadata": {
        "id": "E00F5HHI6quc"
      }
    },
    {
      "cell_type": "code",
      "source": [
        "# Разделение интервалов для Latitude и Longitude\n",
        "lat_intervals = np.linspace(apartments['Latitude'].min(), apartments['Latitude'].max(), 91)  # 90 отрезков означает 91 точка\n",
        "lon_intervals = np.linspace(apartments['Longitude'].min(), apartments['Longitude'].max(), 69)  # 70 отрезков означает 71 точка\n",
        "\n",
        "# Создание столбцов Latitude_No и Longitude_No\n",
        "apartments['Latitude_Bin'] = pd.cut(apartments['Latitude'], bins=lat_intervals, labels=False, include_lowest=True)\n",
        "apartments['Longitude_Bin'] = pd.cut(apartments['Longitude'], bins=lon_intervals, labels=False, include_lowest=True)\n",
        "\n",
        "# функция для определения бина\n",
        "def determine_bins(lat, lon, lat_intervals, lon_intervals):\n",
        "    lat_bin = np.digitize(lat, lat_intervals) - 1  # Индексы в numpy начинаются с 0\n",
        "    lon_bin = np.digitize(lon, lon_intervals) - 1\n",
        "    return lat_bin, lon_bin\n"
      ],
      "metadata": {
        "id": "z5Ub2Eai6ptG"
      },
      "execution_count": 12,
      "outputs": []
    },
    {
      "cell_type": "code",
      "source": [
        "lat = 52.489182\n",
        "lon = 13.416555\n",
        "determine_bins(lat, lon, lat_intervals, lon_intervals)"
      ],
      "metadata": {
        "id": "_qqnWCFNz2eu",
        "outputId": "035f7ecd-fe92-4c35-80f1-a6bd989de8f7",
        "colab": {
          "base_uri": "https://localhost:8080/"
        }
      },
      "execution_count": 13,
      "outputs": [
        {
          "output_type": "execute_result",
          "data": {
            "text/plain": [
              "(42, 32)"
            ]
          },
          "metadata": {},
          "execution_count": 13
        }
      ]
    },
    {
      "cell_type": "code",
      "source": [
        "!pip install pandas numpy libpysal geopy esda -q\n",
        "import numpy as np\n",
        "import pandas as pd\n",
        "from geopy.distance import great_circle"
      ],
      "metadata": {
        "id": "88CftguySvjB",
        "outputId": "39e4e48f-c3b1-46ac-8b04-489f20eef23a",
        "colab": {
          "base_uri": "https://localhost:8080/"
        }
      },
      "execution_count": 14,
      "outputs": [
        {
          "output_type": "stream",
          "name": "stdout",
          "text": [
            "\u001b[?25l   \u001b[90m━━━━━━━━━━━━━━━━━━━━━━━━━━━━━━━━━━━━━━━━\u001b[0m \u001b[32m0.0/2.8 MB\u001b[0m \u001b[31m?\u001b[0m eta \u001b[36m-:--:--\u001b[0m\r\u001b[2K   \u001b[91m━\u001b[0m\u001b[91m╸\u001b[0m\u001b[90m━━━━━━━━━━━━━━━━━━━━━━━━━━━━━━━━━━━━━━\u001b[0m \u001b[32m0.1/2.8 MB\u001b[0m \u001b[31m4.1 MB/s\u001b[0m eta \u001b[36m0:00:01\u001b[0m\r\u001b[2K   \u001b[91m━━━━━━━━━━━━━━━\u001b[0m\u001b[91m╸\u001b[0m\u001b[90m━━━━━━━━━━━━━━━━━━━━━━━━\u001b[0m \u001b[32m1.1/2.8 MB\u001b[0m \u001b[31m16.0 MB/s\u001b[0m eta \u001b[36m0:00:01\u001b[0m\r\u001b[2K   \u001b[91m━━━━━━━━━━━━━━━━━━━━━━━━━━━━━━━━━━━━━━━\u001b[0m\u001b[91m╸\u001b[0m \u001b[32m2.8/2.8 MB\u001b[0m \u001b[31m31.2 MB/s\u001b[0m eta \u001b[36m0:00:01\u001b[0m\r\u001b[2K   \u001b[90m━━━━━━━━━━━━━━━━━━━━━━━━━━━━━━━━━━━━━━━━\u001b[0m \u001b[32m2.8/2.8 MB\u001b[0m \u001b[31m24.2 MB/s\u001b[0m eta \u001b[36m0:00:00\u001b[0m\n",
            "\u001b[?25h\u001b[?25l   \u001b[90m━━━━━━━━━━━━━━━━━━━━━━━━━━━━━━━━━━━━━━━━\u001b[0m \u001b[32m0.0/135.4 kB\u001b[0m \u001b[31m?\u001b[0m eta \u001b[36m-:--:--\u001b[0m\r\u001b[2K   \u001b[90m━━━━━━━━━━━━━━━━━━━━━━━━━━━━━━━━━━━━━━━━\u001b[0m \u001b[32m135.4/135.4 kB\u001b[0m \u001b[31m9.0 MB/s\u001b[0m eta \u001b[36m0:00:00\u001b[0m\n",
            "\u001b[?25h"
          ]
        }
      ]
    },
    {
      "cell_type": "code",
      "source": [
        "import numpy as np\n",
        "import pandas as pd\n",
        "from geopy.distance import great_circle\n",
        "import libpysal\n",
        "from esda.moran import Moran\n",
        "\n",
        "df = apartments[['Latitude', 'Longitude', 'Latitude_Bin', 'Longitude_Bin','Location Rating Roughly','Reviews Log']].sample(1000)\n",
        "df.dropna(inplace=True)\n",
        "df = df.reset_index(drop=True)\n",
        "\n",
        "# Функция для расчета Moran's I\n",
        "def calculate_morans_i(df, primary_threshold_m=500):\n",
        "    epsilon = 0.01  # Маленькое значение для предотвращения деления на ноль\n",
        "    primary_threshold_km = primary_threshold_m / 1000\n",
        "\n",
        "    # Рассчитываем взвешенное среднее значение переменной\n",
        "    y = df['Location Rating Roughly'].values\n",
        "    weights = df['Reviews Log'].values\n",
        "    mean_y = np.average(y, weights=weights)\n",
        "    n = len(df)\n",
        "\n",
        "    # Сумма весов\n",
        "    S0 = 0\n",
        "    # Числитель Moran's I\n",
        "    numerator = 0\n",
        "    # Знаменатель Moran's I\n",
        "    denominator = 0\n",
        "\n",
        "    for i in range(n):\n",
        "        lat_i, lon_i = df.loc[i, 'Latitude'], df.loc[i, 'Longitude']\n",
        "        lat_bin_i, lon_bin_i = df.loc[i, 'Latitude_Bin'], df.loc[i, 'Longitude_Bin']\n",
        "        weight_i = 0\n",
        "\n",
        "        def process_neighbours(threshold_km, bin_range):\n",
        "            nonlocal weight_i, numerator, S0\n",
        "            nearby_bins = df[(df['Latitude_Bin'] >= lat_bin_i - bin_range) & (df['Latitude_Bin'] <= lat_bin_i + bin_range) &\n",
        "                             (df['Longitude_Bin'] >= lon_bin_i - bin_range) & (df['Longitude_Bin'] <= lon_bin_i + bin_range)]\n",
        "            for j in range(len(nearby_bins)):\n",
        "                if nearby_bins.index[j] != i:\n",
        "                    lat_j, lon_j = nearby_bins.iloc[j]['Latitude'], nearby_bins.iloc[j]['Longitude']\n",
        "                    dist_km = great_circle((lat_i, lon_i), (lat_j, lon_j)).kilometers\n",
        "                    if dist_km <= threshold_km:\n",
        "                        weight = 1 / (dist_km + epsilon) * nearby_bins.iloc[j]['Reviews Log']\n",
        "                        weight_i += weight\n",
        "                        S0 += weight\n",
        "                        numerator += weight * (y[i] - mean_y) * (y[nearby_bins.index[j]] - mean_y)\n",
        "\n",
        "        # Первоначальный расчет для соседних бинов (±1) и порога 500 метров\n",
        "        process_neighbours(primary_threshold_km, bin_range=1)\n",
        "\n",
        "        if weight_i == 0:\n",
        "            weight_i = 1\n",
        "\n",
        "        denominator += (y[i] - mean_y) ** 2 * weight_i\n",
        "\n",
        "    # Расчет Moran's I\n",
        "    moran_I = (n / S0) * (numerator / denominator)\n",
        "    return moran_I\n",
        "\n",
        "# Пример использования функции\n",
        "morans_i = calculate_morans_i(df)\n",
        "print(f\"Moran's I: {morans_i}\")"
      ],
      "metadata": {
        "id": "tbiSOq43coil",
        "outputId": "c04a9e2e-f3d0-41b5-fbbb-3ad93967904c",
        "colab": {
          "base_uri": "https://localhost:8080/"
        }
      },
      "execution_count": 15,
      "outputs": [
        {
          "output_type": "stream",
          "name": "stdout",
          "text": [
            "Moran's I: 0.0027514225765364196\n"
          ]
        }
      ]
    },
    {
      "cell_type": "code",
      "source": [
        "# prompt: удалить из apartments точки, в которых Location Rating Roughly равно NaN\n",
        "\n",
        "apartments_clean = apartments.dropna(subset=['Location Rating Roughly'])\n"
      ],
      "metadata": {
        "id": "i9xHGsKw22do"
      },
      "execution_count": null,
      "outputs": []
    },
    {
      "cell_type": "code",
      "source": [
        "df = apartments[['Latitude', 'Longitude', 'Latitude_Bin', 'Longitude_Bin','Location Rating Roughly','Reviews Log']]\n",
        "df.dropna(inplace=True)\n",
        "print(df.shape)\n",
        "df = df.reset_index(drop=True)\n",
        "\n",
        "def weighted_location_rating(lat, lon, lat_intervals, lon_intervals, df, primary_threshold_m=500, secondary_threshold_m=1000):\n",
        "\n",
        "\n",
        "    epsilon = 0.1  # Маленькое значение для предотвращения деления на ноль\n",
        "\n",
        "    lat_bin, lon_bin = determine_bins(lat, lon, lat_intervals, lon_intervals)\n",
        "    print(lat_bin, lon_bin)\n",
        "\n",
        "    def calculate_weighted_average(threshold_km, bin_range):\n",
        "        weighted_sum = 0\n",
        "        total_weight = 0\n",
        "\n",
        "        # Отбираем точки из заданных и соседних бинов\n",
        "        nearby_bins = df[(df['Latitude_Bin'] >= lat_bin - bin_range) & (df['Latitude_Bin'] <= lat_bin + bin_range) &\n",
        "                         (df['Longitude_Bin'] >= lon_bin - bin_range) & (df['Longitude_Bin'] <= lon_bin + bin_range)]\n",
        "        print(nearby_bins.head(5))\n",
        "\n",
        "        for i in range(len(nearby_bins)):\n",
        "            lat_i, lon_i = nearby_bins.iloc[i]['Latitude'], nearby_bins.iloc[i]['Longitude']\n",
        "            dist_km = great_circle((lat, lon), (lat_i, lon_i)).kilometers\n",
        "            if dist_km <= threshold_km:\n",
        "                weight = 1 / (dist_km + epsilon) * nearby_bins.iloc[i]['Reviews Log']\n",
        "                weighted_sum += nearby_bins.iloc[i]['Location Rating Roughly'] * weight\n",
        "                total_weight += weight\n",
        "\n",
        "        return weighted_sum, total_weight\n",
        "\n",
        "    # Первоначальный расчет для соседних бинов (±1) и порога 500 метров\n",
        "    threshold_km = primary_threshold_m / 1000\n",
        "    weighted_sum, total_weight = calculate_weighted_average(threshold_km, bin_range=1)\n",
        "    print(weighted_sum, total_weight)\n",
        "\n",
        "    # Если нет точек в соседних бинах, увеличиваем диапазон до ±2 и порог до 1000 метров\n",
        "    if total_weight == 0:\n",
        "        threshold_km = secondary_threshold_m / 1000\n",
        "        weighted_sum, total_weight = calculate_weighted_average(threshold_km, bin_range=2)\n",
        "\n",
        "    if total_weight == 0:\n",
        "        return np.nan  # Если нет соседей, возвращаем NaN\n",
        "\n",
        "    weighted_avg = weighted_sum / total_weight\n",
        "    return weighted_avg\n",
        "\n",
        "# Пример использования функции\n",
        "lat = 52.489182\n",
        "lon = 13.416555\n",
        "weighted_rating = weighted_location_rating(lat, lon, lat_intervals, lon_intervals, df, )\n",
        "print(f\"Weighted Location Rating: {weighted_rating}\")"
      ],
      "metadata": {
        "id": "W830Ypu5xZ0e",
        "outputId": "9b63bdea-53a6-41bb-c5c8-468705cc0d0c",
        "colab": {
          "base_uri": "https://localhost:8080/"
        }
      },
      "execution_count": null,
      "outputs": [
        {
          "output_type": "stream",
          "name": "stdout",
          "text": [
            "(18885, 6)\n",
            "42 32\n",
            "    Latitude  Longitude  Latitude_Bin  Longitude_Bin  Location Rating Roughly  \\\n",
            "13  52.49147   13.40926            42             32                     10.0   \n",
            "21  52.49271   13.41831            43             33                     10.0   \n",
            "30  52.49206   13.40273            43             31                      9.0   \n",
            "40  52.48965   13.42718            42             33                     10.0   \n",
            "43  52.49150   13.42344            42             33                     10.0   \n",
            "\n",
            "    Reviews Log  \n",
            "13     2.079442  \n",
            "21     5.541264  \n",
            "30     2.708050  \n",
            "40     1.098612  \n",
            "43     4.672829  \n",
            "16375.513132224427 1674.500539124103\n",
            "Weighted Location Rating: 9.779341809462853\n"
          ]
        },
        {
          "output_type": "stream",
          "name": "stderr",
          "text": [
            "<ipython-input-42-cd1c4c213bf0>:2: SettingWithCopyWarning: \n",
            "A value is trying to be set on a copy of a slice from a DataFrame\n",
            "\n",
            "See the caveats in the documentation: https://pandas.pydata.org/pandas-docs/stable/user_guide/indexing.html#returning-a-view-versus-a-copy\n",
            "  df.dropna(inplace=True)\n"
          ]
        }
      ]
    },
    {
      "cell_type": "code",
      "source": [],
      "metadata": {
        "id": "enjl3gW7xZtf"
      },
      "execution_count": null,
      "outputs": []
    },
    {
      "cell_type": "code",
      "source": [],
      "metadata": {
        "id": "c4vC0du0xZcV"
      },
      "execution_count": null,
      "outputs": []
    },
    {
      "cell_type": "code",
      "source": [
        "apartments[['Latitude_Bin', 'Longitude_Bin']].value_counts().sort_values(ascending=False)"
      ],
      "metadata": {
        "colab": {
          "base_uri": "https://localhost:8080/"
        },
        "id": "e5MHlflgCSej",
        "outputId": "72f447a8-5188-4063-c42a-9425982d35cc"
      },
      "execution_count": null,
      "outputs": [
        {
          "output_type": "execute_result",
          "data": {
            "text/plain": [
              "Latitude_Bin  Longitude_Bin\n",
              "40            34               255\n",
              "48            37               233\n",
              "              36               219\n",
              "40            35               206\n",
              "43            33               205\n",
              "                              ... \n",
              "25            26                 1\n",
              "23            27                 1\n",
              "25            29                 1\n",
              "              41                 1\n",
              "89            40                 1\n",
              "Name: count, Length: 1482, dtype: int64"
            ]
          },
          "metadata": {},
          "execution_count": 19
        }
      ]
    },
    {
      "cell_type": "code",
      "source": [
        "!pip install pandas numpy libpysal geopy esda -q\n"
      ],
      "metadata": {
        "id": "LnyunM5saEXZ"
      },
      "execution_count": null,
      "outputs": []
    }
  ]
}