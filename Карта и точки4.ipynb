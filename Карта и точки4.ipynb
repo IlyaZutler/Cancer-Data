{
  "nbformat": 4,
  "nbformat_minor": 0,
  "metadata": {
    "colab": {
      "provenance": [],
      "authorship_tag": "ABX9TyOK//2prTNZ3J0oGH+YnOHR",
      "include_colab_link": true
    },
    "kernelspec": {
      "name": "python3",
      "display_name": "Python 3"
    },
    "language_info": {
      "name": "python"
    }
  },
  "cells": [
    {
      "cell_type": "markdown",
      "metadata": {
        "id": "view-in-github",
        "colab_type": "text"
      },
      "source": [
        "<a href=\"https://colab.research.google.com/github/IlyaZutler/Project-3-Berlin-Airbnb-Ratings/blob/main/%D0%9A%D0%B0%D1%80%D1%82%D0%B0%20%D0%B8%20%D1%82%D0%BE%D1%87%D0%BA%D0%B84.ipynb\" target=\"_parent\"><img src=\"https://colab.research.google.com/assets/colab-badge.svg\" alt=\"Open In Colab\"/></a>"
      ]
    },
    {
      "cell_type": "markdown",
      "source": [
        "**This dataset contains information on Airbnb listings in Berlin, including reviewer ratings and comments**\n",
        "\n",
        "review_date: The date of the review. (Date)\n",
        "\n",
        "\n",
        "Reviewer Name: The name of the reviewer. (String)\n",
        "\n",
        "\n",
        "Comments: The reviewer's comments. (String)\n",
        "\n",
        "\n",
        "Listing URL: The URL of the listing. (String)\n",
        "\n",
        "\n",
        "Listing Name: The name of the listing. (String)\n",
        "\n",
        "\n",
        "Host URL: The URL of the host. (String)\n",
        "\n",
        "\n",
        "Host Name: The name of the host. (String)\n",
        "\n",
        "\n",
        "Host Since: The date the host joined Airbnb. (Date)\n",
        "\n",
        "\n",
        "Host Response Time: The host's response time. (String)\n",
        "\n",
        "\n",
        "Host Response Rate: The host's response rate. (String)\n",
        "\n",
        "\n",
        "Is Superhost: Whether or not the host is a Superhost. (Boolean)\n",
        "\n",
        "\n",
        "neighbourhood: The neighbourhood of the listing. (String)\n",
        "\n",
        "\n",
        "Neighborhood Group: The neighbourhood group of the listing. (String)\n",
        "\n",
        "\n",
        "City: The city of the listing. (String)\n",
        "\n",
        "\n",
        "Postal Code: The postal code of the listing. (String)\n",
        "\n",
        "\n",
        "Country Code: The country code of the listing. (String)\n",
        "\n",
        "\n",
        "Country Code: The country code of the listing. (String)\n",
        "\n",
        "\n",
        "Latitude: The latitude of the listing. (Float)\n",
        "\n",
        "\n",
        "Longitude: The longitude of the listing. (Float)\n",
        "\n",
        "\n",
        "Is Exact Location: Whether or not the location is exact. (Boolean)\n",
        "\n",
        "\n",
        "Property Type: The type of property. (String)\n",
        "\n",
        "\n",
        "Room Type: The type of room. (String)\n",
        "\n",
        "\n",
        "Accomodates: The number of people the property can accommodate. (Integer)\n",
        "\n",
        "\n",
        "Bathrooms: The number of bathrooms. (Float)\n",
        "\n",
        "\n",
        "Bedrooms: The number of bedrooms. (Integer)\n",
        "\n",
        "\n",
        "Beds: The number of beds. (Integer)\n",
        "\n",
        "\n",
        "Square Feet: The square footage of the property. (Float)\n",
        "\n",
        "\n",
        "Price: The price of the listing. (Float)\n",
        "\n",
        "\n",
        "Guests Included: The number of guests included in the price. (Integer)\n",
        "\n",
        "\n",
        "Min Nights: The minimum number of nights required to stay. (Integer)\n",
        "\n",
        "\n",
        "Reviews: The number of reviews the listing has. (Integer)\n",
        "\n",
        "\n",
        "First Review: The date of the first review. (Date)\n",
        "\n",
        "\n",
        "Last Review: The date of the last review. (Date)\n",
        "\n",
        "\n",
        "Overall Rating: The listing's overall rating. (Float)\n",
        "\n",
        "\n",
        "Accuracy Rating: The listing's accuracy rating. (Float)\n",
        "\n",
        "\n",
        "Cleanliness Rating: The listing's cleanliness rating. (Float)\n",
        "\n",
        "\n",
        "Checkin Rating: The listing's checkin rating. (Float)\n",
        "\n",
        "\n",
        "Communication Rating: The listing's communication rating. (Float)\n",
        "\n",
        "\n",
        "Location Rating: The listing's location rating. (Float)\n",
        "\n",
        "\n",
        "Value Rating: The listing's value rating. (Float)"
      ],
      "metadata": {
        "id": "mgs-gtJUAy3j"
      }
    },
    {
      "cell_type": "code",
      "execution_count": 2,
      "metadata": {
        "id": "UnyeFZrF9QXk"
      },
      "outputs": [],
      "source": [
        "import pandas as pd\n",
        "import numpy as np\n",
        "import matplotlib.pyplot as plt\n",
        "import seaborn as sns\n",
        "\n",
        "\n",
        "!pip install openpyxl -q\n",
        "import openpyxl\n",
        "\n",
        "# Ignore warnings\n",
        "import warnings\n",
        "warnings.filterwarnings('ignore')\n",
        "\n",
        "# Set display options\n",
        "%matplotlib inline\n",
        "pd.set_option('display.max_columns', 200)\n",
        "pd.set_option('display.max_rows', 200)\n",
        "pd.set_option('display.max_colwidth', 1000)"
      ]
    },
    {
      "cell_type": "code",
      "source": [
        "apartments_initial = pd.read_excel('/content/apartments.xlsx', engine='openpyxl')\n",
        "apartments = apartments_initial.copy()"
      ],
      "metadata": {
        "id": "4oVz2rzr9Xje"
      },
      "execution_count": 33,
      "outputs": []
    },
    {
      "cell_type": "code",
      "source": [
        "# # not usefull\n",
        "# !pip install autoviz -q\n",
        "# from autoviz.AutoViz_Class import AutoViz_Class\n",
        "# %matplotlib inline\n",
        "#\n",
        "# apartments_numeric = apartments_need[['Accomodates',\n",
        "#        'Bathrooms', 'Bedrooms', 'Beds', 'Square Feet', 'Price',\n",
        "#        'Guests Included', 'Min Nights', 'Reviews', 'First Review',\n",
        "#        'Last Review', 'Overall Rating', 'Accuracy Rating',\n",
        "#        'Cleanliness Rating', 'Checkin Rating', 'Communication Rating',\n",
        "#        'Location Rating', 'Value Rating']]\n",
        "# AV = AutoViz_Class()\n",
        "# AV.AutoViz('', dfte=apartments_numeric)\n"
      ],
      "metadata": {
        "id": "Wq_M4XsFAynL",
        "collapsed": true
      },
      "execution_count": null,
      "outputs": []
    },
    {
      "cell_type": "code",
      "source": [
        "apartments.info()"
      ],
      "metadata": {
        "id": "QNZP38xA9qm3",
        "collapsed": true
      },
      "execution_count": null,
      "outputs": []
    },
    {
      "cell_type": "code",
      "source": [
        "#apartments['Price'] = apartments['Price'].str.replace('$', '').str.replace(',', '').astype(float)\n",
        "apartments['Host Since'] = pd.to_datetime(apartments['Host Since'])\n",
        "apartments['First Review'] = pd.to_datetime(apartments['First Review'])\n",
        "apartments['Last Review'] = pd.to_datetime(apartments['Last Review'])"
      ],
      "metadata": {
        "id": "oMoELbLqqRkW"
      },
      "execution_count": 35,
      "outputs": []
    },
    {
      "cell_type": "code",
      "source": [
        "from datetime import datetime\n",
        "\n",
        "today = pd.to_datetime(datetime.today().strftime('%Y-%m-%d'))\n",
        "# Рассчитываем 'Host Years' как разницу в годах между текущей датой и 'Host Since'\n",
        "apartments['Host Since Years'] = (today - apartments['Host Since']).dt.days / 365.25\n",
        "apartments['Last Review Years'] = (today - apartments['Last Review']).dt.days / 365.25"
      ],
      "metadata": {
        "id": "tQO9j_S4wJoT"
      },
      "execution_count": null,
      "outputs": []
    },
    {
      "cell_type": "code",
      "source": [
        "(apartments.groupby('Property Type')\n",
        "        .agg(Count=('Listing ID', 'count'), Mean_Price=('Price', 'mean'))\n",
        "        .sort_values('Count', ascending=False)\n",
        "        .style.format({'Mean_Price': '{:.2f}'}))"
      ],
      "metadata": {
        "collapsed": true,
        "colab": {
          "base_uri": "https://localhost:8080/",
          "height": 1000
        },
        "id": "9k0ZKwDb0IIe",
        "outputId": "56592fb0-cfe0-4520-d999-3b3afc09afe0"
      },
      "execution_count": 8,
      "outputs": [
        {
          "output_type": "execute_result",
          "data": {
            "text/plain": [
              "<pandas.io.formats.style.Styler at 0x7a6949163a60>"
            ],
            "text/html": [
              "<style type=\"text/css\">\n",
              "</style>\n",
              "<table id=\"T_3d7d3\" class=\"dataframe\">\n",
              "  <thead>\n",
              "    <tr>\n",
              "      <th class=\"blank level0\" >&nbsp;</th>\n",
              "      <th id=\"T_3d7d3_level0_col0\" class=\"col_heading level0 col0\" >Count</th>\n",
              "      <th id=\"T_3d7d3_level0_col1\" class=\"col_heading level0 col1\" >Mean_Price</th>\n",
              "    </tr>\n",
              "    <tr>\n",
              "      <th class=\"index_name level0\" >Property Type</th>\n",
              "      <th class=\"blank col0\" >&nbsp;</th>\n",
              "      <th class=\"blank col1\" >&nbsp;</th>\n",
              "    </tr>\n",
              "  </thead>\n",
              "  <tbody>\n",
              "    <tr>\n",
              "      <th id=\"T_3d7d3_level0_row0\" class=\"row_heading level0 row0\" >Apartment</th>\n",
              "      <td id=\"T_3d7d3_row0_col0\" class=\"data row0 col0\" >20948</td>\n",
              "      <td id=\"T_3d7d3_row0_col1\" class=\"data row0 col1\" >59.87</td>\n",
              "    </tr>\n",
              "    <tr>\n",
              "      <th id=\"T_3d7d3_level0_row1\" class=\"row_heading level0 row1\" >Condominium</th>\n",
              "      <td id=\"T_3d7d3_row1_col0\" class=\"data row1 col0\" >577</td>\n",
              "      <td id=\"T_3d7d3_row1_col1\" class=\"data row1 col1\" >72.62</td>\n",
              "    </tr>\n",
              "    <tr>\n",
              "      <th id=\"T_3d7d3_level0_row2\" class=\"row_heading level0 row2\" >Loft</th>\n",
              "      <td id=\"T_3d7d3_row2_col0\" class=\"data row2 col0\" >458</td>\n",
              "      <td id=\"T_3d7d3_row2_col1\" class=\"data row2 col1\" >121.28</td>\n",
              "    </tr>\n",
              "    <tr>\n",
              "      <th id=\"T_3d7d3_level0_row3\" class=\"row_heading level0 row3\" >House</th>\n",
              "      <td id=\"T_3d7d3_row3_col0\" class=\"data row3 col0\" >436</td>\n",
              "      <td id=\"T_3d7d3_row3_col1\" class=\"data row3 col1\" >71.38</td>\n",
              "    </tr>\n",
              "    <tr>\n",
              "      <th id=\"T_3d7d3_level0_row4\" class=\"row_heading level0 row4\" >Serviced apartment</th>\n",
              "      <td id=\"T_3d7d3_row4_col0\" class=\"data row4 col0\" >316</td>\n",
              "      <td id=\"T_3d7d3_row4_col1\" class=\"data row4 col1\" >195.57</td>\n",
              "    </tr>\n",
              "    <tr>\n",
              "      <th id=\"T_3d7d3_level0_row5\" class=\"row_heading level0 row5\" >Hostel</th>\n",
              "      <td id=\"T_3d7d3_row5_col0\" class=\"data row5 col0\" >183</td>\n",
              "      <td id=\"T_3d7d3_row5_col1\" class=\"data row5 col1\" >133.90</td>\n",
              "    </tr>\n",
              "    <tr>\n",
              "      <th id=\"T_3d7d3_level0_row6\" class=\"row_heading level0 row6\" >Townhouse</th>\n",
              "      <td id=\"T_3d7d3_row6_col0\" class=\"data row6 col0\" >108</td>\n",
              "      <td id=\"T_3d7d3_row6_col1\" class=\"data row6 col1\" >78.71</td>\n",
              "    </tr>\n",
              "    <tr>\n",
              "      <th id=\"T_3d7d3_level0_row7\" class=\"row_heading level0 row7\" >Bed and breakfast</th>\n",
              "      <td id=\"T_3d7d3_row7_col0\" class=\"data row7 col0\" >85</td>\n",
              "      <td id=\"T_3d7d3_row7_col1\" class=\"data row7 col1\" >64.61</td>\n",
              "    </tr>\n",
              "    <tr>\n",
              "      <th id=\"T_3d7d3_level0_row8\" class=\"row_heading level0 row8\" >Guest suite</th>\n",
              "      <td id=\"T_3d7d3_row8_col0\" class=\"data row8 col0\" >73</td>\n",
              "      <td id=\"T_3d7d3_row8_col1\" class=\"data row8 col1\" >56.89</td>\n",
              "    </tr>\n",
              "    <tr>\n",
              "      <th id=\"T_3d7d3_level0_row9\" class=\"row_heading level0 row9\" >Hotel</th>\n",
              "      <td id=\"T_3d7d3_row9_col0\" class=\"data row9 col0\" >72</td>\n",
              "      <td id=\"T_3d7d3_row9_col1\" class=\"data row9 col1\" >1674.99</td>\n",
              "    </tr>\n",
              "    <tr>\n",
              "      <th id=\"T_3d7d3_level0_row10\" class=\"row_heading level0 row10\" >Boutique hotel</th>\n",
              "      <td id=\"T_3d7d3_row10_col0\" class=\"data row10 col0\" >66</td>\n",
              "      <td id=\"T_3d7d3_row10_col1\" class=\"data row10 col1\" >147.50</td>\n",
              "    </tr>\n",
              "    <tr>\n",
              "      <th id=\"T_3d7d3_level0_row11\" class=\"row_heading level0 row11\" >Guesthouse</th>\n",
              "      <td id=\"T_3d7d3_row11_col0\" class=\"data row11 col0\" >57</td>\n",
              "      <td id=\"T_3d7d3_row11_col1\" class=\"data row11 col1\" >74.33</td>\n",
              "    </tr>\n",
              "    <tr>\n",
              "      <th id=\"T_3d7d3_level0_row12\" class=\"row_heading level0 row12\" >Other</th>\n",
              "      <td id=\"T_3d7d3_row12_col0\" class=\"data row12 col0\" >41</td>\n",
              "      <td id=\"T_3d7d3_row12_col1\" class=\"data row12 col1\" >74.05</td>\n",
              "    </tr>\n",
              "    <tr>\n",
              "      <th id=\"T_3d7d3_level0_row13\" class=\"row_heading level0 row13\" >Bungalow</th>\n",
              "      <td id=\"T_3d7d3_row13_col0\" class=\"data row13 col0\" >23</td>\n",
              "      <td id=\"T_3d7d3_row13_col1\" class=\"data row13 col1\" >74.22</td>\n",
              "    </tr>\n",
              "    <tr>\n",
              "      <th id=\"T_3d7d3_level0_row14\" class=\"row_heading level0 row14\" >Boat</th>\n",
              "      <td id=\"T_3d7d3_row14_col0\" class=\"data row14 col0\" >20</td>\n",
              "      <td id=\"T_3d7d3_row14_col1\" class=\"data row14 col1\" >163.80</td>\n",
              "    </tr>\n",
              "    <tr>\n",
              "      <th id=\"T_3d7d3_level0_row15\" class=\"row_heading level0 row15\" >Houseboat</th>\n",
              "      <td id=\"T_3d7d3_row15_col0\" class=\"data row15 col0\" >14</td>\n",
              "      <td id=\"T_3d7d3_row15_col1\" class=\"data row15 col1\" >182.29</td>\n",
              "    </tr>\n",
              "    <tr>\n",
              "      <th id=\"T_3d7d3_level0_row16\" class=\"row_heading level0 row16\" >Villa</th>\n",
              "      <td id=\"T_3d7d3_row16_col0\" class=\"data row16 col0\" >13</td>\n",
              "      <td id=\"T_3d7d3_row16_col1\" class=\"data row16 col1\" >247.00</td>\n",
              "    </tr>\n",
              "    <tr>\n",
              "      <th id=\"T_3d7d3_level0_row17\" class=\"row_heading level0 row17\" >Tiny house</th>\n",
              "      <td id=\"T_3d7d3_row17_col0\" class=\"data row17 col0\" >8</td>\n",
              "      <td id=\"T_3d7d3_row17_col1\" class=\"data row17 col1\" >61.12</td>\n",
              "    </tr>\n",
              "    <tr>\n",
              "      <th id=\"T_3d7d3_level0_row18\" class=\"row_heading level0 row18\" >Pension (South Korea)</th>\n",
              "      <td id=\"T_3d7d3_row18_col0\" class=\"data row18 col0\" >8</td>\n",
              "      <td id=\"T_3d7d3_row18_col1\" class=\"data row18 col1\" >79.38</td>\n",
              "    </tr>\n",
              "    <tr>\n",
              "      <th id=\"T_3d7d3_level0_row19\" class=\"row_heading level0 row19\" >Cabin</th>\n",
              "      <td id=\"T_3d7d3_row19_col0\" class=\"data row19 col0\" >7</td>\n",
              "      <td id=\"T_3d7d3_row19_col1\" class=\"data row19 col1\" >76.00</td>\n",
              "    </tr>\n",
              "    <tr>\n",
              "      <th id=\"T_3d7d3_level0_row20\" class=\"row_heading level0 row20\" >Cottage</th>\n",
              "      <td id=\"T_3d7d3_row20_col0\" class=\"data row20 col0\" >7</td>\n",
              "      <td id=\"T_3d7d3_row20_col1\" class=\"data row20 col1\" >75.29</td>\n",
              "    </tr>\n",
              "    <tr>\n",
              "      <th id=\"T_3d7d3_level0_row21\" class=\"row_heading level0 row21\" >Camper/RV</th>\n",
              "      <td id=\"T_3d7d3_row21_col0\" class=\"data row21 col0\" >6</td>\n",
              "      <td id=\"T_3d7d3_row21_col1\" class=\"data row21 col1\" >44.17</td>\n",
              "    </tr>\n",
              "    <tr>\n",
              "      <th id=\"T_3d7d3_level0_row22\" class=\"row_heading level0 row22\" >Aparthotel</th>\n",
              "      <td id=\"T_3d7d3_row22_col0\" class=\"data row22 col0\" >4</td>\n",
              "      <td id=\"T_3d7d3_row22_col1\" class=\"data row22 col1\" >104.00</td>\n",
              "    </tr>\n",
              "    <tr>\n",
              "      <th id=\"T_3d7d3_level0_row23\" class=\"row_heading level0 row23\" >Resort</th>\n",
              "      <td id=\"T_3d7d3_row23_col0\" class=\"data row23 col0\" >3</td>\n",
              "      <td id=\"T_3d7d3_row23_col1\" class=\"data row23 col1\" >25.33</td>\n",
              "    </tr>\n",
              "    <tr>\n",
              "      <th id=\"T_3d7d3_level0_row24\" class=\"row_heading level0 row24\" >Castle</th>\n",
              "      <td id=\"T_3d7d3_row24_col0\" class=\"data row24 col0\" >3</td>\n",
              "      <td id=\"T_3d7d3_row24_col1\" class=\"data row24 col1\" >80.00</td>\n",
              "    </tr>\n",
              "    <tr>\n",
              "      <th id=\"T_3d7d3_level0_row25\" class=\"row_heading level0 row25\" >Casa particular (Cuba)</th>\n",
              "      <td id=\"T_3d7d3_row25_col0\" class=\"data row25 col0\" >2</td>\n",
              "      <td id=\"T_3d7d3_row25_col1\" class=\"data row25 col1\" >78.00</td>\n",
              "    </tr>\n",
              "    <tr>\n",
              "      <th id=\"T_3d7d3_level0_row26\" class=\"row_heading level0 row26\" >Train</th>\n",
              "      <td id=\"T_3d7d3_row26_col0\" class=\"data row26 col0\" >2</td>\n",
              "      <td id=\"T_3d7d3_row26_col1\" class=\"data row26 col1\" >62.50</td>\n",
              "    </tr>\n",
              "    <tr>\n",
              "      <th id=\"T_3d7d3_level0_row27\" class=\"row_heading level0 row27\" >Treehouse</th>\n",
              "      <td id=\"T_3d7d3_row27_col0\" class=\"data row27 col0\" >2</td>\n",
              "      <td id=\"T_3d7d3_row27_col1\" class=\"data row27 col1\" >19.50</td>\n",
              "    </tr>\n",
              "    <tr>\n",
              "      <th id=\"T_3d7d3_level0_row28\" class=\"row_heading level0 row28\" >Earth house</th>\n",
              "      <td id=\"T_3d7d3_row28_col0\" class=\"data row28 col0\" >2</td>\n",
              "      <td id=\"T_3d7d3_row28_col1\" class=\"data row28 col1\" >23.00</td>\n",
              "    </tr>\n",
              "    <tr>\n",
              "      <th id=\"T_3d7d3_level0_row29\" class=\"row_heading level0 row29\" >Hut</th>\n",
              "      <td id=\"T_3d7d3_row29_col0\" class=\"data row29 col0\" >1</td>\n",
              "      <td id=\"T_3d7d3_row29_col1\" class=\"data row29 col1\" >32.00</td>\n",
              "    </tr>\n",
              "    <tr>\n",
              "      <th id=\"T_3d7d3_level0_row30\" class=\"row_heading level0 row30\" >Tent</th>\n",
              "      <td id=\"T_3d7d3_row30_col0\" class=\"data row30 col0\" >1</td>\n",
              "      <td id=\"T_3d7d3_row30_col1\" class=\"data row30 col1\" >49.00</td>\n",
              "    </tr>\n",
              "    <tr>\n",
              "      <th id=\"T_3d7d3_level0_row31\" class=\"row_heading level0 row31\" >Cave</th>\n",
              "      <td id=\"T_3d7d3_row31_col0\" class=\"data row31 col0\" >1</td>\n",
              "      <td id=\"T_3d7d3_row31_col1\" class=\"data row31 col1\" >28.00</td>\n",
              "    </tr>\n",
              "    <tr>\n",
              "      <th id=\"T_3d7d3_level0_row32\" class=\"row_heading level0 row32\" >Tipi</th>\n",
              "      <td id=\"T_3d7d3_row32_col0\" class=\"data row32 col0\" >1</td>\n",
              "      <td id=\"T_3d7d3_row32_col1\" class=\"data row32 col1\" >35.00</td>\n",
              "    </tr>\n",
              "    <tr>\n",
              "      <th id=\"T_3d7d3_level0_row33\" class=\"row_heading level0 row33\" >Barn</th>\n",
              "      <td id=\"T_3d7d3_row33_col0\" class=\"data row33 col0\" >1</td>\n",
              "      <td id=\"T_3d7d3_row33_col1\" class=\"data row33 col1\" >89.00</td>\n",
              "    </tr>\n",
              "    <tr>\n",
              "      <th id=\"T_3d7d3_level0_row34\" class=\"row_heading level0 row34\" >Vacation home</th>\n",
              "      <td id=\"T_3d7d3_row34_col0\" class=\"data row34 col0\" >1</td>\n",
              "      <td id=\"T_3d7d3_row34_col1\" class=\"data row34 col1\" >83.00</td>\n",
              "    </tr>\n",
              "  </tbody>\n",
              "</table>\n"
            ]
          },
          "metadata": {},
          "execution_count": 8
        }
      ]
    },
    {
      "cell_type": "code",
      "source": [
        "apartments = apartments[apartments['Property Type'].isin(['Apartment', 'Condominium'])]\n",
        "apartments = apartments[(apartments['Price'] > 10) & (apartments['Price'] < 1000)]\n",
        "apartments = apartments[apartments['Min Nights'] <= 7]\n"
      ],
      "metadata": {
        "id": "JsqxMMSB0Pei"
      },
      "execution_count": null,
      "outputs": []
    },
    {
      "cell_type": "code",
      "source": [
        "sns.histplot(apartments['Reviews'], bins=500)\n",
        "plt.show()"
      ],
      "metadata": {
        "colab": {
          "base_uri": "https://localhost:8080/",
          "height": 449
        },
        "id": "VtqtmYfD-i50",
        "outputId": "aaf9dcb7-9c32-44ab-b197-e8f4d49e931e"
      },
      "execution_count": 9,
      "outputs": [
        {
          "output_type": "display_data",
          "data": {
            "text/plain": [
              "<Figure size 640x480 with 1 Axes>"
            ],
            "image/png": "[encoded data removed]"
          },
          "metadata": {}
        }
      ]
    },
    {
      "cell_type": "code",
      "source": [
        "apartments['Reviews Log'] = np.log1p(apartments['Reviews'])"
      ],
      "metadata": {
        "id": "nSw2EcHzVzeB"
      },
      "execution_count": 10,
      "outputs": []
    },
    {
      "cell_type": "code",
      "source": [
        "sns.histplot(apartments['Reviews Log'], bins=16) #, discrete=(True))\n",
        "plt.show()"
      ],
      "metadata": {
        "colab": {
          "base_uri": "https://localhost:8080/",
          "height": 449
        },
        "id": "NL6pSFDEWDnP",
        "outputId": "ba52728a-0be5-4951-fb3a-972a3c818ac3"
      },
      "execution_count": 25,
      "outputs": [
        {
          "output_type": "display_data",
          "data": {
            "text/plain": [
              "<Figure size 640x480 with 1 Axes>"
            ],
            "image/png": "[encoded data removed]"
          },
          "metadata": {}
        }
      ]
    },
    {
      "cell_type": "code",
      "source": [
        "# apartments_need = apartments.drop(['Listing ID', 'Listing URL', 'Listing Name', 'Host ID', 'Host URL',\n",
        "#        'Host Name', 'Host Response Time', 'Host Response Rate',\n",
        "#        'neighbourhood', 'Neighborhood Group', 'City',\n",
        "#        'Postal Code', 'Country Code', 'Country','Square Feet'], axis=1)\n",
        "# apartments_need.shape\n"
      ],
      "metadata": {
        "id": "NmeRPS2Coljm"
      },
      "execution_count": null,
      "outputs": []
    },
    {
      "cell_type": "code",
      "source": [],
      "metadata": {
        "id": "a2SCbTo4bd5x",
        "outputId": "2f770f07-108a-42d1-bfd0-10d54ff4be72",
        "colab": {
          "base_uri": "https://localhost:8080/"
        }
      },
      "execution_count": null,
      "outputs": [
        {
          "output_type": "execute_result",
          "data": {
            "text/plain": [
              "(21472, 30)"
            ]
          },
          "metadata": {},
          "execution_count": 17
        }
      ]
    },
    {
      "cell_type": "code",
      "source": [
        "apartments['Location Rating'].value_counts()"
      ],
      "metadata": {
        "collapsed": true,
        "colab": {
          "base_uri": "https://localhost:8080/"
        },
        "id": "RuMkyRwQ1kIs",
        "outputId": "6a451b42-bd26-40ce-9063-71f30c298674"
      },
      "execution_count": null,
      "outputs": [
        {
          "output_type": "execute_result",
          "data": {
            "text/plain": [
              "Location Rating\n",
              "10.0    12334\n",
              "9.0      5187\n",
              "8.0      1061\n",
              "6.0       144\n",
              "7.0       119\n",
              "4.0        22\n",
              "5.0         9\n",
              "2.0         9\n",
              "Name: count, dtype: int64"
            ]
          },
          "metadata": {},
          "execution_count": 59
        }
      ]
    },
    {
      "cell_type": "code",
      "source": [
        "apartments['Location Rating Roughly'] = apartments['Location Rating'].apply(lambda x: 8 if x < 9 else x)"
      ],
      "metadata": {
        "id": "gHG8JDh-RdoH"
      },
      "execution_count": 26,
      "outputs": []
    },
    {
      "cell_type": "code",
      "source": [
        "sns.histplot(apartments['Location Rating Roughly'], discrete=(True))\n",
        "plt.show()"
      ],
      "metadata": {
        "colab": {
          "base_uri": "https://localhost:8080/",
          "height": 449
        },
        "id": "1FzrXI6QRCHs",
        "outputId": "1b719805-456f-42bb-986a-0dd2943b9de7"
      },
      "execution_count": 27,
      "outputs": [
        {
          "output_type": "display_data",
          "data": {
            "text/plain": [
              "<Figure size 640x480 with 1 Axes>"
            ],
            "image/png": "[encoded data removed]"
          },
          "metadata": {}
        }
      ]
    },
    {
      "cell_type": "code",
      "source": [
        "sns.histplot(apartments['Overall Rating'], discrete=(True))\n",
        "plt.show()"
      ],
      "metadata": {
        "colab": {
          "base_uri": "https://localhost:8080/",
          "height": 449
        },
        "id": "GFU6AuxB_mMe",
        "outputId": "868a9432-1515-4ad7-b3a6-0aeff8873fda"
      },
      "execution_count": 28,
      "outputs": [
        {
          "output_type": "display_data",
          "data": {
            "text/plain": [
              "<Figure size 640x480 with 1 Axes>"
            ],
            "image/png": "[encoded data removed]"
          },
          "metadata": {}
        }
      ]
    },
    {
      "cell_type": "markdown",
      "source": [
        "# Нарисовать карту рейтинга"
      ],
      "metadata": {
        "id": "JXz10ANwbDwS"
      }
    },
    {
      "cell_type": "code",
      "source": [
        "!pip install -q folium matplotlib\n",
        "\n",
        "import folium\n",
        "import matplotlib.pyplot as plt\n",
        "from matplotlib.colors import LinearSegmentedColormap, Normalize, to_hex"
      ],
      "metadata": {
        "id": "jcaXzj9eGVMd"
      },
      "execution_count": null,
      "outputs": []
    },
    {
      "cell_type": "code",
      "source": [
        "df = apartments[['Latitude', 'Longitude','Location Rating Roughly','Reviews Log']]\n",
        "df.dropna(inplace=True)\n",
        "\n",
        "# Цвета для Location Rating\n",
        "color_map = {\n",
        "    8: 'blue',\n",
        "    9: 'green',\n",
        "    10: 'red'\n",
        "}\n",
        "\n",
        "# Создание карты с использованием folium\n",
        "m = folium.Map(location=[df['Latitude'].mean(), df['Longitude'].mean()], zoom_start=5)\n",
        "\n",
        "# Добавление точек на карту\n",
        "for idx, row in df.iterrows():\n",
        "    color = color_map.get(row['Location Rating Roughly'], 'gray')  # Использование серого цвета по умолчанию\n",
        "    folium.CircleMarker(\n",
        "        location=(row['Latitude'], row['Longitude']),\n",
        "        radius=row['Reviews Log'] + 1,\n",
        "        color=color,\n",
        "        fill=True,\n",
        "        fill_color=color\n",
        "    ).add_to(m)\n",
        "\n",
        "# Создание пользовательской цветовой легенды\n",
        "legend_html = '''\n",
        "<div style=\"\n",
        "    position: fixed;\n",
        "    bottom: 50px; left: 50px; width: 150px; height: 120px;\n",
        "    background-color: white; z-index:9999; font-size:14px;\n",
        "    border:2px solid grey; border-radius:5px;\n",
        "    \">\n",
        "    <div style=\"padding: 10px;\">\n",
        "        <b>Location Rating</b><br>\n",
        "        <i style=\"background:blue; width:18px; height:18px; float:left; margin-right:5px; border-radius:50%;\"></i>8<br>\n",
        "        <i style=\"background:green; width:18px; height:18px; float:left; margin-right:5px; border-radius:50%;\"></i>9<br>\n",
        "        <i style=\"background:red; width:18px; height:18px; float:left; margin-right:5px; border-radius:50%;\"></i>10<br>\n",
        "    </div>\n",
        "</div>\n",
        "'''\n",
        "\n",
        "# Добавление легенды на карту\n",
        "m.get_root().html.add_child(folium.Element(legend_html))\n",
        "\n",
        "# Сохранение карты в файл\n",
        "m.save('map.html')\n",
        "\n",
        "# Отображение карты (если используется Jupyter Notebook или Colab)\n",
        "m"
      ],
      "metadata": {
        "id": "oyGKsNSxkiS4"
      },
      "execution_count": null,
      "outputs": []
    },
    {
      "cell_type": "code",
      "source": [],
      "metadata": {
        "id": "A-PfJCkPyU-p"
      },
      "execution_count": null,
      "outputs": []
    },
    {
      "cell_type": "markdown",
      "source": [
        "## нарисовать карту цен"
      ],
      "metadata": {
        "id": "K4EqlaeuyWf5"
      }
    },
    {
      "cell_type": "code",
      "source": [],
      "metadata": {
        "id": "_9NOdTbiyYZt"
      },
      "execution_count": null,
      "outputs": []
    },
    {
      "cell_type": "code",
      "source": [
        "import pandas as pd\n",
        "import folium\n",
        "import matplotlib.pyplot as plt\n",
        "from matplotlib.colors import LinearSegmentedColormap, Normalize, to_hex\n",
        "\n",
        "df = apartments[['Latitude', 'Longitude','Price','Reviews Log']]\n",
        "df.dropna(inplace=True)\n",
        "\n",
        "# Создание цветовой карты от синего через зеленый до красного\n",
        "colors = ['blue', 'green', 'red']\n",
        "cmap = LinearSegmentedColormap.from_list('RatingColorMap', colors, N=10)\n",
        "\n",
        "# Нормализация значений Rating для использования в цветовой карте\n",
        "norm = Normalize(vmin=df['Price'].min(), vmax=df['Price'].max())\n",
        "\n",
        "# Создание карты с использованием folium\n",
        "m = folium.Map(location=[df['Latitude'].mean(), df['Longitude'].mean()], zoom_start=5)\n",
        "\n",
        "# Добавление точек на карту\n",
        "for idx, row in df.iterrows():\n",
        "    color = to_hex(cmap(norm(row['Price'])))\n",
        "    folium.CircleMarker(\n",
        "        location=(row['Latitude'], row['Longitude']),\n",
        "        radius=row['Reviews Log'] + 1,\n",
        "        color=color,\n",
        "        fill=True,\n",
        "        fill_color=color\n",
        "    ).add_to(m)\n",
        "\n",
        "# Создание пользовательской цветовой легенды\n",
        "legend_html = '''\n",
        "<div style=\"\n",
        "    position: fixed;\n",
        "    bottom: 50px; left: 50px; width: 150px; height: 250px;\n",
        "    background-color: white; z-index:9999; font-size:14px;\n",
        "    border:2px solid grey; border-radius:5px;\n",
        "    \">\n",
        "    <div style=\"padding: 10px;\">\n",
        "        <b>Price</b><br>\n",
        "        <i style=\"background:blue; width:18px; height:18px; float:left; margin-right:5px; border-radius:50%;\"></i>1<br>\n",
        "        <i style=\"background:linear-gradient(blue, green, red); width:18px; height:18px; float:left; margin-right:5px; border-radius:50%;\"></i>...<br>\n",
        "        <i style=\"background:red; width:18px; height:18px; float:left; margin-right:5px; border-radius:50%;\"></i>10<br>\n",
        "    </div>\n",
        "</div>\n",
        "'''\n",
        "\n",
        "# Добавление легенды на карту\n",
        "m.get_root().html.add_child(folium.Element(legend_html))\n",
        "\n",
        "# Сохранение карты в файл\n",
        "m.save('map.html')\n",
        "\n",
        "# Отображение карты (если используется Jupyter Notebook или Colab)\n",
        "m\n"
      ],
      "metadata": {
        "id": "ev8Mv9l5yU7t"
      },
      "execution_count": null,
      "outputs": []
    },
    {
      "cell_type": "code",
      "source": [],
      "metadata": {
        "id": "9mNiihu5yU4y"
      },
      "execution_count": null,
      "outputs": []
    },
    {
      "cell_type": "code",
      "source": [],
      "metadata": {
        "id": "YQXuGjDoyU2C"
      },
      "execution_count": null,
      "outputs": []
    },
    {
      "cell_type": "code",
      "source": [],
      "metadata": {
        "id": "XUmSu7MGyUzY"
      },
      "execution_count": null,
      "outputs": []
    },
    {
      "cell_type": "code",
      "source": [],
      "metadata": {
        "id": "hw7xmihmyUwL"
      },
      "execution_count": null,
      "outputs": []
    },
    {
      "cell_type": "code",
      "source": [
        "!pip install geopy -q\n",
        "from geopy.distance import geodesic"
      ],
      "metadata": {
        "id": "q8z9pSj04jou"
      },
      "execution_count": null,
      "outputs": []
    },
    {
      "cell_type": "code",
      "source": [
        "# Координаты точек (Latitude и Longitude)\n",
        "coords_1 = (52.345800, 13.097180)  # Берлин\n",
        "coords_2 = (52.345800, 13.757640)   # Париж\n",
        "\n",
        "# Вычисление расстояния в километрах\n",
        "distance_meters = geodesic(coords_1, coords_2).kilometers * 1000\n",
        "\n",
        "# Форматирование числа с разделением разрядов пробелами\n",
        "distance_str = \"{:,.0f}\".format(distance_meters).replace(\",\", \" \")\n",
        "\n",
        "print(f\"Расстояние между точками: {distance_str} метров\")\n"
      ],
      "metadata": {
        "colab": {
          "base_uri": "https://localhost:8080/"
        },
        "id": "D5ZQINPR5W2N",
        "outputId": "ed25cc90-b633-4cf1-a004-440ab23fe055"
      },
      "execution_count": null,
      "outputs": [
        {
          "output_type": "stream",
          "name": "stdout",
          "text": [
            "Расстояние между точками: 45 009 метров\n"
          ]
        }
      ]
    },
    {
      "cell_type": "markdown",
      "source": [
        "по высоте 34 км, по ширине 45 км.\n",
        "разделить интервал по ширине от 13.097180 до 13.757640 на 45/2 кусков\n",
        "и разделить от 52.345800 до 52.651670 на 34/2 интервалов."
      ],
      "metadata": {
        "id": "E00F5HHI6quc"
      }
    },
    {
      "cell_type": "code",
      "source": [
        "# Разделение интервалов для Latitude и Longitude\n",
        "lat_bin = np.linspace(apartments['Latitude'].min(), apartments['Latitude'].max(), 91)  # 90 отрезков означает 91 точка\n",
        "lon_bin = np.linspace(apartments['Longitude'].min(), apartments['Longitude'].max(), 69)  # 70 отрезков означает 71 точка\n",
        "\n",
        "# Создание столбцов Latitude_No и Longitude_No\n",
        "apartments['Latitude_Bin'] = pd.cut(apartments['Latitude'], bins=lat_bin, labels=False, include_lowest=True)\n",
        "apartments['Longitude_Bin'] = pd.cut(apartments['Longitude'], bins=lon_bin, labels=False, include_lowest=True)\n",
        "\n",
        "# функция для определения бина\n",
        "def determine_bins(lat, lon, lat_bin, lon_bin):\n",
        "    lat_bin = np.digitize(lat, lat_bin) - 1  # Индексы в numpy начинаются с 0\n",
        "    lon_bin = np.digitize(lon, lon_bin) - 1\n",
        "    return lat_bin, lon_bin\n"
      ],
      "metadata": {
        "id": "z5Ub2Eai6ptG"
      },
      "execution_count": null,
      "outputs": []
    },
    {
      "cell_type": "code",
      "source": [
        "52.49206   13.40273            43             31"
      ],
      "metadata": {
        "id": "Kj9Gxx69r34f"
      },
      "execution_count": null,
      "outputs": []
    },
    {
      "cell_type": "code",
      "source": [
        "lat = 52.489182\n",
        "lon = 13.416555\n",
        "determine_bins(lat, lon, lat_bin, lon_bin)"
      ],
      "metadata": {
        "id": "_qqnWCFNz2eu",
        "outputId": "062a71a7-3ef4-48dc-e569-31d742dbff4b",
        "colab": {
          "base_uri": "https://localhost:8080/"
        }
      },
      "execution_count": null,
      "outputs": [
        {
          "output_type": "execute_result",
          "data": {
            "text/plain": [
              "(42, 32)"
            ]
          },
          "metadata": {},
          "execution_count": 49
        }
      ]
    },
    {
      "cell_type": "code",
      "source": [
        "!pip install pandas numpy libpysal geopy esda -q\n",
        "import numpy as np\n",
        "import pandas as pd\n",
        "from geopy.distance import great_circle"
      ],
      "metadata": {
        "id": "88CftguySvjB"
      },
      "execution_count": null,
      "outputs": []
    },
    {
      "cell_type": "code",
      "source": [
        "# prompt: удалить из apartments точки, в которых Location Rating Roughly равно NaN\n",
        "\n",
        "apartments_clean = apartments.dropna(subset=['Location Rating Roughly'])\n"
      ],
      "metadata": {
        "id": "i9xHGsKw22do"
      },
      "execution_count": null,
      "outputs": []
    },
    {
      "cell_type": "code",
      "source": [
        "df = apartments[['Latitude', 'Longitude', 'Latitude_Bin', 'Longitude_Bin','Location Rating Roughly','Reviews Log']]\n",
        "df.dropna(inplace=True)\n",
        "print(df.shape)\n",
        "df = df.reset_index(drop=True)\n",
        "\n",
        "def weighted_location_rating(lat, lon, lat_bin, lon_bin, df, primary_threshold_m=500, secondary_threshold_m=1000):\n",
        "\n",
        "\n",
        "    epsilon = 0.1  # Маленькое значение для предотвращения деления на ноль\n",
        "\n",
        "    lat_bin, lon_bin = determine_bins(lat, lon, lat_bin, lon_bin)\n",
        "    print(lat_bin, lon_bin)\n",
        "\n",
        "    def calculate_weighted_average(threshold_km, bin_range):\n",
        "        weighted_sum = 0\n",
        "        total_weight = 0\n",
        "\n",
        "        # Отбираем точки из заданных и соседних бинов\n",
        "        nearby_bins = df[(df['Latitude_Bin'] >= lat_bin - bin_range) & (df['Latitude_Bin'] <= lat_bin + bin_range) &\n",
        "                         (df['Longitude_Bin'] >= lon_bin - bin_range) & (df['Longitude_Bin'] <= lon_bin + bin_range)]\n",
        "        print(nearby_bins.head(5))\n",
        "\n",
        "        for i in range(len(nearby_bins)):\n",
        "            lat_i, lon_i = nearby_bins.iloc[i]['Latitude'], nearby_bins.iloc[i]['Longitude']\n",
        "            dist_km = great_circle((lat, lon), (lat_i, lon_i)).kilometers\n",
        "            if dist_km <= threshold_km:\n",
        "                weight = 1 / (dist_km + epsilon) * nearby_bins.iloc[i]['Reviews Log']\n",
        "                weighted_sum += nearby_bins.iloc[i]['Location Rating Roughly'] * weight\n",
        "                total_weight += weight\n",
        "\n",
        "        return weighted_sum, total_weight\n",
        "\n",
        "    # Первоначальный расчет для соседних бинов (±1) и порога 500 метров\n",
        "    threshold_km = primary_threshold_m / 1000\n",
        "    weighted_sum, total_weight = calculate_weighted_average(threshold_km, bin_range=1)\n",
        "    print(weighted_sum, total_weight)\n",
        "\n",
        "    # Если нет точек в соседних бинах, увеличиваем диапазон до ±2 и порог до 1000 метров\n",
        "    if total_weight == 0:\n",
        "        threshold_km = secondary_threshold_m / 1000\n",
        "        weighted_sum, total_weight = calculate_weighted_average(threshold_km, bin_range=2)\n",
        "\n",
        "    if total_weight == 0:\n",
        "        return 8 # Если нет соседей, возвращаем 8, а не np.nan\n",
        "    weighted_avg = weighted_sum / total_weight\n",
        "    return weighted_avg\n",
        "\n",
        "# Пример использования функции\n",
        "lat = 52.489182\n",
        "lon = 13.416555\n",
        "weighted_rating = weighted_location_rating(lat, lon, lat_bin, lon_bin, df, )\n",
        "print(f\"Weighted Location Rating: {weighted_rating}\")"
      ],
      "metadata": {
        "id": "W830Ypu5xZ0e",
        "outputId": "9b63bdea-53a6-41bb-c5c8-468705cc0d0c",
        "colab": {
          "base_uri": "https://localhost:8080/"
        }
      },
      "execution_count": null,
      "outputs": [
        {
          "output_type": "stream",
          "name": "stdout",
          "text": [
            "(18885, 6)\n",
            "42 32\n",
            "    Latitude  Longitude  Latitude_Bin  Longitude_Bin  Location Rating Roughly  \\\n",
            "13  52.49147   13.40926            42             32                     10.0   \n",
            "21  52.49271   13.41831            43             33                     10.0   \n",
            "30  52.49206   13.40273            43             31                      9.0   \n",
            "40  52.48965   13.42718            42             33                     10.0   \n",
            "43  52.49150   13.42344            42             33                     10.0   \n",
            "\n",
            "    Reviews Log  \n",
            "13     2.079442  \n",
            "21     5.541264  \n",
            "30     2.708050  \n",
            "40     1.098612  \n",
            "43     4.672829  \n",
            "16375.513132224427 1674.500539124103\n",
            "Weighted Location Rating: 9.779341809462853\n"
          ]
        },
        {
          "output_type": "stream",
          "name": "stderr",
          "text": [
            "<ipython-input-42-cd1c4c213bf0>:2: SettingWithCopyWarning: \n",
            "A value is trying to be set on a copy of a slice from a DataFrame\n",
            "\n",
            "See the caveats in the documentation: https://pandas.pydata.org/pandas-docs/stable/user_guide/indexing.html#returning-a-view-versus-a-copy\n",
            "  df.dropna(inplace=True)\n"
          ]
        }
      ]
    },
    {
      "cell_type": "code",
      "source": [],
      "metadata": {
        "id": "enjl3gW7xZtf"
      },
      "execution_count": null,
      "outputs": []
    },
    {
      "cell_type": "code",
      "source": [],
      "metadata": {
        "id": "c4vC0du0xZcV"
      },
      "execution_count": null,
      "outputs": []
    },
    {
      "cell_type": "code",
      "source": [
        "apartments[['Latitude_Bin', 'Longitude_Bin']].value_counts().sort_values(ascending=False)"
      ],
      "metadata": {
        "colab": {
          "base_uri": "https://localhost:8080/"
        },
        "id": "e5MHlflgCSej",
        "outputId": "72f447a8-5188-4063-c42a-9425982d35cc"
      },
      "execution_count": null,
      "outputs": [
        {
          "output_type": "execute_result",
          "data": {
            "text/plain": [
              "Latitude_Bin  Longitude_Bin\n",
              "40            34               255\n",
              "48            37               233\n",
              "              36               219\n",
              "40            35               206\n",
              "43            33               205\n",
              "                              ... \n",
              "25            26                 1\n",
              "23            27                 1\n",
              "25            29                 1\n",
              "              41                 1\n",
              "89            40                 1\n",
              "Name: count, Length: 1482, dtype: int64"
            ]
          },
          "metadata": {},
          "execution_count": 19
        }
      ]
    },
    {
      "cell_type": "markdown",
      "source": [
        "# Здесь расчет для Moran's Index"
      ],
      "metadata": {
        "id": "QbaVael4XDId"
      }
    },
    {
      "cell_type": "code",
      "source": [
        "!pip install pandas numpy libpysal geopy esda -q"
      ],
      "metadata": {
        "id": "Z84wQ7HfbkAp"
      },
      "execution_count": null,
      "outputs": []
    },
    {
      "cell_type": "code",
      "source": [
        "import numpy as np\n",
        "import pandas as pd\n",
        "from geopy.distance import great_circle\n",
        "import libpysal\n",
        "#from esda.moran import Moran\n",
        "\n",
        "df = apartments[['Latitude', 'Longitude', 'Latitude_Bin', 'Longitude_Bin','Location Rating Roughly','Reviews Log']].sample(1000)\n",
        "df.dropna(inplace=True)\n",
        "df = df.reset_index(drop=True)\n",
        "\n",
        "# Функция для расчета Moran's I\n",
        "def calculate_morans_i(df, threshold_m = 500):\n",
        "    epsilon = 0.1  # Маленькое значение для предотвращения деления на ноль\n",
        "    threshold_km = threshold_m / 1000\n",
        "\n",
        "    # Рассчитываем взвешенное среднее значение переменной\n",
        "    y = df['Location Rating Roughly'].values\n",
        "    weights = df['Reviews Log'].values\n",
        "    mean_y = np.average(y, weights=weights)\n",
        "    n = len(df)\n",
        "\n",
        "    # Сумма весов\n",
        "    W = 0\n",
        "    # Числитель Moran's I\n",
        "    numerator = 0\n",
        "    # Знаменатель Moran's I\n",
        "    denominator = 0\n",
        "        # расчет для соседних бинов (±1) и порога 500 метров\n",
        "    bin_range=1\n",
        "\n",
        "    for i in range(n):\n",
        "        lat_i, lon_i = df.loc[i, 'Latitude'], df.loc[i, 'Longitude']\n",
        "        lat_bin_i, lon_bin_i = df.loc[i, 'Latitude_Bin'], df.loc[i, 'Longitude_Bin']\n",
        "\n",
        "        # Отбираем точки из заданных и соседних бинов\n",
        "        nearby_bins = df[(df['Latitude_Bin'] >= lat_bin_i - bin_range) & (df['Latitude_Bin'] <= lat_bin_i + bin_range) &\n",
        "                        (df['Longitude_Bin'] >= lon_bin_i - bin_range) & (df['Longitude_Bin'] <= lon_bin_i + bin_range)]\n",
        "\n",
        "        for j in range(len(nearby_bins)):\n",
        "            if nearby_bins.index[j] != i:\n",
        "                lat_j, lon_j = nearby_bins.iloc[j]['Latitude'], nearby_bins.iloc[j]['Longitude']\n",
        "                dist_km = great_circle((lat_i, lon_i), (lat_j, lon_j)).kilometers\n",
        "                if dist_km <= threshold_km:\n",
        "                    weight = 1 / (dist_km + epsilon) * df.loc[i, 'Reviews Log'] * nearby_bins.iloc[j]['Reviews Log']\n",
        "                    W += weight\n",
        "                    numerator += weight * (y[i] - mean_y) * (y[nearby_bins.index[j]] - mean_y)\n",
        "\n",
        "        denominator += (y[i] - mean_y) ** 2\n",
        "\n",
        "    # Расчет Moran's I\n",
        "    moran_I = (n / W) * (numerator / denominator)\n",
        "    return moran_I\n",
        "\n",
        "# Пример использования функции\n",
        "morans_i = calculate_morans_i(df, threshold_m=500)\n",
        "print(f\"Moran's I: {morans_i}\")\n",
        "\n"
      ],
      "metadata": {
        "id": "1Qr9Rfy2YMop",
        "outputId": "d79c252e-08a2-4270-e279-48f6d1d6deac",
        "colab": {
          "base_uri": "https://localhost:8080/"
        }
      },
      "execution_count": null,
      "outputs": [
        {
          "output_type": "stream",
          "name": "stdout",
          "text": [
            "Moran's I: 0.13945689643670342\n"
          ]
        }
      ]
    },
    {
      "cell_type": "code",
      "source": [],
      "metadata": {
        "id": "eXwzNEbSchiB"
      },
      "execution_count": null,
      "outputs": []
    },
    {
      "cell_type": "code",
      "source": [],
      "metadata": {
        "id": "BnClfucnchfO"
      },
      "execution_count": null,
      "outputs": []
    },
    {
      "cell_type": "code",
      "source": [],
      "metadata": {
        "id": "_rSuPXEGchK3"
      },
      "execution_count": null,
      "outputs": []
    },
    {
      "cell_type": "markdown",
      "source": [
        "встроенный расчет морана"
      ],
      "metadata": {
        "id": "MVBgEs08dwox"
      }
    },
    {
      "cell_type": "code",
      "source": [
        "import numpy as np\n",
        "import pandas as pd\n",
        "from geopy.distance import great_circle\n",
        "import libpysal\n",
        "from esda.moran import Moran\n",
        "\n",
        "%time\n",
        "\n",
        "df = apartments[['Latitude', 'Longitude', 'Latitude_Bin', 'Longitude_Bin','Location Rating Roughly','Reviews Log']].sample(10000)\n",
        "df.dropna(inplace=True)\n",
        "df = df.reset_index(drop=True)\n",
        "\n",
        "# Создание весовой матрицы на основе обратного расстояния\n",
        "def create_inverse_distance_weight_matrix(df):\n",
        "    epsilon = 0.1  # Маленькое значение для предотвращения деления на ноль\n",
        "    weights_dict = {i: {} for i in range(len(df))}\n",
        "\n",
        "    for i in range(len(df)):\n",
        "        lat_i, lon_i = df.loc[i, 'Latitude'], df.loc[i, 'Longitude']\n",
        "        lat_bin_i, lon_bin_i = df.loc[i, 'Latitude_Bin'], df.loc[i, 'Longitude_Bin']\n",
        "        bin_range = 1\n",
        "        nearby_bins = df[(df['Latitude_Bin'] >= lat_bin_i - bin_range) & (df['Latitude_Bin'] <= lat_bin_i + bin_range) &\n",
        "                        (df['Longitude_Bin'] >= lon_bin_i - bin_range) & (df['Longitude_Bin'] <= lon_bin_i + bin_range)]\n",
        "\n",
        "\n",
        "        has_neighbors = False\n",
        "        threshold_km = 0.5\n",
        "\n",
        "        for j in range(len(nearby_bins)):\n",
        "            if nearby_bins.index[j] != i:\n",
        "                lat_j, lon_j = nearby_bins.iloc[j]['Latitude'], nearby_bins.iloc[j]['Longitude']\n",
        "                dist_km = great_circle((lat_i, lon_i), (lat_j, lon_j)).kilometers\n",
        "                if dist_km <= threshold_km:\n",
        "                    weight = 1 / (dist_km + epsilon) * df.loc[i, 'Reviews Log'] * nearby_bins.iloc[j]['Reviews Log']\n",
        "                    weights_dict[i][nearby_bins.index[j]] = weight\n",
        "                    has_neighbors = True\n",
        "\n",
        "        # for j in range(len(df)):\n",
        "        #     if i != j:\n",
        "        #         lat_j, lon_j = df.loc[j, 'Latitude'], df.loc[j, 'Longitude']\n",
        "        #         # Вычисляем расстояние между точками\n",
        "        #         dist_km = great_circle((lat_i, lon_i), (lat_j, lon_j)).kilometers\n",
        "        #         # Вес = 1 / (расстояние + epsilon)\n",
        "        #         if dist_km < 0.5:\n",
        "        #             weights_dict[i][j] = 1 / (dist_km + epsilon)\n",
        "        #             has_neighbors = True\n",
        "\n",
        "        # Если у точки нет соседей, добавляем саму точку как собственного соседа с весом 0\n",
        "        if not has_neighbors:\n",
        "            weights_dict[i][i] = 0\n",
        "\n",
        "    # Преобразуем в формат, поддерживаемый libpysal\n",
        "    w = libpysal.weights.W(weights_dict)\n",
        "    return w\n",
        "\n",
        "# Создание весовой матрицы\n",
        "w = create_inverse_distance_weight_matrix(df)\n",
        "\n",
        "# Расчет Moran's I\n",
        "moran = Moran(df['Location Rating Roughly'].values, w)\n",
        "\n",
        "print(f\"Moran's I: {moran.I}\")\n",
        "print(f\"p-value: {moran.p_sim}\")"
      ],
      "metadata": {
        "colab": {
          "base_uri": "https://localhost:8080/"
        },
        "id": "TyWdr37kcg-w",
        "outputId": "e62dcaa4-fded-499d-b29a-06a6dd1b2650"
      },
      "execution_count": null,
      "outputs": [
        {
          "output_type": "stream",
          "name": "stderr",
          "text": [
            "<ipython-input-93-bcde73f64340>:51: UserWarning: The weights matrix is not fully connected: \n",
            " There are 260 disconnected components.\n",
            "  w = libpysal.weights.W(weights_dict)\n"
          ]
        },
        {
          "output_type": "stream",
          "name": "stdout",
          "text": [
            "Moran's I: 0.19454797564563694\n",
            "p-value: 0.001\n"
          ]
        }
      ]
    },
    {
      "cell_type": "code",
      "source": [],
      "metadata": {
        "id": "8vpVkkXGqPAK"
      },
      "execution_count": null,
      "outputs": []
    },
    {
      "cell_type": "code",
      "source": [
        "import numpy as np\n",
        "import pandas as pd\n",
        "from geopy.distance import great_circle\n",
        "import libpysal\n",
        "from esda.moran import Moran\n",
        "\n",
        "df = apartments[['Latitude', 'Longitude', 'Latitude_Bin', 'Longitude_Bin','Price','Reviews Log']].sample(10000)\n",
        "df.dropna(inplace=True)\n",
        "df = df.reset_index(drop=True)\n",
        "\n",
        "# Создание весовой матрицы на основе обратного расстояния\n",
        "def create_inverse_distance_weight_matrix(df):\n",
        "    epsilon = 0.1  # Маленькое значение для предотвращения деления на ноль\n",
        "    weights_dict = {i: {} for i in range(len(df))}\n",
        "\n",
        "    for i in range(len(df)):\n",
        "        lat_i, lon_i = df.loc[i, 'Latitude'], df.loc[i, 'Longitude']\n",
        "        lat_bin_i, lon_bin_i = df.loc[i, 'Latitude_Bin'], df.loc[i, 'Longitude_Bin']\n",
        "        bin_range = 1\n",
        "        nearby_bins = df[(df['Latitude_Bin'] >= lat_bin_i - bin_range) & (df['Latitude_Bin'] <= lat_bin_i + bin_range) &\n",
        "                        (df['Longitude_Bin'] >= lon_bin_i - bin_range) & (df['Longitude_Bin'] <= lon_bin_i + bin_range)]\n",
        "\n",
        "        has_neighbors = False\n",
        "        threshold_km = 0.5\n",
        "\n",
        "        for j in range(len(nearby_bins)):\n",
        "            if nearby_bins.index[j] != i:\n",
        "                lat_j, lon_j = nearby_bins.iloc[j]['Latitude'], nearby_bins.iloc[j]['Longitude']\n",
        "                dist_km = great_circle((lat_i, lon_i), (lat_j, lon_j)).kilometers\n",
        "                if dist_km <= threshold_km:\n",
        "                    weight = 1 / (dist_km + epsilon) #* df.loc[i, 'Reviews Log'] * nearby_bins.iloc[j]['Reviews Log']\n",
        "                    weights_dict[i][nearby_bins.index[j]] = weight\n",
        "                    has_neighbors = True\n",
        "\n",
        "        # Если у точки нет соседей, добавляем саму точку как собственного соседа с весом 0\n",
        "        if not has_neighbors:\n",
        "            weights_dict[i][i] = 0\n",
        "\n",
        "    # Преобразуем в формат, поддерживаемый libpysal\n",
        "    w = libpysal.weights.W(weights_dict)\n",
        "    return w\n",
        "\n",
        "# Создание весовой матрицы\n",
        "w = create_inverse_distance_weight_matrix(df)\n",
        "\n",
        "# Расчет Moran's I\n",
        "moran = Moran(df['Price'].values, w)\n",
        "\n",
        "print(f\"Moran's I: {moran.I}\")\n",
        "print(f\"p-value: {moran.p_sim}\")"
      ],
      "metadata": {
        "outputId": "d968c5c0-8ae4-4db6-c73f-71d50c2f8fd0",
        "colab": {
          "base_uri": "https://localhost:8080/"
        },
        "id": "TpUI-l6sqPUO"
      },
      "execution_count": null,
      "outputs": [
        {
          "output_type": "stream",
          "name": "stderr",
          "text": [
            "<ipython-input-94-e5d7abb75842>:51: UserWarning: The weights matrix is not fully connected: \n",
            " There are 264 disconnected components.\n",
            "  w = libpysal.weights.W(weights_dict)\n"
          ]
        },
        {
          "output_type": "stream",
          "name": "stdout",
          "text": [
            "Moran's I: 0.09480602356925663\n",
            "p-value: 0.014\n"
          ]
        }
      ]
    }
  ]
}