{
  "nbformat": 4,
  "nbformat_minor": 0,
  "metadata": {
    "colab": {
      "provenance": [],
      "include_colab_link": true
    },
    "kernelspec": {
      "name": "python3",
      "display_name": "Python 3"
    },
    "language_info": {
      "name": "python"
    }
  },
  "cells": [
    {
      "cell_type": "markdown",
      "metadata": {
        "id": "view-in-github",
        "colab_type": "text"
      },
      "source": [
        "<a href=\"https://colab.research.google.com/github/IlyaZutler/Project-3-Berlin-Airbnb-Ratings/blob/main/1%20Data%20Preparation.ipynb\" target=\"_parent\"><img src=\"https://colab.research.google.com/assets/colab-badge.svg\" alt=\"Open In Colab\"/></a>"
      ]
    },
    {
      "cell_type": "markdown",
      "source": [
        "# **Data Preparation 2**"
      ],
      "metadata": {
        "id": "0CUAY8chIo1R"
      }
    },
    {
      "cell_type": "markdown",
      "source": [
        "Dataset contains 450 thousand comments of 23.5 thousand unique apartments.\n",
        "\n",
        "We will analyze comments and store aggregated data for apartments."
      ],
      "metadata": {
        "id": "SsQsp399SAtx"
      }
    },
    {
      "cell_type": "code",
      "execution_count": null,
      "metadata": {
        "id": "UnyeFZrF9QXk"
      },
      "outputs": [],
      "source": [
        "import pandas as pd\n",
        "import numpy as np\n",
        "import matplotlib.pyplot as plt\n",
        "import seaborn as sns\n",
        "\n",
        "!pip install openpyxl -q\n",
        "import openpyxl\n",
        "import pickle\n",
        "\n",
        "# Ignore warnings\n",
        "import warnings\n",
        "warnings.filterwarnings('ignore')\n",
        "\n",
        "# Comment analisis\n",
        "!pip install googletrans==4.0.0-rc1 -q\n",
        "!pip install langdetect googletrans==4.0.0-rc1 -q\n",
        "!pip install --upgrade googletrans==3.1.0a0 -q # Upgrade googletrans to a stable version.\n",
        "\n",
        "from textblob import TextBlob\n",
        "from langdetect import detect\n",
        "from googletrans import Translator\n",
        "\n",
        "import time\n",
        "from datetime import datetime\n",
        "\n",
        "# Set display options\n",
        "%matplotlib inline\n",
        "pd.set_option('display.max_columns', 200)\n",
        "pd.set_option('display.max_rows', 200)\n",
        "pd.set_option('display.max_colwidth', 1000)"
      ]
    },
    {
      "source": [
        "apartments = pd.read_excel('https://raw.githubusercontent.com/IlyaZutler/Project-3-Berlin-Airbnb-Ratings/main/apartments.xlsx', engine='openpyxl')"
      ],
      "cell_type": "code",
      "metadata": {
        "id": "XKATuH0TJjzu"
      },
      "execution_count": 45,
      "outputs": []
    },
    {
      "cell_type": "code",
      "source": [
        "comments = pd.read_excel('https://raw.githubusercontent.com/IlyaZutler/Project-3-Berlin-Airbnb-Ratings/main/Comments_full.xlsx', engine='openpyxl')"
      ],
      "metadata": {
        "id": "l0QQZ1ucIw_q"
      },
      "execution_count": 27,
      "outputs": []
    },
    {
      "cell_type": "markdown",
      "source": [
        "## Comment Analysis\n",
        "\n"
      ],
      "metadata": {
        "id": "VhzS9LTL2b3Y"
      }
    },
    {
      "source": [
        "def analyze_sentiment(text):\n",
        "    try:\n",
        "        # Определяем язык текста\n",
        "        lang = detect(text)\n",
        "    except:\n",
        "        lang = 'en'  # Если не удалось определить язык, предполагаем английский\n",
        "\n",
        "    # Если язык не английский, переводим текст\n",
        "    if lang != 'en':\n",
        "        translator = Translator()\n",
        "        translator.raise_Exception = True # Add this line to enable exception raising\n",
        "        try:\n",
        "            translated = translator.translate(text, src=lang, dest='en')\n",
        "            text = translated.text\n",
        "        except Exception as e:\n",
        "            print(f\"Translation error: {e}\") # Print the error message\n",
        "            return 0 # Return a neutral sentiment if translation fails\n",
        "\n",
        "    # Анализ настроения\n",
        "    blob = TextBlob(text)\n",
        "    sentiment = blob.sentiment\n",
        "    return sentiment[0]\n",
        "\n",
        "comments['polarity'] = comments['Comments'].apply(analyze_sentiment)\n",
        "\n",
        "# Применяем анализ настроения ко всем комментариям\n",
        "# Introduce a delay to avoid overwhelming the API\n",
        "# for i, comment in enumerate(comments['Comments']):\n",
        "#     comments['polarity'][i] = analyze_sentiment(comment)\n",
        "#     time.sleep(1) # Wait for one second before processing the next comment"
      ],
      "cell_type": "code",
      "metadata": {
        "id": "BjC97B_9AfXj"
      },
      "execution_count": null,
      "outputs": []
    },
    {
      "cell_type": "code",
      "source": [
        "# import pandas as pd\n",
        "# !pip install langdetect -q\n",
        "# from langdetect import detect\n",
        "# from langdetect.lang_detect_exception import LangDetectException\n",
        "\n",
        "# # Функция для попытки определения языка\n",
        "# def detect_language(text):\n",
        "#     try:\n",
        "#         # Пытаемся определить язык\n",
        "#         lang = detect(text)\n",
        "#         return True  # Успешно определён\n",
        "#     except LangDetectException:\n",
        "#         return False  # Не удалось определить язык\n",
        "\n",
        "# # Применяем функцию ко всему столбцу 'Text' и создаем новый столбец 'is_det'\n",
        "# comments0['is_det'] = comments['Comments'].apply(detect_language)"
      ],
      "metadata": {
        "id": "puaYpW58MJoD"
      },
      "execution_count": null,
      "outputs": []
    },
    {
      "cell_type": "code",
      "source": [
        "#most Zero comments - wrong decoding\n",
        "comments_noZ = comments[comments['polarity']!=0]\n",
        "comments_noZ.shape"
      ],
      "metadata": {
        "id": "uUWMzo6wLfOa",
        "outputId": "82148ffe-03fd-40fa-9c7b-3fe50fb12f5c",
        "colab": {
          "base_uri": "https://localhost:8080/"
        }
      },
      "execution_count": 40,
      "outputs": [
        {
          "output_type": "execute_result",
          "data": {
            "text/plain": [
              "(431072, 3)"
            ]
          },
          "metadata": {},
          "execution_count": 40
        }
      ]
    },
    {
      "cell_type": "code",
      "source": [
        "comments_grouped = comments_noZ.groupby('Listing ID').agg(\n",
        "    Polarity_min=('polarity', 'min'),\n",
        "    Polarity_max=('polarity', 'max'),\n",
        "    Polarity_median=('polarity', 'median'),\n",
        "    Polarity_mean=('polarity', 'mean')\n",
        ")\n",
        "comments_grouped.head()"
      ],
      "metadata": {
        "collapsed": true,
        "id": "GN283lWzy65R",
        "outputId": "25c55a40-2a88-4837-f3c0-8a4fd480c81e",
        "colab": {
          "base_uri": "https://localhost:8080/",
          "height": 237
        }
      },
      "execution_count": 43,
      "outputs": [
        {
          "output_type": "execute_result",
          "data": {
            "text/plain": [
              "            Polarity_min  Polarity_max  Polarity_median  Polarity_mean\n",
              "Listing ID                                                            \n",
              "2695            0.270000      0.776667         0.464583       0.477044\n",
              "3176            0.085556      0.940000         0.427083       0.438078\n",
              "7071            0.072000      1.000000         0.417121       0.451573\n",
              "9991            0.420631      1.000000         0.459722       0.562904\n",
              "14325           0.068182      1.000000         0.483929       0.470239"
            ],
            "text/html": [
              "\n",
              "  <div id=\"df-ffd083f9-b356-4ce0-85cd-1301d4526c9c\" class=\"colab-df-container\">\n",
              "    <div>\n",
              "<style scoped>\n",
              "    .dataframe tbody tr th:only-of-type {\n",
              "        vertical-align: middle;\n",
              "    }\n",
              "\n",
              "    .dataframe tbody tr th {\n",
              "        vertical-align: top;\n",
              "    }\n",
              "\n",
              "    .dataframe thead th {\n",
              "        text-align: right;\n",
              "    }\n",
              "</style>\n",
              "<table border=\"1\" class=\"dataframe\">\n",
              "  <thead>\n",
              "    <tr style=\"text-align: right;\">\n",
              "      <th></th>\n",
              "      <th>Polarity_min</th>\n",
              "      <th>Polarity_max</th>\n",
              "      <th>Polarity_median</th>\n",
              "      <th>Polarity_mean</th>\n",
              "    </tr>\n",
              "    <tr>\n",
              "      <th>Listing ID</th>\n",
              "      <th></th>\n",
              "      <th></th>\n",
              "      <th></th>\n",
              "      <th></th>\n",
              "    </tr>\n",
              "  </thead>\n",
              "  <tbody>\n",
              "    <tr>\n",
              "      <th>2695</th>\n",
              "      <td>0.270000</td>\n",
              "      <td>0.776667</td>\n",
              "      <td>0.464583</td>\n",
              "      <td>0.477044</td>\n",
              "    </tr>\n",
              "    <tr>\n",
              "      <th>3176</th>\n",
              "      <td>0.085556</td>\n",
              "      <td>0.940000</td>\n",
              "      <td>0.427083</td>\n",
              "      <td>0.438078</td>\n",
              "    </tr>\n",
              "    <tr>\n",
              "      <th>7071</th>\n",
              "      <td>0.072000</td>\n",
              "      <td>1.000000</td>\n",
              "      <td>0.417121</td>\n",
              "      <td>0.451573</td>\n",
              "    </tr>\n",
              "    <tr>\n",
              "      <th>9991</th>\n",
              "      <td>0.420631</td>\n",
              "      <td>1.000000</td>\n",
              "      <td>0.459722</td>\n",
              "      <td>0.562904</td>\n",
              "    </tr>\n",
              "    <tr>\n",
              "      <th>14325</th>\n",
              "      <td>0.068182</td>\n",
              "      <td>1.000000</td>\n",
              "      <td>0.483929</td>\n",
              "      <td>0.470239</td>\n",
              "    </tr>\n",
              "  </tbody>\n",
              "</table>\n",
              "</div>\n",
              "    <div class=\"colab-df-buttons\">\n",
              "\n",
              "  <div class=\"colab-df-container\">\n",
              "    <button class=\"colab-df-convert\" onclick=\"convertToInteractive('df-ffd083f9-b356-4ce0-85cd-1301d4526c9c')\"\n",
              "            title=\"Convert this dataframe to an interactive table.\"\n",
              "            style=\"display:none;\">\n",
              "\n",
              "  <svg xmlns=\"http://www.w3.org/2000/svg\" height=\"24px\" viewBox=\"0 -960 960 960\">\n",
              "    <path d=\"M120-120v-720h720v720H120Zm60-500h600v-160H180v160Zm220 220h160v-160H400v160Zm0 220h160v-160H400v160ZM180-400h160v-160H180v160Zm440 0h160v-160H620v160ZM180-180h160v-160H180v160Zm440 0h160v-160H620v160Z\"/>\n",
              "  </svg>\n",
              "    </button>\n",
              "\n",
              "  <style>\n",
              "    .colab-df-container {\n",
              "      display:flex;\n",
              "      gap: 12px;\n",
              "    }\n",
              "\n",
              "    .colab-df-convert {\n",
              "      background-color: #E8F0FE;\n",
              "      border: none;\n",
              "      border-radius: 50%;\n",
              "      cursor: pointer;\n",
              "      display: none;\n",
              "      fill: #1967D2;\n",
              "      height: 32px;\n",
              "      padding: 0 0 0 0;\n",
              "      width: 32px;\n",
              "    }\n",
              "\n",
              "    .colab-df-convert:hover {\n",
              "      background-color: #E2EBFA;\n",
              "      box-shadow: 0px 1px 2px rgba(60, 64, 67, 0.3), 0px 1px 3px 1px rgba(60, 64, 67, 0.15);\n",
              "      fill: #174EA6;\n",
              "    }\n",
              "\n",
              "    .colab-df-buttons div {\n",
              "      margin-bottom: 4px;\n",
              "    }\n",
              "\n",
              "    [theme=dark] .colab-df-convert {\n",
              "      background-color: #3B4455;\n",
              "      fill: #D2E3FC;\n",
              "    }\n",
              "\n",
              "    [theme=dark] .colab-df-convert:hover {\n",
              "      background-color: #434B5C;\n",
              "      box-shadow: 0px 1px 3px 1px rgba(0, 0, 0, 0.15);\n",
              "      filter: drop-shadow(0px 1px 2px rgba(0, 0, 0, 0.3));\n",
              "      fill: #FFFFFF;\n",
              "    }\n",
              "  </style>\n",
              "\n",
              "    <script>\n",
              "      const buttonEl =\n",
              "        document.querySelector('#df-ffd083f9-b356-4ce0-85cd-1301d4526c9c button.colab-df-convert');\n",
              "      buttonEl.style.display =\n",
              "        google.colab.kernel.accessAllowed ? 'block' : 'none';\n",
              "\n",
              "      async function convertToInteractive(key) {\n",
              "        const element = document.querySelector('#df-ffd083f9-b356-4ce0-85cd-1301d4526c9c');\n",
              "        const dataTable =\n",
              "          await google.colab.kernel.invokeFunction('convertToInteractive',\n",
              "                                                    [key], {});\n",
              "        if (!dataTable) return;\n",
              "\n",
              "        const docLinkHtml = 'Like what you see? Visit the ' +\n",
              "          '<a target=\"_blank\" href=https://colab.research.google.com/notebooks/data_table.ipynb>data table notebook</a>'\n",
              "          + ' to learn more about interactive tables.';\n",
              "        element.innerHTML = '';\n",
              "        dataTable['output_type'] = 'display_data';\n",
              "        await google.colab.output.renderOutput(dataTable, element);\n",
              "        const docLink = document.createElement('div');\n",
              "        docLink.innerHTML = docLinkHtml;\n",
              "        element.appendChild(docLink);\n",
              "      }\n",
              "    </script>\n",
              "  </div>\n",
              "\n",
              "\n",
              "<div id=\"df-748b0a13-f020-483d-ab53-7b12a8847e69\">\n",
              "  <button class=\"colab-df-quickchart\" onclick=\"quickchart('df-748b0a13-f020-483d-ab53-7b12a8847e69')\"\n",
              "            title=\"Suggest charts\"\n",
              "            style=\"display:none;\">\n",
              "\n",
              "<svg xmlns=\"http://www.w3.org/2000/svg\" height=\"24px\"viewBox=\"0 0 24 24\"\n",
              "     width=\"24px\">\n",
              "    <g>\n",
              "        <path d=\"M19 3H5c-1.1 0-2 .9-2 2v14c0 1.1.9 2 2 2h14c1.1 0 2-.9 2-2V5c0-1.1-.9-2-2-2zM9 17H7v-7h2v7zm4 0h-2V7h2v10zm4 0h-2v-4h2v4z\"/>\n",
              "    </g>\n",
              "</svg>\n",
              "  </button>\n",
              "\n",
              "<style>\n",
              "  .colab-df-quickchart {\n",
              "      --bg-color: #E8F0FE;\n",
              "      --fill-color: #1967D2;\n",
              "      --hover-bg-color: #E2EBFA;\n",
              "      --hover-fill-color: #174EA6;\n",
              "      --disabled-fill-color: #AAA;\n",
              "      --disabled-bg-color: #DDD;\n",
              "  }\n",
              "\n",
              "  [theme=dark] .colab-df-quickchart {\n",
              "      --bg-color: #3B4455;\n",
              "      --fill-color: #D2E3FC;\n",
              "      --hover-bg-color: #434B5C;\n",
              "      --hover-fill-color: #FFFFFF;\n",
              "      --disabled-bg-color: #3B4455;\n",
              "      --disabled-fill-color: #666;\n",
              "  }\n",
              "\n",
              "  .colab-df-quickchart {\n",
              "    background-color: var(--bg-color);\n",
              "    border: none;\n",
              "    border-radius: 50%;\n",
              "    cursor: pointer;\n",
              "    display: none;\n",
              "    fill: var(--fill-color);\n",
              "    height: 32px;\n",
              "    padding: 0;\n",
              "    width: 32px;\n",
              "  }\n",
              "\n",
              "  .colab-df-quickchart:hover {\n",
              "    background-color: var(--hover-bg-color);\n",
              "    box-shadow: 0 1px 2px rgba(60, 64, 67, 0.3), 0 1px 3px 1px rgba(60, 64, 67, 0.15);\n",
              "    fill: var(--button-hover-fill-color);\n",
              "  }\n",
              "\n",
              "  .colab-df-quickchart-complete:disabled,\n",
              "  .colab-df-quickchart-complete:disabled:hover {\n",
              "    background-color: var(--disabled-bg-color);\n",
              "    fill: var(--disabled-fill-color);\n",
              "    box-shadow: none;\n",
              "  }\n",
              "\n",
              "  .colab-df-spinner {\n",
              "    border: 2px solid var(--fill-color);\n",
              "    border-color: transparent;\n",
              "    border-bottom-color: var(--fill-color);\n",
              "    animation:\n",
              "      spin 1s steps(1) infinite;\n",
              "  }\n",
              "\n",
              "  @keyframes spin {\n",
              "    0% {\n",
              "      border-color: transparent;\n",
              "      border-bottom-color: var(--fill-color);\n",
              "      border-left-color: var(--fill-color);\n",
              "    }\n",
              "    20% {\n",
              "      border-color: transparent;\n",
              "      border-left-color: var(--fill-color);\n",
              "      border-top-color: var(--fill-color);\n",
              "    }\n",
              "    30% {\n",
              "      border-color: transparent;\n",
              "      border-left-color: var(--fill-color);\n",
              "      border-top-color: var(--fill-color);\n",
              "      border-right-color: var(--fill-color);\n",
              "    }\n",
              "    40% {\n",
              "      border-color: transparent;\n",
              "      border-right-color: var(--fill-color);\n",
              "      border-top-color: var(--fill-color);\n",
              "    }\n",
              "    60% {\n",
              "      border-color: transparent;\n",
              "      border-right-color: var(--fill-color);\n",
              "    }\n",
              "    80% {\n",
              "      border-color: transparent;\n",
              "      border-right-color: var(--fill-color);\n",
              "      border-bottom-color: var(--fill-color);\n",
              "    }\n",
              "    90% {\n",
              "      border-color: transparent;\n",
              "      border-bottom-color: var(--fill-color);\n",
              "    }\n",
              "  }\n",
              "</style>\n",
              "\n",
              "  <script>\n",
              "    async function quickchart(key) {\n",
              "      const quickchartButtonEl =\n",
              "        document.querySelector('#' + key + ' button');\n",
              "      quickchartButtonEl.disabled = true;  // To prevent multiple clicks.\n",
              "      quickchartButtonEl.classList.add('colab-df-spinner');\n",
              "      try {\n",
              "        const charts = await google.colab.kernel.invokeFunction(\n",
              "            'suggestCharts', [key], {});\n",
              "      } catch (error) {\n",
              "        console.error('Error during call to suggestCharts:', error);\n",
              "      }\n",
              "      quickchartButtonEl.classList.remove('colab-df-spinner');\n",
              "      quickchartButtonEl.classList.add('colab-df-quickchart-complete');\n",
              "    }\n",
              "    (() => {\n",
              "      let quickchartButtonEl =\n",
              "        document.querySelector('#df-748b0a13-f020-483d-ab53-7b12a8847e69 button');\n",
              "      quickchartButtonEl.style.display =\n",
              "        google.colab.kernel.accessAllowed ? 'block' : 'none';\n",
              "    })();\n",
              "  </script>\n",
              "</div>\n",
              "\n",
              "    </div>\n",
              "  </div>\n"
            ],
            "application/vnd.google.colaboratory.intrinsic+json": {
              "type": "dataframe",
              "variable_name": "comments_grouped",
              "summary": "{\n  \"name\": \"comments_grouped\",\n  \"rows\": 18836,\n  \"fields\": [\n    {\n      \"column\": \"Listing ID\",\n      \"properties\": {\n        \"dtype\": \"number\",\n        \"std\": 9669127,\n        \"min\": 2695,\n        \"max\": 34582247,\n        \"num_unique_values\": 18836,\n        \"samples\": [\n          23302142,\n          11267258,\n          13359185\n        ],\n        \"semantic_type\": \"\",\n        \"description\": \"\"\n      }\n    },\n    {\n      \"column\": \"Polarity_min\",\n      \"properties\": {\n        \"dtype\": \"number\",\n        \"std\": 0.22904514002599438,\n        \"min\": -1.0,\n        \"max\": 1.0,\n        \"num_unique_values\": 9270,\n        \"samples\": [\n          -0.15079365079365084,\n          0.43055555555555564,\n          0.18533333333333335\n        ],\n        \"semantic_type\": \"\",\n        \"description\": \"\"\n      }\n    },\n    {\n      \"column\": \"Polarity_max\",\n      \"properties\": {\n        \"dtype\": \"number\",\n        \"std\": 0.23367206604618082,\n        \"min\": -1.0,\n        \"max\": 1.0,\n        \"num_unique_values\": 5001,\n        \"samples\": [\n          0.2708717948717949,\n          0.42424242424242425,\n          0.4702380952380953\n        ],\n        \"semantic_type\": \"\",\n        \"description\": \"\"\n      }\n    },\n    {\n      \"column\": \"Polarity_median\",\n      \"properties\": {\n        \"dtype\": \"number\",\n        \"std\": 0.11444496537394781,\n        \"min\": -1.0,\n        \"max\": 1.0,\n        \"num_unique_values\": 11018,\n        \"samples\": [\n          0.20357142857142857,\n          0.45468073593073594,\n          0.4160714285714286\n        ],\n        \"semantic_type\": \"\",\n        \"description\": \"\"\n      }\n    },\n    {\n      \"column\": \"Polarity_mean\",\n      \"properties\": {\n        \"dtype\": \"number\",\n        \"std\": 0.11240393645575476,\n        \"min\": -1.0,\n        \"max\": 1.0,\n        \"num_unique_values\": 17380,\n        \"samples\": [\n          0.4660705627705628,\n          0.4922967291128184,\n          0.3288888888888889\n        ],\n        \"semantic_type\": \"\",\n        \"description\": \"\"\n      }\n    }\n  ]\n}"
            }
          },
          "metadata": {},
          "execution_count": 43
        }
      ]
    },
    {
      "cell_type": "code",
      "source": [
        "apartments = apartments.merge(comments_grouped, left_on='Listing ID', right_on='Listing ID', how='left')"
      ],
      "metadata": {
        "id": "eVO09L8ryp4h"
      },
      "execution_count": 46,
      "outputs": []
    },
    {
      "cell_type": "markdown",
      "source": [
        "## Preprocessing data"
      ],
      "metadata": {
        "id": "2pkwvQUs3H3R"
      }
    },
    {
      "cell_type": "markdown",
      "source": [
        "### Make time format"
      ],
      "metadata": {
        "id": "a5xJt_o5bG9d"
      }
    },
    {
      "cell_type": "code",
      "source": [
        "# from datetime import datetime\n",
        "\n",
        "apartments['Host Since'] = pd.to_datetime(apartments['Host Since'])\n",
        "apartments['First Review'] = pd.to_datetime(apartments['First Review'])\n",
        "apartments['Last Review'] = pd.to_datetime(apartments['Last Review'])\n",
        "\n",
        "today = pd.to_datetime(datetime.today().strftime('%Y-%m-%d'))\n",
        "\n",
        "apartments['Host Since Years'] = (today - apartments['Host Since']).dt.days / 365.25\n",
        "apartments['Last Review Years'] = (today - apartments['Last Review']).dt.days / 365.25\n",
        "apartments['First Review Years'] = (today - apartments['First Review']).dt.days / 365.25"
      ],
      "metadata": {
        "id": "r4KAOWhAOjee"
      },
      "execution_count": 47,
      "outputs": []
    },
    {
      "cell_type": "markdown",
      "source": [
        "### Separating numeric and non-numeric data"
      ],
      "metadata": {
        "id": "TUqX2JKj3lPR"
      }
    },
    {
      "cell_type": "code",
      "source": [
        "apartments['Listing ID'] = apartments['Listing ID'].astype('category')\n",
        "apartments['Postal Code'] = apartments['Postal Code'].astype('category')"
      ],
      "metadata": {
        "id": "c-zbx0jOLnDB"
      },
      "execution_count": 48,
      "outputs": []
    },
    {
      "cell_type": "code",
      "source": [
        "# import pickle\n",
        "\n",
        "with open('apartments2.pkl', 'wb') as f:\n",
        "    pickle.dump(apartments, f)"
      ],
      "metadata": {
        "id": "KpPJ1DzjDb2D"
      },
      "execution_count": 49,
      "outputs": []
    },
    {
      "cell_type": "code",
      "source": [
        "# apartments.to_excel('apartments_2.xlsx', index=False)"
      ],
      "metadata": {
        "id": "5WIR8P7TEHY7"
      },
      "execution_count": null,
      "outputs": []
    },
    {
      "cell_type": "markdown",
      "source": [
        "-------------------end of 1-----------------------"
      ],
      "metadata": {
        "id": "_8kcpPWFc-wE"
      }
    }
  ]
}