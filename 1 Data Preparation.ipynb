{
  "nbformat": 4,
  "nbformat_minor": 0,
  "metadata": {
    "colab": {
      "provenance": [],
      "include_colab_link": true
    },
    "kernelspec": {
      "name": "python3",
      "display_name": "Python 3"
    },
    "language_info": {
      "name": "python"
    }
  },
  "cells": [
    {
      "cell_type": "markdown",
      "metadata": {
        "id": "view-in-github",
        "colab_type": "text"
      },
      "source": [
        "<a href=\"https://colab.research.google.com/github/IlyaZutler/Project-3-Berlin-Airbnb-Ratings/blob/main/1%20Data%20Preparation.ipynb\" target=\"_parent\"><img src=\"https://colab.research.google.com/assets/colab-badge.svg\" alt=\"Open In Colab\"/></a>"
      ]
    },
    {
      "cell_type": "markdown",
      "source": [
        "# **Dataset Berlin Airbnb Ratings**\n",
        "\n",
        "https://www.kaggle.com/datasets/thedevastator/berlin-airbnb-ratings-how-hosts-measure-up\n",
        "\n",
        "Dataset contains 450 thousand comments of 23.5 thousand unique apartments.\n",
        "\n",
        "We will analyze comments and store aggregated data for apartments."
      ],
      "metadata": {
        "id": "SsQsp399SAtx"
      }
    },
    {
      "cell_type": "markdown",
      "source": [
        "# **Data Preparation**"
      ],
      "metadata": {
        "id": "0CUAY8chIo1R"
      }
    },
    {
      "cell_type": "code",
      "execution_count": null,
      "metadata": {
        "id": "UnyeFZrF9QXk"
      },
      "outputs": [],
      "source": [
        "import pandas as pd\n",
        "import numpy as np\n",
        "import matplotlib.pyplot as plt\n",
        "import seaborn as sns\n",
        "\n",
        "!pip install openpyxl -q\n",
        "import openpyxl\n",
        "import pickle\n",
        "\n",
        "# Ignore warnings\n",
        "import warnings\n",
        "warnings.filterwarnings('ignore')\n",
        "\n",
        "# Comment analisis\n",
        "from textblob import TextBlob\n",
        "\n",
        "from datetime import datetime\n",
        "\n",
        "# missing data\n",
        "!pip install missingno -q\n",
        "import missingno as msno\n",
        "\n",
        "# Set display options\n",
        "%matplotlib inline\n",
        "pd.set_option('display.max_columns', 200)\n",
        "pd.set_option('display.max_rows', 200)\n",
        "pd.set_option('display.max_colwidth', 1000)"
      ]
    },
    {
      "source": [
        "apartments = pd.read_excel('https://raw.githubusercontent.com/IlyaZutler/Project-3-Berlin-Airbnb-Ratings/main/apartments.xlsx', engine='openpyxl')"
      ],
      "cell_type": "code",
      "metadata": {
        "id": "XKATuH0TJjzu"
      },
      "execution_count": null,
      "outputs": []
    },
    {
      "cell_type": "code",
      "source": [
        "comments = pd.read_excel('https://raw.githubusercontent.com/IlyaZutler/Project-3-Berlin-Airbnb-Ratings/main/Comments_full.xlsx', engine='openpyxl')"
      ],
      "metadata": {
        "id": "l0QQZ1ucIw_q"
      },
      "execution_count": null,
      "outputs": []
    },
    {
      "cell_type": "markdown",
      "source": [
        "## Comment Analysis\n",
        "\n"
      ],
      "metadata": {
        "id": "VhzS9LTL2b3Y"
      }
    },
    {
      "cell_type": "code",
      "source": [
        "# from textblob import TextBlob\n",
        "\n",
        "def calculate_polarity(comment):\n",
        "  if pd.notna(comment):\n",
        "    text = TextBlob(comment)\n",
        "    return text.sentiment[0]\n",
        "  else:\n",
        "    return None\n",
        "\n",
        "comments['polarity'] = comments['Comments'].apply(calculate_polarity)"
      ],
      "metadata": {
        "id": "peH8fE8rJAxz"
      },
      "execution_count": null,
      "outputs": []
    },
    {
      "cell_type": "code",
      "source": [
        "comments_grouped = comments.groupby('Listing ID').agg(\n",
        "    Polarity_min=('polarity', 'min'),\n",
        "    Polarity_max=('polarity', 'max'),\n",
        "    Polarity_median=('polarity', 'median'),\n",
        "    Polarity_mean=('polarity', 'mean')\n",
        ")\n",
        "comments_grouped.head()"
      ],
      "metadata": {
        "collapsed": true,
        "id": "GN283lWzy65R",
        "outputId": "ff565de8-4b4e-44c6-df1c-8c643d13f113",
        "colab": {
          "base_uri": "https://localhost:8080/",
          "height": 237
        }
      },
      "execution_count": null,
      "outputs": [
        {
          "output_type": "execute_result",
          "data": {
            "text/plain": [
              "            Polarity_min  Polarity_max  Polarity_median  Polarity_mean\n",
              "Listing ID                                                            \n",
              "2695                0.27      0.776667         0.464583       0.477044\n",
              "3176                0.00      1.000000         0.400608       0.400101\n",
              "7071                0.00      1.000000         0.400000       0.393207\n",
              "9991                0.00      1.000000         0.424899       0.392466\n",
              "14325               0.00      1.000000         0.400000       0.408001"
            ],
            "text/html": [
              "\n",
              "  <div id=\"df-55c7e44c-2b6d-4cb2-9bac-ffd3850a8918\" class=\"colab-df-container\">\n",
              "    <div>\n",
              "<style scoped>\n",
              "    .dataframe tbody tr th:only-of-type {\n",
              "        vertical-align: middle;\n",
              "    }\n",
              "\n",
              "    .dataframe tbody tr th {\n",
              "        vertical-align: top;\n",
              "    }\n",
              "\n",
              "    .dataframe thead th {\n",
              "        text-align: right;\n",
              "    }\n",
              "</style>\n",
              "<table border=\"1\" class=\"dataframe\">\n",
              "  <thead>\n",
              "    <tr style=\"text-align: right;\">\n",
              "      <th></th>\n",
              "      <th>Polarity_min</th>\n",
              "      <th>Polarity_max</th>\n",
              "      <th>Polarity_median</th>\n",
              "      <th>Polarity_mean</th>\n",
              "    </tr>\n",
              "    <tr>\n",
              "      <th>Listing ID</th>\n",
              "      <th></th>\n",
              "      <th></th>\n",
              "      <th></th>\n",
              "      <th></th>\n",
              "    </tr>\n",
              "  </thead>\n",
              "  <tbody>\n",
              "    <tr>\n",
              "      <th>2695</th>\n",
              "      <td>0.27</td>\n",
              "      <td>0.776667</td>\n",
              "      <td>0.464583</td>\n",
              "      <td>0.477044</td>\n",
              "    </tr>\n",
              "    <tr>\n",
              "      <th>3176</th>\n",
              "      <td>0.00</td>\n",
              "      <td>1.000000</td>\n",
              "      <td>0.400608</td>\n",
              "      <td>0.400101</td>\n",
              "    </tr>\n",
              "    <tr>\n",
              "      <th>7071</th>\n",
              "      <td>0.00</td>\n",
              "      <td>1.000000</td>\n",
              "      <td>0.400000</td>\n",
              "      <td>0.393207</td>\n",
              "    </tr>\n",
              "    <tr>\n",
              "      <th>9991</th>\n",
              "      <td>0.00</td>\n",
              "      <td>1.000000</td>\n",
              "      <td>0.424899</td>\n",
              "      <td>0.392466</td>\n",
              "    </tr>\n",
              "    <tr>\n",
              "      <th>14325</th>\n",
              "      <td>0.00</td>\n",
              "      <td>1.000000</td>\n",
              "      <td>0.400000</td>\n",
              "      <td>0.408001</td>\n",
              "    </tr>\n",
              "  </tbody>\n",
              "</table>\n",
              "</div>\n",
              "    <div class=\"colab-df-buttons\">\n",
              "\n",
              "  <div class=\"colab-df-container\">\n",
              "    <button class=\"colab-df-convert\" onclick=\"convertToInteractive('df-55c7e44c-2b6d-4cb2-9bac-ffd3850a8918')\"\n",
              "            title=\"Convert this dataframe to an interactive table.\"\n",
              "            style=\"display:none;\">\n",
              "\n",
              "  <svg xmlns=\"http://www.w3.org/2000/svg\" height=\"24px\" viewBox=\"0 -960 960 960\">\n",
              "    <path d=\"M120-120v-720h720v720H120Zm60-500h600v-160H180v160Zm220 220h160v-160H400v160Zm0 220h160v-160H400v160ZM180-400h160v-160H180v160Zm440 0h160v-160H620v160ZM180-180h160v-160H180v160Zm440 0h160v-160H620v160Z\"/>\n",
              "  </svg>\n",
              "    </button>\n",
              "\n",
              "  <style>\n",
              "    .colab-df-container {\n",
              "      display:flex;\n",
              "      gap: 12px;\n",
              "    }\n",
              "\n",
              "    .colab-df-convert {\n",
              "      background-color: #E8F0FE;\n",
              "      border: none;\n",
              "      border-radius: 50%;\n",
              "      cursor: pointer;\n",
              "      display: none;\n",
              "      fill: #1967D2;\n",
              "      height: 32px;\n",
              "      padding: 0 0 0 0;\n",
              "      width: 32px;\n",
              "    }\n",
              "\n",
              "    .colab-df-convert:hover {\n",
              "      background-color: #E2EBFA;\n",
              "      box-shadow: 0px 1px 2px rgba(60, 64, 67, 0.3), 0px 1px 3px 1px rgba(60, 64, 67, 0.15);\n",
              "      fill: #174EA6;\n",
              "    }\n",
              "\n",
              "    .colab-df-buttons div {\n",
              "      margin-bottom: 4px;\n",
              "    }\n",
              "\n",
              "    [theme=dark] .colab-df-convert {\n",
              "      background-color: #3B4455;\n",
              "      fill: #D2E3FC;\n",
              "    }\n",
              "\n",
              "    [theme=dark] .colab-df-convert:hover {\n",
              "      background-color: #434B5C;\n",
              "      box-shadow: 0px 1px 3px 1px rgba(0, 0, 0, 0.15);\n",
              "      filter: drop-shadow(0px 1px 2px rgba(0, 0, 0, 0.3));\n",
              "      fill: #FFFFFF;\n",
              "    }\n",
              "  </style>\n",
              "\n",
              "    <script>\n",
              "      const buttonEl =\n",
              "        document.querySelector('#df-55c7e44c-2b6d-4cb2-9bac-ffd3850a8918 button.colab-df-convert');\n",
              "      buttonEl.style.display =\n",
              "        google.colab.kernel.accessAllowed ? 'block' : 'none';\n",
              "\n",
              "      async function convertToInteractive(key) {\n",
              "        const element = document.querySelector('#df-55c7e44c-2b6d-4cb2-9bac-ffd3850a8918');\n",
              "        const dataTable =\n",
              "          await google.colab.kernel.invokeFunction('convertToInteractive',\n",
              "                                                    [key], {});\n",
              "        if (!dataTable) return;\n",
              "\n",
              "        const docLinkHtml = 'Like what you see? Visit the ' +\n",
              "          '<a target=\"_blank\" href=https://colab.research.google.com/notebooks/data_table.ipynb>data table notebook</a>'\n",
              "          + ' to learn more about interactive tables.';\n",
              "        element.innerHTML = '';\n",
              "        dataTable['output_type'] = 'display_data';\n",
              "        await google.colab.output.renderOutput(dataTable, element);\n",
              "        const docLink = document.createElement('div');\n",
              "        docLink.innerHTML = docLinkHtml;\n",
              "        element.appendChild(docLink);\n",
              "      }\n",
              "    </script>\n",
              "  </div>\n",
              "\n",
              "\n",
              "<div id=\"df-062684e3-dd8e-4715-b6f2-43788027579d\">\n",
              "  <button class=\"colab-df-quickchart\" onclick=\"quickchart('df-062684e3-dd8e-4715-b6f2-43788027579d')\"\n",
              "            title=\"Suggest charts\"\n",
              "            style=\"display:none;\">\n",
              "\n",
              "<svg xmlns=\"http://www.w3.org/2000/svg\" height=\"24px\"viewBox=\"0 0 24 24\"\n",
              "     width=\"24px\">\n",
              "    <g>\n",
              "        <path d=\"M19 3H5c-1.1 0-2 .9-2 2v14c0 1.1.9 2 2 2h14c1.1 0 2-.9 2-2V5c0-1.1-.9-2-2-2zM9 17H7v-7h2v7zm4 0h-2V7h2v10zm4 0h-2v-4h2v4z\"/>\n",
              "    </g>\n",
              "</svg>\n",
              "  </button>\n",
              "\n",
              "<style>\n",
              "  .colab-df-quickchart {\n",
              "      --bg-color: #E8F0FE;\n",
              "      --fill-color: #1967D2;\n",
              "      --hover-bg-color: #E2EBFA;\n",
              "      --hover-fill-color: #174EA6;\n",
              "      --disabled-fill-color: #AAA;\n",
              "      --disabled-bg-color: #DDD;\n",
              "  }\n",
              "\n",
              "  [theme=dark] .colab-df-quickchart {\n",
              "      --bg-color: #3B4455;\n",
              "      --fill-color: #D2E3FC;\n",
              "      --hover-bg-color: #434B5C;\n",
              "      --hover-fill-color: #FFFFFF;\n",
              "      --disabled-bg-color: #3B4455;\n",
              "      --disabled-fill-color: #666;\n",
              "  }\n",
              "\n",
              "  .colab-df-quickchart {\n",
              "    background-color: var(--bg-color);\n",
              "    border: none;\n",
              "    border-radius: 50%;\n",
              "    cursor: pointer;\n",
              "    display: none;\n",
              "    fill: var(--fill-color);\n",
              "    height: 32px;\n",
              "    padding: 0;\n",
              "    width: 32px;\n",
              "  }\n",
              "\n",
              "  .colab-df-quickchart:hover {\n",
              "    background-color: var(--hover-bg-color);\n",
              "    box-shadow: 0 1px 2px rgba(60, 64, 67, 0.3), 0 1px 3px 1px rgba(60, 64, 67, 0.15);\n",
              "    fill: var(--button-hover-fill-color);\n",
              "  }\n",
              "\n",
              "  .colab-df-quickchart-complete:disabled,\n",
              "  .colab-df-quickchart-complete:disabled:hover {\n",
              "    background-color: var(--disabled-bg-color);\n",
              "    fill: var(--disabled-fill-color);\n",
              "    box-shadow: none;\n",
              "  }\n",
              "\n",
              "  .colab-df-spinner {\n",
              "    border: 2px solid var(--fill-color);\n",
              "    border-color: transparent;\n",
              "    border-bottom-color: var(--fill-color);\n",
              "    animation:\n",
              "      spin 1s steps(1) infinite;\n",
              "  }\n",
              "\n",
              "  @keyframes spin {\n",
              "    0% {\n",
              "      border-color: transparent;\n",
              "      border-bottom-color: var(--fill-color);\n",
              "      border-left-color: var(--fill-color);\n",
              "    }\n",
              "    20% {\n",
              "      border-color: transparent;\n",
              "      border-left-color: var(--fill-color);\n",
              "      border-top-color: var(--fill-color);\n",
              "    }\n",
              "    30% {\n",
              "      border-color: transparent;\n",
              "      border-left-color: var(--fill-color);\n",
              "      border-top-color: var(--fill-color);\n",
              "      border-right-color: var(--fill-color);\n",
              "    }\n",
              "    40% {\n",
              "      border-color: transparent;\n",
              "      border-right-color: var(--fill-color);\n",
              "      border-top-color: var(--fill-color);\n",
              "    }\n",
              "    60% {\n",
              "      border-color: transparent;\n",
              "      border-right-color: var(--fill-color);\n",
              "    }\n",
              "    80% {\n",
              "      border-color: transparent;\n",
              "      border-right-color: var(--fill-color);\n",
              "      border-bottom-color: var(--fill-color);\n",
              "    }\n",
              "    90% {\n",
              "      border-color: transparent;\n",
              "      border-bottom-color: var(--fill-color);\n",
              "    }\n",
              "  }\n",
              "</style>\n",
              "\n",
              "  <script>\n",
              "    async function quickchart(key) {\n",
              "      const quickchartButtonEl =\n",
              "        document.querySelector('#' + key + ' button');\n",
              "      quickchartButtonEl.disabled = true;  // To prevent multiple clicks.\n",
              "      quickchartButtonEl.classList.add('colab-df-spinner');\n",
              "      try {\n",
              "        const charts = await google.colab.kernel.invokeFunction(\n",
              "            'suggestCharts', [key], {});\n",
              "      } catch (error) {\n",
              "        console.error('Error during call to suggestCharts:', error);\n",
              "      }\n",
              "      quickchartButtonEl.classList.remove('colab-df-spinner');\n",
              "      quickchartButtonEl.classList.add('colab-df-quickchart-complete');\n",
              "    }\n",
              "    (() => {\n",
              "      let quickchartButtonEl =\n",
              "        document.querySelector('#df-062684e3-dd8e-4715-b6f2-43788027579d button');\n",
              "      quickchartButtonEl.style.display =\n",
              "        google.colab.kernel.accessAllowed ? 'block' : 'none';\n",
              "    })();\n",
              "  </script>\n",
              "</div>\n",
              "\n",
              "    </div>\n",
              "  </div>\n"
            ],
            "application/vnd.google.colaboratory.intrinsic+json": {
              "type": "dataframe",
              "variable_name": "comments_grouped",
              "summary": "{\n  \"name\": \"comments_grouped\",\n  \"rows\": 23536,\n  \"fields\": [\n    {\n      \"column\": \"Listing ID\",\n      \"properties\": {\n        \"dtype\": \"number\",\n        \"std\": 9887994,\n        \"min\": 2695,\n        \"max\": 34682315,\n        \"num_unique_values\": 23536,\n        \"samples\": [\n          20121585,\n          26180749,\n          14271993\n        ],\n        \"semantic_type\": \"\",\n        \"description\": \"\"\n      }\n    },\n    {\n      \"column\": \"Polarity_min\",\n      \"properties\": {\n        \"dtype\": \"number\",\n        \"std\": 0.2801400918909108,\n        \"min\": -1.0,\n        \"max\": 1.0,\n        \"num_unique_values\": 3645,\n        \"samples\": [\n          0.15000000000000002,\n          0.23,\n          0.044285714285714275\n        ],\n        \"semantic_type\": \"\",\n        \"description\": \"\"\n      }\n    },\n    {\n      \"column\": \"Polarity_max\",\n      \"properties\": {\n        \"dtype\": \"number\",\n        \"std\": 0.28158906655339594,\n        \"min\": -0.6999999999999998,\n        \"max\": 1.0,\n        \"num_unique_values\": 4411,\n        \"samples\": [\n          0.21319444444444444,\n          0.45034722222222223,\n          0.563888888888889\n        ],\n        \"semantic_type\": \"\",\n        \"description\": \"\"\n      }\n    },\n    {\n      \"column\": \"Polarity_median\",\n      \"properties\": {\n        \"dtype\": \"number\",\n        \"std\": 0.16309947564406604,\n        \"min\": -0.6999999999999998,\n        \"max\": 1.0,\n        \"num_unique_values\": 9380,\n        \"samples\": [\n          0.24085648148148148,\n          0.44833333333333336,\n          0.35654761904761906\n        ],\n        \"semantic_type\": \"\",\n        \"description\": \"\"\n      }\n    },\n    {\n      \"column\": \"Polarity_mean\",\n      \"properties\": {\n        \"dtype\": \"number\",\n        \"std\": 0.1448300596991985,\n        \"min\": -0.6999999999999998,\n        \"max\": 1.0,\n        \"num_unique_values\": 16455,\n        \"samples\": [\n          0.40175264550264556,\n          0.45400742775742775,\n          0.21135912698412695\n        ],\n        \"semantic_type\": \"\",\n        \"description\": \"\"\n      }\n    }\n  ]\n}"
            }
          },
          "metadata": {},
          "execution_count": 11
        }
      ]
    },
    {
      "cell_type": "code",
      "source": [
        "apartments = apartments.merge(comments_grouped, left_on='Listing ID', right_on='Listing ID', how='left')"
      ],
      "metadata": {
        "id": "eVO09L8ryp4h"
      },
      "execution_count": null,
      "outputs": []
    },
    {
      "cell_type": "markdown",
      "source": [
        "## Preprocessing data in time format"
      ],
      "metadata": {
        "id": "2pkwvQUs3H3R"
      }
    },
    {
      "cell_type": "code",
      "source": [
        "# from datetime import datetime\n",
        "\n",
        "apartments['Host Since'] = pd.to_datetime(apartments['Host Since'])\n",
        "apartments['First Review'] = pd.to_datetime(apartments['First Review'])\n",
        "apartments['Last Review'] = pd.to_datetime(apartments['Last Review'])\n",
        "\n",
        "today = pd.to_datetime(datetime.today().strftime('%Y-%m-%d'))\n",
        "\n",
        "apartments['Host Since Years'] = (today - apartments['Host Since']).dt.days / 365.25\n",
        "apartments['Last Review Years'] = (today - apartments['Last Review']).dt.days / 365.25\n",
        "apartments['First Review Years'] = (today - apartments['First Review']).dt.days / 365.25"
      ],
      "metadata": {
        "id": "r4KAOWhAOjee"
      },
      "execution_count": null,
      "outputs": []
    },
    {
      "cell_type": "markdown",
      "source": [
        "### Separating numeric and non-numeric data"
      ],
      "metadata": {
        "id": "TUqX2JKj3lPR"
      }
    },
    {
      "cell_type": "code",
      "source": [
        "apartments['Listing ID'] = apartments['Listing ID'].astype(str)\n",
        "apartments['Postal Code'] = apartments['Postal Code'].astype(str)"
      ],
      "metadata": {
        "id": "c-zbx0jOLnDB"
      },
      "execution_count": null,
      "outputs": []
    },
    {
      "cell_type": "code",
      "source": [
        "# import pickle\n",
        "\n",
        "with open('apartments2.pkl', 'wb') as f:\n",
        "    pickle.dump(apartments, f)"
      ],
      "metadata": {
        "id": "KpPJ1DzjDb2D"
      },
      "execution_count": null,
      "outputs": []
    },
    {
      "cell_type": "code",
      "source": [
        "# apartments.to_excel('apartments_2.xlsx', index=False)"
      ],
      "metadata": {
        "id": "5WIR8P7TEHY7"
      },
      "execution_count": null,
      "outputs": []
    },
    {
      "cell_type": "markdown",
      "source": [
        "-------------------end of 1-----------------------"
      ],
      "metadata": {
        "id": "_8kcpPWFc-wE"
      }
    }
  ]
}