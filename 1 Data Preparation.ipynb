{
  "nbformat": 4,
  "nbformat_minor": 0,
  "metadata": {
    "colab": {
      "provenance": [],
      "toc_visible": true,
      "include_colab_link": true
    },
    "kernelspec": {
      "name": "python3",
      "display_name": "Python 3"
    },
    "language_info": {
      "name": "python"
    }
  },
  "cells": [
    {
      "cell_type": "markdown",
      "metadata": {
        "id": "view-in-github",
        "colab_type": "text"
      },
      "source": [
        "<a href=\"https://colab.research.google.com/github/IlyaZutler/Project-3-Berlin-Airbnb-Ratings/blob/main/1%20Data%20Preparation.ipynb\" target=\"_parent\"><img src=\"https://colab.research.google.com/assets/colab-badge.svg\" alt=\"Open In Colab\"/></a>"
      ]
    },
    {
      "cell_type": "markdown",
      "source": [
        "# **Dataset Berlin Airbnb Ratings**\n",
        "\n",
        "https://www.kaggle.com/datasets/thedevastator/berlin-airbnb-ratings-how-hosts-measure-up\n",
        "\n",
        "Dataset contains 450 thousand reviews of 23.5 thousand unique apartments."
      ],
      "metadata": {
        "id": "SsQsp399SAtx"
      }
    },
    {
      "cell_type": "markdown",
      "source": [
        "# **Data Preparation**"
      ],
      "metadata": {
        "id": "0CUAY8chIo1R"
      }
    },
    {
      "cell_type": "code",
      "execution_count": 1,
      "metadata": {
        "id": "UnyeFZrF9QXk"
      },
      "outputs": [],
      "source": [
        "import pandas as pd\n",
        "import numpy as np\n",
        "import matplotlib.pyplot as plt\n",
        "import seaborn as sns\n",
        "\n",
        "!pip install openpyxl -q\n",
        "import openpyxl\n",
        "import pickle\n",
        "\n",
        "# Ignore warnings\n",
        "import warnings\n",
        "warnings.filterwarnings('ignore')\n",
        "\n",
        "# Comment analisis\n",
        "from textblob import TextBlob\n",
        "\n",
        "from datetime import datetime\n",
        "\n",
        "# missing data\n",
        "!pip install missingno -q\n",
        "import missingno as msno\n",
        "\n",
        "# Set display options\n",
        "%matplotlib inline\n",
        "pd.set_option('display.max_columns', 200)\n",
        "pd.set_option('display.max_rows', 200)\n",
        "pd.set_option('display.max_colwidth', 1000)"
      ]
    },
    {
      "source": [
        "apartments = pd.read_excel('https://raw.githubusercontent.com/IlyaZutler/Project-3-Berlin-Airbnb-Ratings/main/apartments.xlsx', engine='openpyxl')"
      ],
      "cell_type": "code",
      "metadata": {
        "id": "XKATuH0TJjzu"
      },
      "execution_count": null,
      "outputs": []
    },
    {
      "cell_type": "code",
      "source": [
        "comments = pd.read_excel('https://raw.githubusercontent.com/IlyaZutler/Project-3-Berlin-Airbnb-Ratings/main/Comments_full.xlsx', engine='openpyxl')"
      ],
      "metadata": {
        "id": "l0QQZ1ucIw_q"
      },
      "execution_count": null,
      "outputs": []
    },
    {
      "cell_type": "markdown",
      "source": [
        "## Comment Analysis\n",
        "\n"
      ],
      "metadata": {
        "id": "VhzS9LTL2b3Y"
      }
    },
    {
      "cell_type": "code",
      "source": [
        "# from textblob import TextBlob\n",
        "\n",
        "def calculate_polarity(comment):\n",
        "  if pd.notna(comment):\n",
        "    text = TextBlob(comment)\n",
        "    return text.sentiment[0]\n",
        "  else:\n",
        "    return None\n",
        "\n",
        "comments['polarity'] = comments['Comments'].apply(calculate_polarity)"
      ],
      "metadata": {
        "id": "peH8fE8rJAxz"
      },
      "execution_count": null,
      "outputs": []
    },
    {
      "cell_type": "code",
      "source": [
        "comments_grouped = comments.groupby('Listing ID').agg(\n",
        "    polarity_min=('polarity', 'min'),\n",
        "    polarity_max=('polarity', 'max'),\n",
        "    polarity_median=('polarity', 'median'),\n",
        "    polarity_mean=('polarity', 'mean')\n",
        ")\n",
        "comments_grouped.head()"
      ],
      "metadata": {
        "collapsed": true,
        "id": "GN283lWzy65R"
      },
      "execution_count": null,
      "outputs": []
    },
    {
      "cell_type": "code",
      "source": [
        "apartments = apartments.merge(comments_grouped, left_on='Listing ID', right_on='Listing ID', how='left')"
      ],
      "metadata": {
        "id": "eVO09L8ryp4h"
      },
      "execution_count": null,
      "outputs": []
    },
    {
      "cell_type": "markdown",
      "source": [
        "# Preprocessing data in time format"
      ],
      "metadata": {
        "id": "2pkwvQUs3H3R"
      }
    },
    {
      "cell_type": "code",
      "source": [
        "from datetime import datetime\n",
        "\n",
        "apartments['Host Since'] = pd.to_datetime(apartments['Host Since'])\n",
        "apartments['First Review'] = pd.to_datetime(apartments['First Review'])\n",
        "apartments['Last Review'] = pd.to_datetime(apartments['Last Review'])\n",
        "\n",
        "today = pd.to_datetime(datetime.today().strftime('%Y-%m-%d'))\n",
        "\n",
        "apartments['Host Since Years'] = (today - apartments['Host Since']).dt.days / 365.25\n",
        "apartments['Last Review Years'] = (today - apartments['Last Review']).dt.days / 365.25\n",
        "apartments['First Review Years'] = (today - apartments['First Review']).dt.days / 365.25"
      ],
      "metadata": {
        "id": "r4KAOWhAOjee"
      },
      "execution_count": null,
      "outputs": []
    },
    {
      "cell_type": "markdown",
      "source": [
        "### Separating numeric and non-numeric data"
      ],
      "metadata": {
        "id": "TUqX2JKj3lPR"
      }
    },
    {
      "cell_type": "code",
      "source": [
        "apartments['Listing ID'] = apartments['Listing ID'].astype(str)\n",
        "apartments['Postal Code'] = apartments['Postal Code'].astype(str)"
      ],
      "metadata": {
        "id": "c-zbx0jOLnDB"
      },
      "execution_count": null,
      "outputs": []
    },
    {
      "cell_type": "code",
      "source": [
        "# import pickle\n",
        "\n",
        "with open('apartments2.pkl', 'wb') as f:\n",
        "    pickle.dump(apartments, f)"
      ],
      "metadata": {
        "id": "KpPJ1DzjDb2D"
      },
      "execution_count": null,
      "outputs": []
    },
    {
      "cell_type": "code",
      "source": [
        "apartments.to_excel('apartments_2.xlsx', index=False)"
      ],
      "metadata": {
        "id": "5WIR8P7TEHY7"
      },
      "execution_count": null,
      "outputs": []
    },
    {
      "cell_type": "markdown",
      "source": [
        "-------------------end of 1-----------------------"
      ],
      "metadata": {
        "id": "_8kcpPWFc-wE"
      }
    }
  ]
}