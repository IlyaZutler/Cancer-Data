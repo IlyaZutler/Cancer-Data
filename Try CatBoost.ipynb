{
  "nbformat": 4,
  "nbformat_minor": 0,
  "metadata": {
    "colab": {
      "provenance": [],
      "include_colab_link": true
    },
    "kernelspec": {
      "name": "python3",
      "display_name": "Python 3"
    },
    "language_info": {
      "name": "python"
    }
  },
  "cells": [
    {
      "cell_type": "markdown",
      "metadata": {
        "id": "view-in-github",
        "colab_type": "text"
      },
      "source": [
        "<a href=\"https://colab.research.google.com/github/IlyaZutler/Project-3-Berlin-Airbnb-Ratings/blob/main/Try%20CatBoost.ipynb\" target=\"_parent\"><img src=\"https://colab.research.google.com/assets/colab-badge.svg\" alt=\"Open In Colab\"/></a>"
      ]
    },
    {
      "cell_type": "markdown",
      "source": [
        "# Try CatBoostRegressor"
      ],
      "metadata": {
        "id": "SsQsp399SAtx"
      }
    },
    {
      "cell_type": "code",
      "execution_count": 2,
      "metadata": {
        "id": "UnyeFZrF9QXk",
        "outputId": "2ca6baaf-8e2a-4900-de63-000f49a70559",
        "colab": {
          "base_uri": "https://localhost:8080/"
        }
      },
      "outputs": [
        {
          "output_type": "stream",
          "name": "stdout",
          "text": [
            "\u001b[?25l   \u001b[90m━━━━━━━━━━━━━━━━━━━━━━━━━━━━━━━━━━━━━━━━\u001b[0m \u001b[32m0.0/2.8 MB\u001b[0m \u001b[31m?\u001b[0m eta \u001b[36m-:--:--\u001b[0m\r\u001b[2K   \u001b[91m━━━━━━━━━━━\u001b[0m\u001b[91m╸\u001b[0m\u001b[90m━━━━━━━━━━━━━━━━━━━━━━━━━━━━\u001b[0m \u001b[32m0.8/2.8 MB\u001b[0m \u001b[31m25.1 MB/s\u001b[0m eta \u001b[36m0:00:01\u001b[0m\r\u001b[2K   \u001b[91m━━━━━━━━━━━━━━━━━━━━━━━━━━━━━━━━━━━━━━━\u001b[0m\u001b[91m╸\u001b[0m \u001b[32m2.8/2.8 MB\u001b[0m \u001b[31m56.9 MB/s\u001b[0m eta \u001b[36m0:00:01\u001b[0m\r\u001b[2K   \u001b[90m━━━━━━━━━━━━━━━━━━━━━━━━━━━━━━━━━━━━━━━━\u001b[0m \u001b[32m2.8/2.8 MB\u001b[0m \u001b[31m38.1 MB/s\u001b[0m eta \u001b[36m0:00:00\u001b[0m\n",
            "\u001b[?25h\u001b[?25l   \u001b[90m━━━━━━━━━━━━━━━━━━━━━━━━━━━━━━━━━━━━━━━━\u001b[0m \u001b[32m0.0/135.4 kB\u001b[0m \u001b[31m?\u001b[0m eta \u001b[36m-:--:--\u001b[0m\r\u001b[2K   \u001b[90m━━━━━━━━━━━━━━━━━━━━━━━━━━━━━━━━━━━━━━━━\u001b[0m \u001b[32m135.4/135.4 kB\u001b[0m \u001b[31m9.5 MB/s\u001b[0m eta \u001b[36m0:00:00\u001b[0m\n",
            "\u001b[?25h"
          ]
        }
      ],
      "source": [
        "import pandas as pd\n",
        "import numpy as np\n",
        "import matplotlib.pyplot as plt\n",
        "import seaborn as sns\n",
        "\n",
        "# !pip install openpyxl -q\n",
        "# import openpyxl\n",
        "\n",
        "# Ignore warnings\n",
        "import warnings\n",
        "warnings.filterwarnings('ignore')\n",
        "\n",
        "# from datetime import datetime\n",
        "\n",
        "# missing data\n",
        "!pip install missingno -q\n",
        "import missingno as msno\n",
        "\n",
        "# for map\n",
        "!pip install -q folium matplotlib\n",
        "import folium\n",
        "from matplotlib.colors import LinearSegmentedColormap, Normalize, to_hex\n",
        "\n",
        "# for grid\n",
        "!pip install geopy -q\n",
        "from geopy.distance import geodesic\n",
        "\n",
        "!pip install pandas numpy libpysal geopy esda -q\n",
        "from geopy.distance import great_circle\n",
        "\n",
        "# # for Moran\n",
        "# !pip install pandas numpy libpysal geopy esda -q\n",
        "# import libpysal\n",
        "# from esda.moran import Moran\n",
        "\n",
        "# linear regression\n",
        "from sklearn.model_selection import train_test_split\n",
        "# from sklearn.linear_model import Lasso\n",
        "# from sklearn.preprocessing import StandardScaler\n",
        "# from sklearn.metrics import mean_absolute_error, mean_squared_error, r2_score\n",
        "\n",
        "\n",
        "# Set display options\n",
        "%matplotlib inline\n",
        "pd.set_option('display.max_columns', 200)\n",
        "pd.set_option('display.max_rows', 200)\n",
        "pd.set_option('display.max_colwidth', 1000)"
      ]
    },
    {
      "source": [
        "apartments_initial = pd.read_excel('https://raw.githubusercontent.com/IlyaZutler/Project-3-Berlin-Airbnb-Ratings/main/apartments4.xlsx', engine='openpyxl')"
      ],
      "cell_type": "code",
      "metadata": {
        "id": "XKATuH0TJjzu"
      },
      "execution_count": 3,
      "outputs": []
    },
    {
      "cell_type": "code",
      "source": [
        "apartments = apartments_initial.copy()"
      ],
      "metadata": {
        "id": "4j0cJ2rVvV6d"
      },
      "execution_count": 41,
      "outputs": []
    },
    {
      "source": [
        "import pickle\n",
        "import requests\n",
        "from io import BytesIO  # Import BytesIO\n",
        "\n",
        "url_lat = 'https://raw.githubusercontent.com/IlyaZutler/Project-3-Berlin-Airbnb-Ratings/main/lat_bin.pkl'\n",
        "url_lon = 'https://raw.githubusercontent.com/IlyaZutler/Project-3-Berlin-Airbnb-Ratings/main/lon_bin.pkl'\n",
        "\n",
        "# Download lat_bin\n",
        "response_lat = requests.get(url_lat)\n",
        "lat_bin = pickle.load(BytesIO(response_lat.content))  # Load from the downloaded content\n",
        "\n",
        "# Download lon_bin\n",
        "response_lon = requests.get(url_lon)\n",
        "lon_bin = pickle.load(BytesIO(response_lon.content))  # Load from the downloaded content"
      ],
      "cell_type": "code",
      "metadata": {
        "id": "0qq9qK49vFdO"
      },
      "execution_count": 5,
      "outputs": []
    },
    {
      "cell_type": "code",
      "source": [
        "# # удалить записи  если в ['Latitude_Bin', 'Longitude_Bin'] менее 3-х записей\n",
        "\n",
        "# # Calculate the number of listings in each bin\n",
        "# bin_counts = apartments.groupby(['Latitude_Bin', 'Longitude_Bin']).size().reset_index(name='count')\n",
        "\n",
        "# # Filter out bins with less than 4 listings\n",
        "# bins_to_keep = bin_counts[bin_counts['count'] >= 3][['Latitude_Bin', 'Longitude_Bin']]\n",
        "\n",
        "# # Merge with the original DataFrame to keep only listings in the selected bins\n",
        "# apartments1 = apartments.merge(bins_to_keep, on=['Latitude_Bin', 'Longitude_Bin'], how='inner')\n"
      ],
      "metadata": {
        "id": "jQNTm8H3uXYT"
      },
      "execution_count": null,
      "outputs": []
    },
    {
      "cell_type": "code",
      "source": [
        "apartments.columns"
      ],
      "metadata": {
        "id": "1rtMaKjPzE--",
        "outputId": "196fbec1-a292-484d-c558-7e9250fdbfc8",
        "colab": {
          "base_uri": "https://localhost:8080/"
        }
      },
      "execution_count": 6,
      "outputs": [
        {
          "output_type": "execute_result",
          "data": {
            "text/plain": [
              "Index(['Listing ID', 'Host Since', 'Host Response Time', 'Host Response Rate',\n",
              "       'Is Superhost', 'neighbourhood', 'Neighborhood Group', 'Postal Code',\n",
              "       'Latitude', 'Longitude', 'Is Exact Location', 'Property Type',\n",
              "       'Room Type', 'Accomodates', 'Bathrooms', 'Bedrooms', 'Beds', 'Price',\n",
              "       'Guests Included', 'Min Nights', 'Reviews', 'First Review',\n",
              "       'Last Review', 'Overall Rating', 'Accuracy Rating',\n",
              "       'Cleanliness Rating', 'Checkin Rating', 'Communication Rating',\n",
              "       'Location Rating', 'Value Rating', 'Instant Bookable',\n",
              "       'Host Since Years', 'Last Review Years', 'First Review Years',\n",
              "       'Postal Code1', 'Location Rating Roughly', 'Reviews Log', 'Price Log',\n",
              "       'Neighborhood Location Rating', 'Neighborhood Price', 'Latitude_Bin',\n",
              "       'Longitude_Bin'],\n",
              "      dtype='object')"
            ]
          },
          "metadata": {},
          "execution_count": 6
        }
      ]
    },
    {
      "cell_type": "code",
      "source": [
        "apartments['Is Exact Location'] = apartments['Is Exact Location'].replace({'t': 1, 'f': 0}).fillna(0).astype(int)"
      ],
      "metadata": {
        "id": "QeU8F1dYiX_o"
      },
      "execution_count": 42,
      "outputs": []
    },
    {
      "cell_type": "code",
      "source": [
        "apartments.dropna(subset=['Price'], inplace=True)"
      ],
      "metadata": {
        "id": "1XJ9oHJsloXg"
      },
      "execution_count": 36,
      "outputs": []
    },
    {
      "cell_type": "code",
      "source": [
        "X = apartments.drop(['Listing ID', 'Host Since','Overall Rating','Postal Code', 'First Review',\n",
        "       'Last Review', 'Reviews Log', 'Price Log','Price',\n",
        "       'Neighborhood Location Rating', 'Neighborhood Price'], axis=1)  # Признаки\n",
        "y = apartments['Price']  # Целевая переменная"
      ],
      "metadata": {
        "id": "cNKPVftPNgKx"
      },
      "execution_count": 45,
      "outputs": []
    },
    {
      "source": [
        "!pip install catboost -q\n",
        "import pandas as pd\n",
        "import numpy as np\n",
        "from sklearn.model_selection import train_test_split\n",
        "from sklearn.metrics import mean_squared_error, mean_absolute_error, r2_score\n",
        "from catboost import CatBoostRegressor, Pool  # Now CatBoost is available\n",
        "\n",
        "num_features = X.select_dtypes(include='number').columns\n",
        "cat_features = X.select_dtypes(exclude='number').columns\n",
        "\n",
        "for col in cat_features:\n",
        "    if X[col].dtype != 'str':\n",
        "        X[col] = X[col].astype(str)\n",
        "\n",
        "# Определяем признаки и таргет\n",
        "X = X\n",
        "y = y\n",
        "\n",
        "# Разбиваем данные на обучающую и тестовую выборки\n",
        "X_train, X_test, y_train, y_test = train_test_split(X, y, test_size=0.2, random_state=40)\n",
        "\n",
        "# Convert cat_features to a list\n",
        "cat_features = cat_features.tolist()  # This is the key change\n",
        "\n",
        "# Создаем модели для обучающей и тестовой выборок с указанием категориальных признаков\n",
        "train_pool = Pool(X_train, y_train, cat_features=cat_features)\n",
        "test_pool = Pool(X_test, y_test, cat_features=cat_features)\n",
        "\n",
        "# Инициализируем и обучаем модель\n",
        "model = CatBoostRegressor(iterations=1000, learning_rate=0.1, depth=6, verbose=100)\n",
        "model.fit(train_pool)\n",
        "\n",
        "# Предсказания на тестовой выборке\n",
        "y_pred = model.predict(test_pool)\n",
        "\n",
        "# Вычисляем метрики\n",
        "mse = mean_squared_error(y_test, y_pred)\n",
        "mae = mean_absolute_error(y_test, y_pred)\n",
        "r2 = r2_score(y_test, y_pred)\n",
        "\n",
        "# Выводим метрики\n",
        "print(f\"Mean Squared Error: {mse}\")\n",
        "print(f\"Mean Absolute Error: {mae}\")\n",
        "print(f\"R^2 Score: {r2}\")"
      ],
      "cell_type": "code",
      "metadata": {
        "id": "2VxUxtbLlS-Q",
        "outputId": "11857574-9e04-4f0b-f343-ccfe5bb4df4a",
        "colab": {
          "base_uri": "https://localhost:8080/"
        }
      },
      "execution_count": 46,
      "outputs": [
        {
          "output_type": "stream",
          "name": "stdout",
          "text": [
            "0:\tlearn: 35.8986624\ttotal: 16.7ms\tremaining: 16.7s\n",
            "100:\tlearn: 23.0179759\ttotal: 1.58s\tremaining: 14.1s\n",
            "200:\tlearn: 21.8907886\ttotal: 3.03s\tremaining: 12.1s\n",
            "300:\tlearn: 21.1950515\ttotal: 4.47s\tremaining: 10.4s\n",
            "400:\tlearn: 20.5727240\ttotal: 5.86s\tremaining: 8.75s\n",
            "500:\tlearn: 20.0819952\ttotal: 8.41s\tremaining: 8.38s\n",
            "600:\tlearn: 19.5722584\ttotal: 10.9s\tremaining: 7.26s\n",
            "700:\tlearn: 19.1188676\ttotal: 12.4s\tremaining: 5.31s\n",
            "800:\tlearn: 18.7367561\ttotal: 14s\tremaining: 3.47s\n",
            "900:\tlearn: 18.3587535\ttotal: 15.5s\tremaining: 1.7s\n",
            "999:\tlearn: 18.0292227\ttotal: 17s\tremaining: 0us\n",
            "Mean Squared Error: 637.1124644033777\n",
            "Mean Absolute Error: 16.22268598132093\n",
            "R^2 Score: 0.5801647048499567\n"
          ]
        }
      ]
    },
    {
      "cell_type": "code",
      "source": [],
      "metadata": {
        "id": "rMe35tNg09o-"
      },
      "execution_count": null,
      "outputs": []
    }
  ]
}