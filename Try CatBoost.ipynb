{
  "nbformat": 4,
  "nbformat_minor": 0,
  "metadata": {
    "colab": {
      "provenance": [],
      "include_colab_link": true
    },
    "kernelspec": {
      "name": "python3",
      "display_name": "Python 3"
    },
    "language_info": {
      "name": "python"
    }
  },
  "cells": [
    {
      "cell_type": "markdown",
      "metadata": {
        "id": "view-in-github",
        "colab_type": "text"
      },
      "source": [
        "<a href=\"https://colab.research.google.com/github/IlyaZutler/Project-3-Berlin-Airbnb-Ratings/blob/main/Try%20CatBoost.ipynb\" target=\"_parent\"><img src=\"https://colab.research.google.com/assets/colab-badge.svg\" alt=\"Open In Colab\"/></a>"
      ]
    },
    {
      "cell_type": "markdown",
      "source": [
        "# Try CatBoostRegressor"
      ],
      "metadata": {
        "id": "SsQsp399SAtx"
      }
    },
    {
      "cell_type": "code",
      "execution_count": 4,
      "metadata": {
        "id": "UnyeFZrF9QXk",
        "outputId": "6a131cec-5e04-44e7-fe5b-957b71d8e384",
        "colab": {
          "base_uri": "https://localhost:8080/"
        }
      },
      "outputs": [
        {
          "output_type": "stream",
          "name": "stdout",
          "text": [
            "\u001b[2K   \u001b[90m━━━━━━━━━━━━━━━━━━━━━━━━━━━━━━━━━━━━━━━━\u001b[0m \u001b[32m2.8/2.8 MB\u001b[0m \u001b[31m20.7 MB/s\u001b[0m eta \u001b[36m0:00:00\u001b[0m\n",
            "\u001b[2K   \u001b[90m━━━━━━━━━━━━━━━━━━━━━━━━━━━━━━━━━━━━━━━━\u001b[0m \u001b[32m135.4/135.4 kB\u001b[0m \u001b[31m11.1 MB/s\u001b[0m eta \u001b[36m0:00:00\u001b[0m\n",
            "\u001b[?25h"
          ]
        }
      ],
      "source": [
        "import pandas as pd\n",
        "import numpy as np\n",
        "import matplotlib.pyplot as plt\n",
        "import seaborn as sns\n",
        "\n",
        "!pip install openpyxl -q\n",
        "import openpyxl\n",
        "\n",
        "# Ignore warnings\n",
        "import warnings\n",
        "warnings.filterwarnings('ignore')\n",
        "\n",
        "from datetime import datetime\n",
        "\n",
        "# missing data\n",
        "!pip install missingno -q\n",
        "import missingno as msno\n",
        "\n",
        "# for map\n",
        "!pip install -q folium matplotlib\n",
        "import folium\n",
        "from matplotlib.colors import LinearSegmentedColormap, Normalize, to_hex\n",
        "\n",
        "# for grid\n",
        "!pip install geopy -q\n",
        "from geopy.distance import geodesic\n",
        "\n",
        "!pip install pandas numpy libpysal geopy esda -q\n",
        "from geopy.distance import great_circle\n",
        "\n",
        "# for Moran\n",
        "!pip install pandas numpy libpysal geopy esda -q\n",
        "import libpysal\n",
        "from esda.moran import Moran\n",
        "\n",
        "# linear regression\n",
        "from sklearn.model_selection import train_test_split\n",
        "from sklearn.linear_model import Lasso\n",
        "from sklearn.preprocessing import StandardScaler\n",
        "from sklearn.metrics import mean_absolute_error, mean_squared_error, r2_score\n",
        "\n",
        "\n",
        "# Set display options\n",
        "%matplotlib inline\n",
        "pd.set_option('display.max_columns', 200)\n",
        "pd.set_option('display.max_rows', 200)\n",
        "pd.set_option('display.max_colwidth', 1000)"
      ]
    },
    {
      "source": [
        "apartments_initial = pd.read_excel('https://raw.githubusercontent.com/IlyaZutler/Project-3-Berlin-Airbnb-Ratings/main/apartments4.xlsx', engine='openpyxl')"
      ],
      "cell_type": "code",
      "metadata": {
        "id": "XKATuH0TJjzu"
      },
      "execution_count": 5,
      "outputs": []
    },
    {
      "cell_type": "code",
      "source": [
        "apartments = apartments_initial.copy()"
      ],
      "metadata": {
        "id": "4j0cJ2rVvV6d"
      },
      "execution_count": 6,
      "outputs": []
    },
    {
      "source": [
        "import pickle\n",
        "import requests\n",
        "from io import BytesIO  # Import BytesIO\n",
        "\n",
        "url_lat = 'https://raw.githubusercontent.com/IlyaZutler/Project-3-Berlin-Airbnb-Ratings/main/lat_bin.pkl'\n",
        "url_lon = 'https://raw.githubusercontent.com/IlyaZutler/Project-3-Berlin-Airbnb-Ratings/main/lon_bin.pkl'\n",
        "\n",
        "# Download lat_bin\n",
        "response_lat = requests.get(url_lat)\n",
        "lat_bin = pickle.load(BytesIO(response_lat.content))  # Load from the downloaded content\n",
        "\n",
        "# Download lon_bin\n",
        "response_lon = requests.get(url_lon)\n",
        "lon_bin = pickle.load(BytesIO(response_lon.content))  # Load from the downloaded content"
      ],
      "cell_type": "code",
      "metadata": {
        "id": "0qq9qK49vFdO"
      },
      "execution_count": 7,
      "outputs": []
    },
    {
      "cell_type": "code",
      "source": [
        "# удалить записи  если в ['Latitude_Bin', 'Longitude_Bin'] менее 3-х записей\n",
        "\n",
        "# Calculate the number of listings in each bin\n",
        "bin_counts = apartments.groupby(['Latitude_Bin', 'Longitude_Bin']).size().reset_index(name='count')\n",
        "\n",
        "# Filter out bins with less than 4 listings\n",
        "bins_to_keep = bin_counts[bin_counts['count'] >= 3][['Latitude_Bin', 'Longitude_Bin']]\n",
        "\n",
        "# Merge with the original DataFrame to keep only listings in the selected bins\n",
        "apartments1 = apartments.merge(bins_to_keep, on=['Latitude_Bin', 'Longitude_Bin'], how='inner')\n"
      ],
      "metadata": {
        "id": "jQNTm8H3uXYT"
      },
      "execution_count": 15,
      "outputs": []
    },
    {
      "cell_type": "code",
      "source": [
        "apartments.columns"
      ],
      "metadata": {
        "id": "1rtMaKjPzE--",
        "outputId": "d468854d-072f-4989-c92e-c70fed2c5748",
        "colab": {
          "base_uri": "https://localhost:8080/"
        }
      },
      "execution_count": 8,
      "outputs": [
        {
          "output_type": "execute_result",
          "data": {
            "text/plain": [
              "Index(['Listing ID', 'Host Since', 'Host Response Time', 'Host Response Rate',\n",
              "       'Is Superhost', 'neighbourhood', 'Neighborhood Group', 'Postal Code',\n",
              "       'Latitude', 'Longitude', 'Is Exact Location', 'Property Type',\n",
              "       'Room Type', 'Accomodates', 'Bathrooms', 'Bedrooms', 'Beds', 'Price',\n",
              "       'Guests Included', 'Min Nights', 'Reviews', 'First Review',\n",
              "       'Last Review', 'Overall Rating', 'Accuracy Rating',\n",
              "       'Cleanliness Rating', 'Checkin Rating', 'Communication Rating',\n",
              "       'Location Rating', 'Value Rating', 'Instant Bookable',\n",
              "       'Host Since Years', 'Last Review Years', 'First Review Years',\n",
              "       'Postal Code1', 'Location Rating Roughly', 'Reviews Log', 'Price Log',\n",
              "       'Neighborhood Location Rating', 'Neighborhood Price', 'Latitude_Bin',\n",
              "       'Longitude_Bin'],\n",
              "      dtype='object')"
            ]
          },
          "metadata": {},
          "execution_count": 8
        }
      ]
    },
    {
      "cell_type": "code",
      "source": [
        "from sklearn.model_selection import train_test_split\n",
        "\n",
        "X = apartments.drop('Overall Rating', axis=1)  # Признаки\n",
        "y = apartments['Overall Rating']  # Целевая переменная\n",
        "\n",
        "X_train, X_test, y_train, y_test = train_test_split(X, y, test_size=0.2, random_state=42)"
      ],
      "metadata": {
        "id": "R0b0TDJKy5ig"
      },
      "execution_count": 9,
      "outputs": []
    },
    {
      "cell_type": "code",
      "source": [],
      "metadata": {
        "id": "_pkdqiDZ09xU"
      },
      "execution_count": null,
      "outputs": []
    },
    {
      "cell_type": "code",
      "source": [],
      "metadata": {
        "id": "t9S6qw2q09u8"
      },
      "execution_count": null,
      "outputs": []
    },
    {
      "cell_type": "code",
      "source": [
        "!pip install catboost -q\n",
        "import pandas as pd\n",
        "import numpy as np\n",
        "from sklearn.model_selection import train_test_split\n",
        "from sklearn.metrics import mean_squared_error, mean_absolute_error, r2_score\n",
        "from catboost import CatBoostRegressor, Pool  # Now CatBoost is available\n",
        "\n",
        "\n",
        "# Предположим, что у вас есть датафрейм df, где 'target' - это ваш целевой признак\n",
        "# числовые признаки в num_features и категориальные в cat_features\n",
        "\n",
        "# Создадим пример датафрейма\n",
        "data = {\n",
        "    'num_feature1': np.random.rand(100),\n",
        "    'num_feature2': np.random.rand(100),\n",
        "    'cat_feature1': np.random.choice(['A', 'B', 'C'], 100),\n",
        "    'cat_feature2': np.random.choice(['X', 'Y', 'Z'], 100),\n",
        "    'target': np.random.rand(100)\n",
        "}\n",
        "df = pd.DataFrame(data)\n",
        "\n",
        "# Определяем числовые и категориальные признаки\n",
        "num_features = ['num_feature1', 'num_feature2']\n",
        "cat_features = ['cat_feature1', 'cat_feature2']\n",
        "\n",
        "# Определяем признаки и таргет\n",
        "X = df[num_features + cat_features]\n",
        "y = df['target']\n",
        "\n",
        "# Разбиваем данные на обучающую и тестовую выборки\n",
        "X_train, X_test, y_train, y_test = train_test_split(X, y, test_size=0.2, random_state=40)\n",
        "\n",
        "# Создаем модели для обучающей и тестовой выборок с указанием категориальных признаков\n",
        "train_pool = Pool(X_train, y_train, cat_features=cat_features)\n",
        "test_pool = Pool(X_test, y_test, cat_features=cat_features)\n",
        "\n",
        "# Инициализируем и обучаем модель\n",
        "model = CatBoostRegressor(iterations=1000, learning_rate=0.1, depth=6, verbose=100)\n",
        "model.fit(train_pool)\n",
        "\n",
        "# Предсказания на тестовой выборке\n",
        "y_pred = model.predict(test_pool)\n",
        "\n",
        "# Вычисляем метрики\n",
        "mse = mean_squared_error(y_test, y_pred)\n",
        "mae = mean_absolute_error(y_test, y_pred)\n",
        "r2 = r2_score(y_test, y_pred)\n",
        "\n",
        "# Выводим метрики\n",
        "print(f\"Mean Squared Error: {mse}\")\n",
        "print(f\"Mean Absolute Error: {mae}\")\n",
        "print(f\"R^2 Score: {r2}\")\n"
      ],
      "metadata": {
        "id": "6RBB42vO09r8",
        "outputId": "b0d3c380-4318-41b8-919c-c1f4e576671f",
        "colab": {
          "base_uri": "https://localhost:8080/"
        }
      },
      "execution_count": 14,
      "outputs": [
        {
          "output_type": "stream",
          "name": "stdout",
          "text": [
            "0:\tlearn: 0.2834352\ttotal: 773us\tremaining: 773ms\n",
            "100:\tlearn: 0.1323910\ttotal: 79.7ms\tremaining: 710ms\n",
            "200:\tlearn: 0.0640990\ttotal: 170ms\tremaining: 674ms\n",
            "300:\tlearn: 0.0378190\ttotal: 257ms\tremaining: 596ms\n",
            "400:\tlearn: 0.0251966\ttotal: 345ms\tremaining: 516ms\n",
            "500:\tlearn: 0.0162980\ttotal: 432ms\tremaining: 431ms\n",
            "600:\tlearn: 0.0113270\ttotal: 534ms\tremaining: 354ms\n",
            "700:\tlearn: 0.0079562\ttotal: 615ms\tremaining: 262ms\n",
            "800:\tlearn: 0.0053898\ttotal: 774ms\tremaining: 192ms\n",
            "900:\tlearn: 0.0038131\ttotal: 1.04s\tremaining: 115ms\n",
            "999:\tlearn: 0.0026881\ttotal: 1.19s\tremaining: 0us\n",
            "Mean Squared Error: 0.10656106857351375\n",
            "Mean Absolute Error: 0.2598731345859825\n",
            "R^2 Score: -0.23135777623895892\n"
          ]
        }
      ]
    },
    {
      "cell_type": "code",
      "source": [],
      "metadata": {
        "id": "rMe35tNg09o-"
      },
      "execution_count": null,
      "outputs": []
    }
  ]
}