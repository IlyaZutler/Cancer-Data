{
  "nbformat": 4,
  "nbformat_minor": 0,
  "metadata": {
    "colab": {
      "provenance": [],
      "authorship_tag": "ABX9TyNyWeG4tf60W3135PDvgdPP",
      "include_colab_link": true
    },
    "kernelspec": {
      "name": "python3",
      "display_name": "Python 3"
    },
    "language_info": {
      "name": "python"
    }
  },
  "cells": [
    {
      "cell_type": "markdown",
      "metadata": {
        "id": "view-in-github",
        "colab_type": "text"
      },
      "source": [
        "<a href=\"https://colab.research.google.com/github/IlyaZutler/Project-3-Berlin-Airbnb-Ratings/blob/main/first.ipynb\" target=\"_parent\"><img src=\"https://colab.research.google.com/assets/colab-badge.svg\" alt=\"Open In Colab\"/></a>"
      ]
    },
    {
      "cell_type": "code",
      "source": [
        "import pandas as pd\n",
        "!pip install openpyxl\n",
        "\n",
        "# prompt: панда показывать 200 столбцов, 200 строк, поля до 1000 символов\n",
        "\n",
        "pd.set_option('display.max_columns', 200)\n",
        "pd.set_option('display.max_rows', 200)\n",
        "pd.set_option('display.max_colwidth', 1000)\n"
      ],
      "metadata": {
        "id": "YkG-qlKl6GhK"
      },
      "execution_count": null,
      "outputs": []
    },
    {
      "cell_type": "code",
      "source": [
        "df = pd.read_excel('/content/TestColab.xlsx', engine='openpyxl')\n",
        "df.shape\n"
      ],
      "metadata": {
        "id": "O-feikZ4ED95",
        "outputId": "e74e3c76-a0cf-48de-9840-9034606116a8",
        "colab": {
          "base_uri": "https://localhost:8080/"
        }
      },
      "execution_count": 78,
      "outputs": [
        {
          "output_type": "execute_result",
          "data": {
            "text/plain": [
              "(134, 47)"
            ]
          },
          "metadata": {},
          "execution_count": 78
        }
      ]
    },
    {
      "cell_type": "markdown",
      "source": [],
      "metadata": {
        "id": "KaKDVkZwEs8J"
      }
    },
    {
      "cell_type": "code",
      "source": [
        "df.columns"
      ],
      "metadata": {
        "id": "nALxsBG8wxm4",
        "outputId": "dc15178e-6ad6-49bf-aef8-33067a2115e4",
        "colab": {
          "base_uri": "https://localhost:8080/"
        }
      },
      "execution_count": 79,
      "outputs": [
        {
          "output_type": "execute_result",
          "data": {
            "text/plain": [
              "Index(['index', 'Review ID', 'review_date', 'Reviewer ID', 'Reviewer Name',\n",
              "       'Comments', 'Listing ID', 'Listing URL', 'Listing Name', 'Host ID',\n",
              "       'Host URL', 'Host Name', 'Host Since', 'Host Response Time',\n",
              "       'Host Response Rate', 'Is Superhost', 'neighbourhood',\n",
              "       'Neighborhood Group', 'City', 'Postal Code', 'Country Code', 'Country',\n",
              "       'Latitude', 'Longitude', 'Is Exact Location', 'Property Type',\n",
              "       'Room Type', 'Accomodates', 'Bathrooms', 'Bedrooms', 'Beds',\n",
              "       'Square Feet', 'Price', 'Guests Included', 'Min Nights', 'Reviews',\n",
              "       'First Review', 'Last Review', 'Overall Rating', 'Accuracy Rating',\n",
              "       'Cleanliness Rating', 'Checkin Rating', 'Communication Rating',\n",
              "       'Location Rating', 'Value Rating', 'Instant Bookable',\n",
              "       'Business Travel Ready'],\n",
              "      dtype='object')"
            ]
          },
          "metadata": {},
          "execution_count": 79
        }
      ]
    },
    {
      "cell_type": "code",
      "source": [
        "apartments = df.drop(columns=['index', 'Review ID', 'review_date','Reviewer ID', 'Reviewer Name','Comments' ]).drop_duplicates()\n",
        "apartments.head(1)"
      ],
      "metadata": {
        "colab": {
          "base_uri": "https://localhost:8080/",
          "height": 187
        },
        "id": "GizaLmts56xU",
        "outputId": "91e7311d-4693-4221-b776-7b35a63a75a7"
      },
      "execution_count": 80,
      "outputs": [
        {
          "output_type": "execute_result",
          "data": {
            "text/plain": [
              "   Listing ID                            Listing URL  \\\n",
              "0    10006647  https://www.airbnb.com/rooms/10006647   \n",
              "\n",
              "                  Listing Name   Host ID  \\\n",
              "0  Very central and very quite  40791092   \n",
              "\n",
              "                                     Host URL Host Name Host Since  \\\n",
              "0  https://www.airbnb.com/users/show/40791092   Arkadij   08-07-15   \n",
              "\n",
              "   Host Response Time  Host Response Rate Is Superhost neighbourhood  \\\n",
              "0  within a few hours                 1.0            f         Mitte   \n",
              "\n",
              "  Neighborhood Group    City  Postal Code Country Code  Country  Latitude  \\\n",
              "0              Mitte  Berlin      10178.0           DE  Germany  52.52134   \n",
              "\n",
              "   Longitude Is Exact Location Property Type     Room Type  Accomodates  \\\n",
              "0   13.41866                 t     Apartment  Private room            2   \n",
              "\n",
              "   Bathrooms  Bedrooms  Beds  Square Feet  Price  Guests Included  Min Nights  \\\n",
              "0        1.0       1.0   1.0          NaN   35.0                1           1   \n",
              "\n",
              "   Reviews First Review Last Review  Overall Rating  Accuracy Rating  \\\n",
              "0       20     01-03-16    02-12-17            92.0              9.0   \n",
              "\n",
              "   Cleanliness Rating  Checkin Rating  Communication Rating  Location Rating  \\\n",
              "0                 8.0             9.0                  10.0             10.0   \n",
              "\n",
              "   Value Rating Instant Bookable Business Travel Ready  \n",
              "0           9.0                f                     f  "
            ],
            "text/html": [
              "\n",
              "  <div id=\"df-8be45176-d7db-44c1-9e8e-ea5ceecd1348\" class=\"colab-df-container\">\n",
              "    <div>\n",
              "<style scoped>\n",
              "    .dataframe tbody tr th:only-of-type {\n",
              "        vertical-align: middle;\n",
              "    }\n",
              "\n",
              "    .dataframe tbody tr th {\n",
              "        vertical-align: top;\n",
              "    }\n",
              "\n",
              "    .dataframe thead th {\n",
              "        text-align: right;\n",
              "    }\n",
              "</style>\n",
              "<table border=\"1\" class=\"dataframe\">\n",
              "  <thead>\n",
              "    <tr style=\"text-align: right;\">\n",
              "      <th></th>\n",
              "      <th>Listing ID</th>\n",
              "      <th>Listing URL</th>\n",
              "      <th>Listing Name</th>\n",
              "      <th>Host ID</th>\n",
              "      <th>Host URL</th>\n",
              "      <th>Host Name</th>\n",
              "      <th>Host Since</th>\n",
              "      <th>Host Response Time</th>\n",
              "      <th>Host Response Rate</th>\n",
              "      <th>Is Superhost</th>\n",
              "      <th>neighbourhood</th>\n",
              "      <th>Neighborhood Group</th>\n",
              "      <th>City</th>\n",
              "      <th>Postal Code</th>\n",
              "      <th>Country Code</th>\n",
              "      <th>Country</th>\n",
              "      <th>Latitude</th>\n",
              "      <th>Longitude</th>\n",
              "      <th>Is Exact Location</th>\n",
              "      <th>Property Type</th>\n",
              "      <th>Room Type</th>\n",
              "      <th>Accomodates</th>\n",
              "      <th>Bathrooms</th>\n",
              "      <th>Bedrooms</th>\n",
              "      <th>Beds</th>\n",
              "      <th>Square Feet</th>\n",
              "      <th>Price</th>\n",
              "      <th>Guests Included</th>\n",
              "      <th>Min Nights</th>\n",
              "      <th>Reviews</th>\n",
              "      <th>First Review</th>\n",
              "      <th>Last Review</th>\n",
              "      <th>Overall Rating</th>\n",
              "      <th>Accuracy Rating</th>\n",
              "      <th>Cleanliness Rating</th>\n",
              "      <th>Checkin Rating</th>\n",
              "      <th>Communication Rating</th>\n",
              "      <th>Location Rating</th>\n",
              "      <th>Value Rating</th>\n",
              "      <th>Instant Bookable</th>\n",
              "      <th>Business Travel Ready</th>\n",
              "    </tr>\n",
              "  </thead>\n",
              "  <tbody>\n",
              "    <tr>\n",
              "      <th>0</th>\n",
              "      <td>10006647</td>\n",
              "      <td>https://www.airbnb.com/rooms/10006647</td>\n",
              "      <td>Very central and very quite</td>\n",
              "      <td>40791092</td>\n",
              "      <td>https://www.airbnb.com/users/show/40791092</td>\n",
              "      <td>Arkadij</td>\n",
              "      <td>08-07-15</td>\n",
              "      <td>within a few hours</td>\n",
              "      <td>1.0</td>\n",
              "      <td>f</td>\n",
              "      <td>Mitte</td>\n",
              "      <td>Mitte</td>\n",
              "      <td>Berlin</td>\n",
              "      <td>10178.0</td>\n",
              "      <td>DE</td>\n",
              "      <td>Germany</td>\n",
              "      <td>52.52134</td>\n",
              "      <td>13.41866</td>\n",
              "      <td>t</td>\n",
              "      <td>Apartment</td>\n",
              "      <td>Private room</td>\n",
              "      <td>2</td>\n",
              "      <td>1.0</td>\n",
              "      <td>1.0</td>\n",
              "      <td>1.0</td>\n",
              "      <td>NaN</td>\n",
              "      <td>35.0</td>\n",
              "      <td>1</td>\n",
              "      <td>1</td>\n",
              "      <td>20</td>\n",
              "      <td>01-03-16</td>\n",
              "      <td>02-12-17</td>\n",
              "      <td>92.0</td>\n",
              "      <td>9.0</td>\n",
              "      <td>8.0</td>\n",
              "      <td>9.0</td>\n",
              "      <td>10.0</td>\n",
              "      <td>10.0</td>\n",
              "      <td>9.0</td>\n",
              "      <td>f</td>\n",
              "      <td>f</td>\n",
              "    </tr>\n",
              "  </tbody>\n",
              "</table>\n",
              "</div>\n",
              "    <div class=\"colab-df-buttons\">\n",
              "\n",
              "  <div class=\"colab-df-container\">\n",
              "    <button class=\"colab-df-convert\" onclick=\"convertToInteractive('df-8be45176-d7db-44c1-9e8e-ea5ceecd1348')\"\n",
              "            title=\"Convert this dataframe to an interactive table.\"\n",
              "            style=\"display:none;\">\n",
              "\n",
              "  <svg xmlns=\"http://www.w3.org/2000/svg\" height=\"24px\" viewBox=\"0 -960 960 960\">\n",
              "    <path d=\"M120-120v-720h720v720H120Zm60-500h600v-160H180v160Zm220 220h160v-160H400v160Zm0 220h160v-160H400v160ZM180-400h160v-160H180v160Zm440 0h160v-160H620v160ZM180-180h160v-160H180v160Zm440 0h160v-160H620v160Z\"/>\n",
              "  </svg>\n",
              "    </button>\n",
              "\n",
              "  <style>\n",
              "    .colab-df-container {\n",
              "      display:flex;\n",
              "      gap: 12px;\n",
              "    }\n",
              "\n",
              "    .colab-df-convert {\n",
              "      background-color: #E8F0FE;\n",
              "      border: none;\n",
              "      border-radius: 50%;\n",
              "      cursor: pointer;\n",
              "      display: none;\n",
              "      fill: #1967D2;\n",
              "      height: 32px;\n",
              "      padding: 0 0 0 0;\n",
              "      width: 32px;\n",
              "    }\n",
              "\n",
              "    .colab-df-convert:hover {\n",
              "      background-color: #E2EBFA;\n",
              "      box-shadow: 0px 1px 2px rgba(60, 64, 67, 0.3), 0px 1px 3px 1px rgba(60, 64, 67, 0.15);\n",
              "      fill: #174EA6;\n",
              "    }\n",
              "\n",
              "    .colab-df-buttons div {\n",
              "      margin-bottom: 4px;\n",
              "    }\n",
              "\n",
              "    [theme=dark] .colab-df-convert {\n",
              "      background-color: #3B4455;\n",
              "      fill: #D2E3FC;\n",
              "    }\n",
              "\n",
              "    [theme=dark] .colab-df-convert:hover {\n",
              "      background-color: #434B5C;\n",
              "      box-shadow: 0px 1px 3px 1px rgba(0, 0, 0, 0.15);\n",
              "      filter: drop-shadow(0px 1px 2px rgba(0, 0, 0, 0.3));\n",
              "      fill: #FFFFFF;\n",
              "    }\n",
              "  </style>\n",
              "\n",
              "    <script>\n",
              "      const buttonEl =\n",
              "        document.querySelector('#df-8be45176-d7db-44c1-9e8e-ea5ceecd1348 button.colab-df-convert');\n",
              "      buttonEl.style.display =\n",
              "        google.colab.kernel.accessAllowed ? 'block' : 'none';\n",
              "\n",
              "      async function convertToInteractive(key) {\n",
              "        const element = document.querySelector('#df-8be45176-d7db-44c1-9e8e-ea5ceecd1348');\n",
              "        const dataTable =\n",
              "          await google.colab.kernel.invokeFunction('convertToInteractive',\n",
              "                                                    [key], {});\n",
              "        if (!dataTable) return;\n",
              "\n",
              "        const docLinkHtml = 'Like what you see? Visit the ' +\n",
              "          '<a target=\"_blank\" href=https://colab.research.google.com/notebooks/data_table.ipynb>data table notebook</a>'\n",
              "          + ' to learn more about interactive tables.';\n",
              "        element.innerHTML = '';\n",
              "        dataTable['output_type'] = 'display_data';\n",
              "        await google.colab.output.renderOutput(dataTable, element);\n",
              "        const docLink = document.createElement('div');\n",
              "        docLink.innerHTML = docLinkHtml;\n",
              "        element.appendChild(docLink);\n",
              "      }\n",
              "    </script>\n",
              "  </div>\n",
              "\n",
              "\n",
              "    </div>\n",
              "  </div>\n"
            ],
            "application/vnd.google.colaboratory.intrinsic+json": {
              "type": "dataframe",
              "variable_name": "apartments"
            }
          },
          "metadata": {},
          "execution_count": 80
        }
      ]
    },
    {
      "cell_type": "code",
      "source": [
        "apartments.shape"
      ],
      "metadata": {
        "id": "BKQnNrUtyY9A",
        "outputId": "ee698077-a526-4375-faac-df130e86eafb",
        "colab": {
          "base_uri": "https://localhost:8080/"
        }
      },
      "execution_count": 81,
      "outputs": [
        {
          "output_type": "execute_result",
          "data": {
            "text/plain": [
              "(16, 41)"
            ]
          },
          "metadata": {},
          "execution_count": 81
        }
      ]
    },
    {
      "cell_type": "code",
      "source": [
        "import numpy as np\n",
        "import pandas as pd\n",
        "import pysal.lib as ps\n",
        "from pysal.explore import esda\n",
        "from scipy.spatial import distance_matrix\n",
        "\n",
        "# Пример данных\n",
        "np.random.seed(0)\n",
        "n = 100  # количество точек\n",
        "coords = np.random.rand(n, 2)  # координаты точек\n",
        "values = np.random.randint(1, 11, size=n)  # значения в точках\n",
        "\n",
        "# Создание DataFrame\n",
        "df = pd.DataFrame({'x': coords[:, 0], 'y': coords[:, 1], 'value': values})\n",
        "\n",
        "# Вычисление матрицы расстояний\n",
        "dist_matrix = distance_matrix(coords, coords)\n",
        "\n",
        "# Обратная величина расстояния\n",
        "weights_matrix = 1 / dist_matrix\n",
        "np.fill_diagonal(weights_matrix, 0)  # Обнуление диагонали, чтобы избежать деления на ноль\n",
        "\n",
        "# Преобразование в формет, совместимый с PySAL\n",
        "w = ps.lib.weights.full.Full(weights_matrix)\n",
        "\n",
        "# Вычисление Moran's I\n",
        "moran = esda.Moran(df['value'], w)\n",
        "\n",
        "print(f\"Moran's I: {moran.I}\")\n",
        "print(f\"p-value: {moran.p_norm}\")\n"
      ],
      "metadata": {
        "id": "W0co2bB-ha4J"
      },
      "execution_count": null,
      "outputs": []
    },
    {
      "cell_type": "code",
      "source": [
        "!pip install geopy"
      ],
      "metadata": {
        "id": "QYP6gMtRhsrE",
        "outputId": "cacc8728-7a27-43e3-d858-51dd508889ec",
        "colab": {
          "base_uri": "https://localhost:8080/"
        }
      },
      "execution_count": 82,
      "outputs": [
        {
          "output_type": "stream",
          "name": "stdout",
          "text": [
            "Requirement already satisfied: geopy in /usr/local/lib/python3.10/dist-packages (2.3.0)\n",
            "Requirement already satisfied: geographiclib<3,>=1.52 in /usr/local/lib/python3.10/dist-packages (from geopy) (2.0)\n"
          ]
        }
      ]
    },
    {
      "cell_type": "code",
      "source": [
        "from geopy.distance import geodesic\n",
        "\n",
        "# Координаты точек (широта и долгота)\n",
        "coords_1 = (52.5200, 13.4050)  # Берлин\n",
        "coords_2 = (48.8566, 2.3522)   # Париж\n",
        "\n",
        "# Вычисление расстояния в километрах\n",
        "distance_km = geodesic(coords_1, coords_2).kilometers\n",
        "\n",
        "# Перевод расстояния в метры\n",
        "distance_meters = distance_km * 1000\n",
        "\n",
        "print(f\"Расстояние между точками: {distance_meters:.2f} метров\")\n"
      ],
      "metadata": {
        "id": "dYkijnq2h0tb",
        "outputId": "7eeecc44-d6bc-4550-fee7-7aeaa72ab93e",
        "colab": {
          "base_uri": "https://localhost:8080/"
        }
      },
      "execution_count": 83,
      "outputs": [
        {
          "output_type": "stream",
          "name": "stdout",
          "text": [
            "Расстояние между точками: 879699.32 метров\n"
          ]
        }
      ]
    }
  ]
}